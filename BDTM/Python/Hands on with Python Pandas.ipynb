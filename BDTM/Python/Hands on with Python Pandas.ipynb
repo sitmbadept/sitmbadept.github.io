{
 "cells": [
  {
   "cell_type": "code",
   "execution_count": null,
   "id": "2cbe9a5e",
   "metadata": {},
   "outputs": [],
   "source": [
    "pip install pandas"
   ]
  },
  {
   "cell_type": "code",
   "execution_count": null,
   "id": "0fe05a8e",
   "metadata": {},
   "outputs": [],
   "source": [
    "import pandas as pd"
   ]
  },
  {
   "cell_type": "code",
   "execution_count": null,
   "id": "bb30dee0",
   "metadata": {},
   "outputs": [],
   "source": [
    "pd.read_csv(\"https://raw.githubusercontent.com/sitmbadept/sitmbadept.github.io/main/BDTM/R/IPL.csv\")"
   ]
  },
  {
   "cell_type": "code",
   "execution_count": null,
   "id": "f5aebe0b",
   "metadata": {},
   "outputs": [],
   "source": [
    "pd.read_excel(\"https://github.com/sitmbadept/sitmbadept.github.io/blob/main/BDTM/R/orders_data.xlsx?raw=true\")"
   ]
  },
  {
   "cell_type": "code",
   "execution_count": null,
   "id": "c65940d7",
   "metadata": {},
   "outputs": [],
   "source": [
    "ipl = pd.read_csv(\"https://raw.githubusercontent.com/sitmbadept/sitmbadept.github.io/main/BDTM/R/IPL.csv\")"
   ]
  },
  {
   "cell_type": "code",
   "execution_count": null,
   "id": "92fac416",
   "metadata": {},
   "outputs": [],
   "source": [
    "# View DataFrame Structure \n",
    "ipl.info()"
   ]
  },
  {
   "cell_type": "code",
   "execution_count": null,
   "id": "0da0d22b",
   "metadata": {},
   "outputs": [],
   "source": [
    "# View No of Rows & Columns \n",
    "ipl.shape\n",
    "\n",
    "# 132 rows & 26 columns"
   ]
  },
  {
   "cell_type": "code",
   "execution_count": null,
   "id": "f1e1070f",
   "metadata": {},
   "outputs": [],
   "source": [
    "# Display First & Last few records\n",
    "ipl.head() #Default is 5"
   ]
  },
  {
   "cell_type": "code",
   "execution_count": null,
   "id": "67601fd2",
   "metadata": {},
   "outputs": [],
   "source": [
    "ipl.head(2) #Custom number of records"
   ]
  },
  {
   "cell_type": "code",
   "execution_count": null,
   "id": "d1aa064e",
   "metadata": {},
   "outputs": [],
   "source": [
    "ipl.tail() #Default is 5"
   ]
  },
  {
   "cell_type": "code",
   "execution_count": null,
   "id": "7aa3a74d",
   "metadata": {},
   "outputs": [],
   "source": [
    "# Frequency count of unique value present in Columns\n",
    "ipl['COUNTRY'].value_counts()"
   ]
  },
  {
   "cell_type": "code",
   "execution_count": null,
   "id": "f744e1ea",
   "metadata": {},
   "outputs": [],
   "source": [
    "# Cross tab for multiple columns\n",
    "pd.crosstab(ipl['COUNTRY'], ipl['PLAYING ROLE'])"
   ]
  },
  {
   "cell_type": "code",
   "execution_count": null,
   "id": "56a4b69c",
   "metadata": {},
   "outputs": [],
   "source": [
    "ipl=ipl[ipl['AGE'].isnull()==False]"
   ]
  },
  {
   "cell_type": "code",
   "execution_count": null,
   "id": "b56a6d76",
   "metadata": {},
   "outputs": [],
   "source": [
    "# Converting Data From one data type to another\n",
    "ipl['AUCTION YEAR'] = ipl['AUCTION YEAR'].astype('int')"
   ]
  },
  {
   "cell_type": "code",
   "execution_count": null,
   "id": "d981a0c4",
   "metadata": {},
   "outputs": [],
   "source": [
    "ipl[['COUNTRY', 'TEAM', 'PLAYING ROLE','AUCTION YEAR', 'BASE PRICE', 'SOLD PRICE']].sort_values(['SOLD PRICE'])"
   ]
  },
  {
   "cell_type": "code",
   "execution_count": null,
   "id": "dc9d3820",
   "metadata": {},
   "outputs": [],
   "source": [
    "ipl[['COUNTRY', 'TEAM', 'PLAYING ROLE','AUCTION YEAR', 'BASE PRICE', 'SOLD PRICE']]\\\n",
    "    .sort_values(['SOLD PRICE'], ascending=False)"
   ]
  },
  {
   "cell_type": "code",
   "execution_count": null,
   "id": "35a7eba3",
   "metadata": {},
   "outputs": [],
   "source": [
    "# Creating new columns\n",
    "ipl['AUCTION_BY'] = \"BCCI\" #\"IPL board\""
   ]
  },
  {
   "cell_type": "code",
   "execution_count": null,
   "id": "c1ad0141",
   "metadata": {},
   "outputs": [],
   "source": [
    "## Grouping & Aggregation(Summary)\n",
    "\n",
    "ipl['BASE PRICE'].sum() #2.49 Crore "
   ]
  },
  {
   "cell_type": "code",
   "execution_count": null,
   "id": "6f35e5ff",
   "metadata": {},
   "outputs": [],
   "source": [
    "# Base Price summary by Team\n",
    "ipl.groupby(['TEAM']).agg({\"BASE PRICE\":\"sum\"})"
   ]
  },
  {
   "cell_type": "code",
   "execution_count": null,
   "id": "62c654e9",
   "metadata": {},
   "outputs": [],
   "source": [
    "# Base Price summary by Team\n",
    "ipl.groupby(['TEAM']).agg({\"BASE PRICE\":[\"sum\",\"mean\", \"max\",\"min\"]})"
   ]
  },
  {
   "cell_type": "code",
   "execution_count": null,
   "id": "3df02635",
   "metadata": {},
   "outputs": [],
   "source": [
    "# Base Price summary by Team\n",
    "ipl.groupby(['TEAM']).agg({\"BASE PRICE\":[\"sum\",\"mean\", \"max\",\"min\"],\n",
    "                           \"SOLD PRICE\":[\"sum\",\"mean\", \"max\",\"min\"]})"
   ]
  },
  {
   "cell_type": "code",
   "execution_count": null,
   "id": "74bf853f",
   "metadata": {},
   "outputs": [],
   "source": [
    "# Renaming columns\n",
    "ipl.rename(columns={'PLAYER NAME':'PLAYER',\n",
    "                    'AGE': 'AgeGroup',\n",
    "                    'PLAYING ROLE': 'ROLE'},\n",
    "          inplace=True\n",
    "          )"
   ]
  },
  {
   "cell_type": "code",
   "execution_count": null,
   "id": "69b808bd",
   "metadata": {},
   "outputs": [],
   "source": [
    "ipl.drop([\"ROLE\", \"PLAYER\", \"AgeGroup\"],\n",
    "         inplace=True,\n",
    "         axis=1)"
   ]
  },
  {
   "cell_type": "code",
   "execution_count": null,
   "id": "83371e96",
   "metadata": {},
   "outputs": [],
   "source": [
    "# Select Row based on Index\n",
    "ipl[0:10]"
   ]
  },
  {
   "cell_type": "code",
   "execution_count": null,
   "id": "a0ef1ab2",
   "metadata": {},
   "outputs": [],
   "source": [
    "# iloc provide two index Row Index & Column index so we can slice dataframe based on Row & Col index\n",
    "ipl.iloc[1,2] #2nd row & 3rd column value...index starts from 0 so 0 is first column & row in DF"
   ]
  },
  {
   "cell_type": "code",
   "execution_count": null,
   "id": "46aa54af",
   "metadata": {},
   "outputs": [],
   "source": [
    "ipl.iloc[0:10] #0-10 rows & all the columns\n",
    "ipl.iloc[0:10, 1:5] #0-10 rows & 1-5 columns"
   ]
  },
  {
   "cell_type": "code",
   "execution_count": null,
   "id": "375631aa",
   "metadata": {},
   "outputs": [],
   "source": [
    "ipl.iloc[[0,10,20],[1,10,2,10]]"
   ]
  },
  {
   "cell_type": "code",
   "execution_count": null,
   "id": "4acd8d1d",
   "metadata": {},
   "outputs": [],
   "source": [
    "ipl[ipl['COUNTRY']=='SL']"
   ]
  },
  {
   "cell_type": "code",
   "execution_count": null,
   "id": "3387dd46",
   "metadata": {},
   "outputs": [],
   "source": [
    "ipl[\n",
    "    (ipl['COUNTRY']=='SL') &\n",
    "    (ipl['TEAM']=='MI') &\n",
    "    (ipl['AGE']==2.0)\n",
    "]"
   ]
  },
  {
   "cell_type": "code",
   "execution_count": null,
   "id": "4fdb023b",
   "metadata": {},
   "outputs": [],
   "source": []
  }
 ],
 "metadata": {
  "kernelspec": {
   "display_name": "Python 3 (ipykernel)",
   "language": "python",
   "name": "python3"
  },
  "language_info": {
   "codemirror_mode": {
    "name": "ipython",
    "version": 3
   },
   "file_extension": ".py",
   "mimetype": "text/x-python",
   "name": "python",
   "nbconvert_exporter": "python",
   "pygments_lexer": "ipython3",
   "version": "3.9.7"
  }
 },
 "nbformat": 4,
 "nbformat_minor": 5
}
