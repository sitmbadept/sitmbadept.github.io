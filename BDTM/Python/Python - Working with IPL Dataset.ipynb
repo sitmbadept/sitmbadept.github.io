{
 "cells": [
  {
   "cell_type": "markdown",
   "id": "e8f4d729-90c5-4ecb-845e-964dde14e302",
   "metadata": {},
   "source": [
    "### IPL Auction Price Data\n",
    "\n",
    "- The Indian Premier League (IPL) is a professional League for Twenty20(T20) cricket championship that was started in 2008 in India.\n",
    "- The first IPL auction was held in 2008 for ownership of the team for 10 years with a base price of USD 50 million.\n",
    "- The franchise acquires players, through an English auction that is conducted every year. However, there are several rules imposed by the IPL for example there is a maximum cap on the money a franchise can spend on buying players.\n",
    "- The performance of the players could be measured through several metrics. Although the IPL follows the T20 format of the game, it is possible that the performance of the players in the other formats of the game such as Test matches,  One-Day matches can influence player pricing. Few players have excellent records in the Test Matches, but their records in T20 matches are not very impressive.\n",
    "- The Dataset consists of the performance of 130 Players measured through various performance metrics such as Batting strike rate, economy rate, wicket in Tets matches, Bowling average..etc in the year 2013\n",
    "\n",
    "\n",
    "Dataset Link:\n",
    "https://raw.githubusercontent.com/sitmbadept/sitmbadept.github.io/main/BDTM/R/IPL.csv"
   ]
  },
  {
   "cell_type": "markdown",
   "id": "80dc39a9-621c-4c91-8664-dc11e9a92ae6",
   "metadata": {},
   "source": [
    "Write a Python code for following items:\n",
    "1. Import pandas library in Python\n",
    "2. Read IPL dataset\n",
    "3. Display all the columns names and data types\n",
    "4. Display columns names for the dataset\n",
    "5. Display Shape of DataFrame\n",
    "6. Display quick summary of dataset\n",
    "7. Print Dataset\n",
    "8. Display top 5 records\n",
    "10. Display last 5 records\n",
    "11. Access Variable in Python\n",
    "12. Frequency count for TEAM Label/Categorical variable\n",
    "13. Display Unique value for TEAM columns\n",
    "14. Display Unique count for TEAM & COUNTRY"
   ]
  },
  {
   "cell_type": "code",
   "execution_count": null,
   "id": "a6b29369-cf7a-4fcc-b5ec-9e15e1409017",
   "metadata": {},
   "outputs": [],
   "source": [
    "#1. Import pandas library in Python\n",
    "\n",
    "# Download & Install pandas library if you have not installed\n",
    "# !pip install pandas\n",
    "import pandas as pd"
   ]
  },
  {
   "cell_type": "code",
   "execution_count": null,
   "id": "6fc031a6-223d-46a6-a4bc-7e320084947f",
   "metadata": {},
   "outputs": [],
   "source": [
    "#2. Read IPL dataset\n",
    "ipl = pd.read_csv(\"https://raw.githubusercontent.com/sitmbadept/sitmbadept.github.io/main/BDTM/R/IPL.csv\")"
   ]
  },
  {
   "cell_type": "code",
   "execution_count": null,
   "id": "07484bc7-cd48-4e7a-be27-284b0f9b1e45",
   "metadata": {},
   "outputs": [],
   "source": [
    "#3. Display all the columns names and data types\n",
    "ipl.dtypes"
   ]
  },
  {
   "cell_type": "code",
   "execution_count": null,
   "id": "982879a1-ad0a-472b-8f94-557848f98cf5",
   "metadata": {},
   "outputs": [],
   "source": [
    "#4. Display columns names for the dataset\n",
    "ipl.columns"
   ]
  },
  {
   "cell_type": "code",
   "execution_count": null,
   "id": "1edde7ba-cc95-4fce-bb20-f33d61ab87d4",
   "metadata": {},
   "outputs": [],
   "source": [
    "#5. Display Shape of DataFrame\n",
    "ipl.shape"
   ]
  },
  {
   "cell_type": "code",
   "execution_count": null,
   "id": "da465843-f1b2-4c54-afb0-83602cc7111c",
   "metadata": {},
   "outputs": [],
   "source": [
    "#6. Display quick summary of dataset\n",
    "ipl.describe(include=\"all\")"
   ]
  },
  {
   "cell_type": "code",
   "execution_count": null,
   "id": "b3e9b744-898d-41ba-bde4-871200bf2961",
   "metadata": {},
   "outputs": [],
   "source": [
    "# 7. Print Dataset\n",
    "print(ipl)"
   ]
  },
  {
   "cell_type": "code",
   "execution_count": null,
   "id": "1bc44ea5-d289-489e-a249-972ebceca52b",
   "metadata": {},
   "outputs": [],
   "source": [
    "#8. Display top 5 records\n",
    "ipl.head()"
   ]
  },
  {
   "cell_type": "code",
   "execution_count": null,
   "id": "11d813bc-8dd6-4fb6-b197-f8a02469c060",
   "metadata": {},
   "outputs": [],
   "source": [
    "# Display top 50 records\n",
    "ipl.head(50)"
   ]
  },
  {
   "cell_type": "code",
   "execution_count": null,
   "id": "01d3f594-34ce-4c78-a4df-d5dfc434360a",
   "metadata": {},
   "outputs": [],
   "source": [
    "# 9.Display last 5 records\n",
    "ipl.tail()"
   ]
  },
  {
   "cell_type": "code",
   "execution_count": null,
   "id": "0e260af4-3640-4594-b849-6e5c96a7e1e2",
   "metadata": {},
   "outputs": [],
   "source": [
    "# Display last 20 records\n",
    "ipl.tail(20)"
   ]
  },
  {
   "cell_type": "code",
   "execution_count": null,
   "id": "bbab3f42-2a50-4c7e-9c82-7709764dbabb",
   "metadata": {},
   "outputs": [],
   "source": [
    "# 10. Access Variable in Python\n",
    "print(ipl['AGE'])"
   ]
  },
  {
   "cell_type": "code",
   "execution_count": null,
   "id": "b3ec41d5-ed9d-4a23-b888-b7c6f18e38aa",
   "metadata": {},
   "outputs": [],
   "source": [
    "print(ipl['COUNTRY'])"
   ]
  },
  {
   "cell_type": "code",
   "execution_count": null,
   "id": "6d28bb71-5274-4cae-a80d-bc88900ad87c",
   "metadata": {},
   "outputs": [],
   "source": [
    "print(ipl[['TEAM']]) #With Double Square Brackets"
   ]
  },
  {
   "cell_type": "code",
   "execution_count": null,
   "id": "c7a6eb15-6ac0-40c3-9273-a18d3bf67e1e",
   "metadata": {},
   "outputs": [],
   "source": [
    "# 12. Frequency count for TEAM Label/Categorical variable\n",
    "ipl[['TEAM']].value_counts()"
   ]
  },
  {
   "cell_type": "code",
   "execution_count": null,
   "id": "0c7a4200-4f2b-4e16-ac01-a1edca351c17",
   "metadata": {},
   "outputs": [],
   "source": [
    "#13. Display Unique value for TEAM columns\n",
    "ipl['TEAM'].unique()"
   ]
  },
  {
   "cell_type": "code",
   "execution_count": null,
   "id": "fd9adc47-0bf6-4b8d-9e84-c597ce77c360",
   "metadata": {},
   "outputs": [],
   "source": [
    "# 14. Display Unique count for TEAM & COUNTRY\n",
    "ipl[['TEAM','COUNTRY']].value_counts()"
   ]
  }
 ],
 "metadata": {
  "kernelspec": {
   "display_name": "Python 3 (ipykernel)",
   "language": "python",
   "name": "python3"
  },
  "language_info": {
   "codemirror_mode": {
    "name": "ipython",
    "version": 3
   },
   "file_extension": ".py",
   "mimetype": "text/x-python",
   "name": "python",
   "nbconvert_exporter": "python",
   "pygments_lexer": "ipython3",
   "version": "3.9.7"
  }
 },
 "nbformat": 4,
 "nbformat_minor": 5
}
