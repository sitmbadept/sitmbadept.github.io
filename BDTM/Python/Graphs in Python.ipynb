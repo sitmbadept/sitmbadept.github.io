{
 "cells": [
  {
   "cell_type": "code",
   "execution_count": null,
   "id": "7ba4ea13",
   "metadata": {},
   "outputs": [],
   "source": [
    "import matplotlib.pyplot as plt\n",
    "import seaborn as sn\n",
    "import pandas as pd"
   ]
  },
  {
   "cell_type": "code",
   "execution_count": null,
   "id": "47f97186",
   "metadata": {},
   "outputs": [],
   "source": [
    "ipl = pd.read_csv(\"https://raw.githubusercontent.com/sitmbadept/sitmbadept.github.io/main/BDTM/R/IPL.csv\")"
   ]
  },
  {
   "cell_type": "code",
   "execution_count": null,
   "id": "f0bb3006",
   "metadata": {},
   "outputs": [],
   "source": [
    "ipl=ipl[ipl['AGE'].isnull()==False]"
   ]
  },
  {
   "cell_type": "code",
   "execution_count": null,
   "id": "f3faca5d",
   "metadata": {},
   "outputs": [],
   "source": [
    "# Bar Plot\n",
    "sn.barplot(x=\"COUNTRY\",\n",
    "           y=\"SOLD PRICE\",\n",
    "          data = ipl)"
   ]
  },
  {
   "cell_type": "code",
   "execution_count": null,
   "id": "6456a9f4",
   "metadata": {},
   "outputs": [],
   "source": [
    "# Bar Plot with additional categories & lagend\n",
    "sn.barplot(x=\"COUNTRY\",\n",
    "           y=\"SOLD PRICE\",\n",
    "           hue=\"PLAYING ROLE\",\n",
    "          data = ipl)"
   ]
  },
  {
   "cell_type": "code",
   "execution_count": null,
   "id": "a6f66e42",
   "metadata": {},
   "outputs": [],
   "source": [
    "# Histogram\n",
    "plt.hist(ipl['SOLD PRICE'])"
   ]
  },
  {
   "cell_type": "code",
   "execution_count": null,
   "id": "88a12aae",
   "metadata": {},
   "outputs": [],
   "source": [
    "# Density Plot\n",
    "sn.distplot(ipl['SOLD PRICE'])"
   ]
  },
  {
   "cell_type": "code",
   "execution_count": null,
   "id": "413cc349",
   "metadata": {},
   "outputs": [],
   "source": [
    "# Box plot\n",
    "plt.boxplot(ipl['SOLD PRICE'])"
   ]
  },
  {
   "cell_type": "code",
   "execution_count": null,
   "id": "0a055db8",
   "metadata": {},
   "outputs": [],
   "source": [
    "# Box plot wiht categorical variable\n",
    "sn.boxplot(x=\"PLAYING ROLE\",\n",
    "           y=\"SOLD PRICE\",\n",
    "           data= ipl)"
   ]
  },
  {
   "cell_type": "code",
   "execution_count": null,
   "id": "892dedda",
   "metadata": {},
   "outputs": [],
   "source": [
    "# Scater Plot\n",
    "plt.scatter(x= \"SIXERS\",\n",
    "            y=\"SOLD PRICE\",\n",
    "            data=ipl)"
   ]
  },
  {
   "cell_type": "code",
   "execution_count": null,
   "id": "b3e72299",
   "metadata": {},
   "outputs": [],
   "source": [
    "# Pair Plot\n",
    "sn.pairplot(ipl[['SIXERS', 'AVE', 'SOLD PRICE']])"
   ]
  },
  {
   "cell_type": "code",
   "execution_count": null,
   "id": "19cc0be5",
   "metadata": {},
   "outputs": [],
   "source": [
    "# Heatmap & Correlation\n",
    "\n",
    "table_cor =ipl[['SIXERS','SOLD PRICE','AVE']].corr()\n",
    "\n",
    "sn.heatmap(table_cor, annot=True)"
   ]
  }
 ],
 "metadata": {
  "kernelspec": {
   "display_name": "Python 3 (ipykernel)",
   "language": "python",
   "name": "python3"
  },
  "language_info": {
   "codemirror_mode": {
    "name": "ipython",
    "version": 3
   },
   "file_extension": ".py",
   "mimetype": "text/x-python",
   "name": "python",
   "nbconvert_exporter": "python",
   "pygments_lexer": "ipython3",
   "version": "3.9.7"
  }
 },
 "nbformat": 4,
 "nbformat_minor": 5
}
