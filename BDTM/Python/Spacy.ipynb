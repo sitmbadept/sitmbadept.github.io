{
 "cells": [
  {
   "cell_type": "code",
   "execution_count": null,
   "id": "126ab923",
   "metadata": {},
   "outputs": [],
   "source": [
    "import spacy\n",
    "text_engine = spacy.load(\"en_core_web_sm\")"
   ]
  },
  {
   "cell_type": "code",
   "execution_count": null,
   "id": "a1e66723",
   "metadata": {},
   "outputs": [],
   "source": [
    "doc = text_engine(\"Apple is looking to buying U.K. startup for $1 billion.\")"
   ]
  },
  {
   "cell_type": "code",
   "execution_count": null,
   "id": "3dfbc11e",
   "metadata": {},
   "outputs": [],
   "source": [
    "# Tokenization : Splitting Paragraphs/Sentences into words.\n",
    "for token in doc:\n",
    "    print(token.text)"
   ]
  },
  {
   "cell_type": "code",
   "execution_count": null,
   "id": "c58f4df8",
   "metadata": {},
   "outputs": [],
   "source": [
    "# Words details POS(Part of Speech), Dependency, Tag, Shape..etc\n",
    "\n",
    "for token in doc:\n",
    "    print(token.text)\n",
    "    print(\"\\t\",token.pos_)\n",
    "    print(\"\\t\",token.dep_)\n",
    "    print(\"\\t\",token.tag_)\n",
    "    print(\"\\t\",token.is_alpha)\n",
    "    print(\"\\t\",token.is_stop)\n",
    "    print(\"\\t\",token.shape_)\n",
    "    print(\"\\t\",token.lemma_)"
   ]
  },
  {
   "cell_type": "code",
   "execution_count": null,
   "id": "aaea497d",
   "metadata": {},
   "outputs": [],
   "source": [
    "# Lemmatization: process of getting root word.\n",
    "# Example: going   --> go\n",
    "#          reading --> read\n",
    "#          working --> work\n",
    "\n",
    "sample = text_engine(\"going to office\")"
   ]
  },
  {
   "cell_type": "code",
   "execution_count": null,
   "id": "83335c4e",
   "metadata": {},
   "outputs": [],
   "source": [
    "for token in sample:\n",
    "    print(token.text, token.lemma_, token.pos_)"
   ]
  },
  {
   "cell_type": "code",
   "execution_count": null,
   "id": "d6f1669f",
   "metadata": {},
   "outputs": [],
   "source": [
    "# Named Entities\n",
    "# Real world entities name like Country, City, Fruits, Animal, Product, books...etc\n",
    "\n",
    "sample = text_engine(\"Apple is looking to buying U.K. startup for $1 billion\")\n",
    "\n",
    "for ent in sample.ents:\n",
    "    print(ent.text, ent.label_)\n",
    "    \n",
    "# GPE: Geopolitical Entity\n",
    "# ORG: Organization"
   ]
  },
  {
   "cell_type": "code",
   "execution_count": null,
   "id": "81acad69",
   "metadata": {},
   "outputs": [],
   "source": [
    "# List English Stop words\n",
    "# Stop words are common words used to form the sentense\n",
    "\n",
    "news = \"\"\"\n",
    "\n",
    "A huge crater next to a row of vehicles in the city of Zaporizhzhia testifies to the violence of the attack. Windows and windscreens were smashed in.\n",
    "\n",
    "The BBC saw half a dozen bodies lying at the scene, apparently civilians. Baggage and coats strewed the tarmac.\n",
    "\n",
    "One survivor told the BBC her boss had been killed in the attack.\n",
    "\n",
    "\"She had two kids. I left the cafe to use the restroom when it happened. I ran back and tried to find her. The cafe was demolished, there were many bodies around. It was all so very horrifying,\" Viktoriia Yosypenko said.\n",
    "\n",
    "\n",
    "\n",
    "\"\"\""
   ]
  },
  {
   "cell_type": "code",
   "execution_count": null,
   "id": "984bb78e",
   "metadata": {},
   "outputs": [],
   "source": [
    "sample = text_engine(news)"
   ]
  },
  {
   "cell_type": "code",
   "execution_count": null,
   "id": "9da889a9",
   "metadata": {},
   "outputs": [],
   "source": [
    "for token in sample:\n",
    "    if token.is_stop:\n",
    "        print(token.text)"
   ]
  },
  {
   "cell_type": "code",
   "execution_count": null,
   "id": "647123a2",
   "metadata": {},
   "outputs": [],
   "source": [
    "# Remove stop words and display other meaning full tokens \n",
    "for token in sample:\n",
    "    if ~token.is_stop:\n",
    "        print(token.text)"
   ]
  },
  {
   "cell_type": "code",
   "execution_count": null,
   "id": "a92147f9",
   "metadata": {},
   "outputs": [],
   "source": [
    "# Display Entity Name\n",
    "for ent in sample.ents:\n",
    "    print(ent.text, ent.label_)"
   ]
  },
  {
   "cell_type": "code",
   "execution_count": null,
   "id": "c3654655",
   "metadata": {},
   "outputs": [],
   "source": [
    "# Similarity between two sentence & words with respect to context.\n",
    "\n",
    "word1 = text_engine(\"I'm going to College.\")\n",
    "word2 = text_engine(\"I'm going to School.\")\n",
    "\n",
    "\n",
    "word1.similarity(word2)"
   ]
  },
  {
   "cell_type": "code",
   "execution_count": null,
   "id": "ccc6669f",
   "metadata": {},
   "outputs": [],
   "source": []
  },
  {
   "attachments": {},
   "cell_type": "markdown",
   "id": "817eb197",
   "metadata": {},
   "source": [
    "Follow the below tutorial to do exercise on Text Analysis\n",
    "\n",
    "<a href=\"https://bit.ly/3CpcNWl\"> Tutorial Link</a>"
   ]
  },
  {
   "cell_type": "code",
   "execution_count": null,
   "id": "37a478c5",
   "metadata": {},
   "outputs": [],
   "source": []
  }
 ],
 "metadata": {
  "kernelspec": {
   "display_name": "Python 3 (ipykernel)",
   "language": "python",
   "name": "python3"
  },
  "language_info": {
   "codemirror_mode": {
    "name": "ipython",
    "version": 3
   },
   "file_extension": ".py",
   "mimetype": "text/x-python",
   "name": "python",
   "nbconvert_exporter": "python",
   "pygments_lexer": "ipython3",
   "version": "3.9.7"
  }
 },
 "nbformat": 4,
 "nbformat_minor": 5
}
