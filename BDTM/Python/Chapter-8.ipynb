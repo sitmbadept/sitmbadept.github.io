{
 "cells": [
  {
   "cell_type": "code",
   "execution_count": null,
   "id": "99ffa16f",
   "metadata": {},
   "outputs": [],
   "source": [
    "import warnings\n",
    "warnings.filterwarnings('ignore')"
   ]
  },
  {
   "cell_type": "code",
   "execution_count": null,
   "id": "4cecf793",
   "metadata": {},
   "outputs": [],
   "source": [
    "import pandas as pd\n",
    "wsb_df = pd.read_csv( 'wsb.csv' )\n",
    "wsb_df.head(10)"
   ]
  },
  {
   "cell_type": "code",
   "execution_count": null,
   "id": "6c796cd2",
   "metadata": {},
   "outputs": [],
   "source": [
    "import matplotlib.pyplot as plt\n",
    "import seaborn as sn\n",
    "%matplotlib inline"
   ]
  },
  {
   "cell_type": "code",
   "execution_count": null,
   "id": "31422fd5",
   "metadata": {},
   "outputs": [],
   "source": [
    "plt.figure( figsize=(10,4))\n",
    "plt.xlabel( \"Months\" )\n",
    "plt.ylabel( \"Quantity\" )\n",
    "plt.plot( wsb_df['Sale Quantity'] )"
   ]
  },
  {
   "cell_type": "code",
   "execution_count": null,
   "id": "2a585b01",
   "metadata": {},
   "outputs": [],
   "source": [
    "wsb_df.info()"
   ]
  },
  {
   "cell_type": "code",
   "execution_count": null,
   "id": "72e3b93c",
   "metadata": {},
   "outputs": [],
   "source": [
    "wsb_df['mavg_12'] = wsb_df['Sale Quantity'].rolling( window = 12 ).mean().shift(1)"
   ]
  },
  {
   "cell_type": "code",
   "execution_count": null,
   "id": "fc38ce57",
   "metadata": {},
   "outputs": [],
   "source": [
    "pd.set_option('display.float_format', lambda x: '%.2f' % x)\n",
    "wsb_df[['Sale Quantity', 'mavg_12']][0:]"
   ]
  },
  {
   "cell_type": "code",
   "execution_count": null,
   "id": "8885b454",
   "metadata": {},
   "outputs": [],
   "source": [
    "plt.figure( figsize=(10,4))\n",
    "plt.xlabel( \"Months\" )\n",
    "plt.ylabel( \"Quantity\" )\n",
    "plt.plot( wsb_df['Sale Quantity'][12:] );\n",
    "plt.plot( wsb_df['mavg_12'][12:], '.' );"
   ]
  },
  {
   "cell_type": "code",
   "execution_count": null,
   "id": "a2d49dbb",
   "metadata": {},
   "outputs": [],
   "source": [
    "import numpy as np\n",
    "def get_mape(actual, predicted):\n",
    "    y_true, y_pred = np.array(actual), np.array(predicted)\n",
    "    return np.round( np.mean(np.abs((actual - predicted) / actual)) * 100, 2 )"
   ]
  },
  {
   "cell_type": "code",
   "execution_count": null,
   "id": "83fbc53b",
   "metadata": {},
   "outputs": [],
   "source": [
    "get_mape( wsb_df['Sale Quantity'][36:].values, wsb_df['mavg_12'][36:].values)"
   ]
  },
  {
   "cell_type": "code",
   "execution_count": null,
   "id": "ec0c4182",
   "metadata": {},
   "outputs": [],
   "source": [
    "from sklearn.metrics import mean_squared_error\n",
    "np.sqrt(mean_squared_error( wsb_df['Sale Quantity'][36:].values, wsb_df['mavg_12'][36:].values))"
   ]
  },
  {
   "cell_type": "code",
   "execution_count": null,
   "id": "ac524dde",
   "metadata": {},
   "outputs": [],
   "source": [
    "wsb_df['ewm'] = wsb_df['Sale Quantity'].ewm( alpha = 0.2 ).mean()"
   ]
  },
  {
   "cell_type": "code",
   "execution_count": null,
   "id": "c290fa55",
   "metadata": {},
   "outputs": [],
   "source": [
    "pd.options.display.float_format = '{:.2f}'.format"
   ]
  },
  {
   "cell_type": "code",
   "execution_count": null,
   "id": "13209f24",
   "metadata": {},
   "outputs": [],
   "source": [
    "wsb_df[36:]"
   ]
  },
  {
   "cell_type": "code",
   "execution_count": null,
   "id": "6abcdaac",
   "metadata": {},
   "outputs": [],
   "source": [
    "get_mape( wsb_df[['Sale Quantity']][36:].values, wsb_df[['ewm']][36:].values)"
   ]
  },
  {
   "cell_type": "code",
   "execution_count": null,
   "id": "36e24743",
   "metadata": {},
   "outputs": [],
   "source": [
    "plt.figure( figsize=(10,4))\n",
    "plt.xlabel( \"Months\" )\n",
    "plt.ylabel( \"Quantity\" )\n",
    "plt.plot( wsb_df['Sale Quantity'][12:] );\n",
    "plt.plot( wsb_df['ewm'][12:], '.' );\n",
    "plt.legend();"
   ]
  },
  {
   "cell_type": "code",
   "execution_count": null,
   "id": "b35a321d",
   "metadata": {},
   "outputs": [],
   "source": [
    "from statsmodels.tsa.seasonal import seasonal_decompose\n",
    "\n",
    "ts_decompse = seasonal_decompose( np.array(wsb_df['Sale Quantity']),\n",
    "model='multiplicative',\n",
    "period = 12 )\n",
    "## Plotting the deocompsed time series components\n",
    "ts_plot = ts_decompse.plot()"
   ]
  },
  {
   "cell_type": "code",
   "execution_count": null,
   "id": "4581fde7",
   "metadata": {},
   "outputs": [],
   "source": [
    "wsb_df['seasonal'] = ts_decompse.seasonal\n",
    "wsb_df['trend'] = ts_decompse.trend"
   ]
  },
  {
   "cell_type": "code",
   "execution_count": null,
   "id": "0c292493",
   "metadata": {},
   "outputs": [],
   "source": []
  },
  {
   "cell_type": "code",
   "execution_count": null,
   "id": "4ce23d31",
   "metadata": {},
   "outputs": [],
   "source": [
    "vimana_df = pd.read_csv('vimana.csv')\n",
    "vimana_df.head(5)"
   ]
  },
  {
   "cell_type": "code",
   "execution_count": null,
   "id": "a2c013cb",
   "metadata": {},
   "outputs": [],
   "source": [
    "vimana_df.info()"
   ]
  },
  {
   "cell_type": "code",
   "execution_count": null,
   "id": "08a13a11",
   "metadata": {},
   "outputs": [],
   "source": [
    "from statsmodels.graphics.tsaplots import plot_acf, plot_pacf\n",
    "\n",
    "# Show autocorrelation upto lag 10\n",
    "acf_plot = plot_acf( vimana_df.demand,lags=20)"
   ]
  },
  {
   "cell_type": "code",
   "execution_count": null,
   "id": "02350e58",
   "metadata": {},
   "outputs": [],
   "source": [
    "pacf_plot = plot_pacf( vimana_df.demand)   # Removed lags=20 from here, samples are very less"
   ]
  },
  {
   "cell_type": "code",
   "execution_count": null,
   "id": "1f2cd783",
   "metadata": {},
   "outputs": [],
   "source": [
    "from statsmodels.tsa.arima_model import ARIMA\n",
    "import numpy as np"
   ]
  },
  {
   "cell_type": "code",
   "execution_count": null,
   "id": "0409d401",
   "metadata": {},
   "outputs": [],
   "source": [
    "# Chnage from as_matrix() to to_numpy()\n",
    "\n",
    "\n",
    "arima = ARIMA( vimana_df.demand[0:30].astype(np.float64).to_numpy(),\n",
    "order = (1,0,0))\n",
    "ar_model = arima.fit()"
   ]
  },
  {
   "cell_type": "code",
   "execution_count": null,
   "id": "7145dc0c",
   "metadata": {},
   "outputs": [],
   "source": [
    "ar_model.summary2()"
   ]
  },
  {
   "cell_type": "code",
   "execution_count": null,
   "id": "c837dd52",
   "metadata": {},
   "outputs": [],
   "source": [
    "forecast_31_37 = ar_model.predict(30, 36)"
   ]
  },
  {
   "cell_type": "code",
   "execution_count": null,
   "id": "48c9b0a7",
   "metadata": {},
   "outputs": [],
   "source": [
    "import numpy as np\n",
    "def get_mape(actual, predicted):\n",
    "    y_true, y_pred = np.array(actual), np.array(predicted)\n",
    "    return np.round( np.mean(np.abs((actual - predicted) / actual)) * 100, 2 )"
   ]
  },
  {
   "cell_type": "code",
   "execution_count": null,
   "id": "a66bbf1c",
   "metadata": {},
   "outputs": [],
   "source": [
    "get_mape( vimana_df.demand[30:], forecast_31_37 )"
   ]
  },
  {
   "cell_type": "code",
   "execution_count": null,
   "id": "36923c33",
   "metadata": {},
   "outputs": [],
   "source": [
    "################################################## Change as_matrix() to to_numpy()\n",
    "\n",
    "arima = ARIMA( vimana_df.demand[0:30].astype(np.float64).to_numpy(),\n",
    "order = (0,0,1))\n",
    "ma_model = arima.fit()\n",
    "ma_model.summary2()"
   ]
  },
  {
   "cell_type": "code",
   "execution_count": null,
   "id": "2d2dbbb1",
   "metadata": {},
   "outputs": [],
   "source": [
    "forecast_31_37 = ma_model.predict(30, 36)\n",
    "get_mape( vimana_df.demand[30:],\n",
    "forecast_31_37 )"
   ]
  },
  {
   "cell_type": "code",
   "execution_count": null,
   "id": "2ceefe7f",
   "metadata": {},
   "outputs": [],
   "source": [
    "################################################## Change as_matrix() to to_numpy()\n",
    "\n",
    "arima = ARIMA( vimana_df.demand[0:30].astype(np.float64).to_numpy(),\n",
    "order = (1,0,1))\n",
    "arma_model = arima.fit()\n",
    "arma_model.summary2()"
   ]
  },
  {
   "cell_type": "code",
   "execution_count": null,
   "id": "2231c539",
   "metadata": {},
   "outputs": [],
   "source": [
    "forecast_31_37 = arma_model.predict(30, 36)\n",
    "get_mape( vimana_df.demand[30:],\n",
    "forecast_31_37 )"
   ]
  },
  {
   "cell_type": "code",
   "execution_count": null,
   "id": "f352e28c",
   "metadata": {},
   "outputs": [],
   "source": [
    "#################################### Example-2\n"
   ]
  },
  {
   "cell_type": "code",
   "execution_count": null,
   "id": "9ca0cc19",
   "metadata": {},
   "outputs": [],
   "source": [
    "vimana_df = pd.read_csv('vimana.csv')\n",
    "vimana_df.head(5)"
   ]
  },
  {
   "cell_type": "code",
   "execution_count": null,
   "id": "8046fb80",
   "metadata": {},
   "outputs": [],
   "source": [
    "vimana_df.info()"
   ]
  },
  {
   "cell_type": "code",
   "execution_count": null,
   "id": "743e1717",
   "metadata": {},
   "outputs": [],
   "source": [
    "from statsmodels.graphics.tsaplots import plot_acf, plot_pacf\n",
    "\n",
    "# Show autocorrelation upto lag 10\n",
    "acf_plot = plot_acf( vimana_df.demand,lags=20)\n"
   ]
  },
  {
   "cell_type": "code",
   "execution_count": null,
   "id": "ad1ef2d4",
   "metadata": {},
   "outputs": [],
   "source": [
    "############################################ Removed lags=20 from here, samples are very less\n",
    "pacf_plot = plot_pacf( vimana_df.demand)   "
   ]
  },
  {
   "cell_type": "code",
   "execution_count": null,
   "id": "a7e42e52",
   "metadata": {},
   "outputs": [],
   "source": [
    "\n",
    "\n",
    "from statsmodels.tsa.arima_model import ARIMA\n",
    "import numpy as np\n",
    "\n",
    "######################################################### Chnage from as_matrix() to to_numpy()\n",
    "\n",
    "\n",
    "arima = ARIMA( vimana_df.demand[0:30].astype(np.float64).to_numpy(),\n",
    "order = (1,0,0))\n",
    "ar_model = arima.fit()"
   ]
  },
  {
   "cell_type": "code",
   "execution_count": null,
   "id": "eaaf203a",
   "metadata": {},
   "outputs": [],
   "source": [
    "ar_model.summary2()"
   ]
  },
  {
   "cell_type": "code",
   "execution_count": null,
   "id": "afcad1b8",
   "metadata": {},
   "outputs": [],
   "source": [
    "forecast_31_37 = ar_model.predict(30, 36)\n"
   ]
  },
  {
   "cell_type": "code",
   "execution_count": null,
   "id": "efb19fdd",
   "metadata": {},
   "outputs": [],
   "source": [
    "get_mape( vimana_df.demand[30:], forecast_31_37 )"
   ]
  },
  {
   "cell_type": "code",
   "execution_count": null,
   "id": "83533a68",
   "metadata": {},
   "outputs": [],
   "source": [
    "###################################################### Change as_matrix() to to_numpy()\n",
    "\n",
    "arima = ARIMA( vimana_df.demand[0:30].astype(np.float64).to_numpy(),\n",
    "order = (0,0,1))\n",
    "ma_model = arima.fit()\n",
    "ma_model.summary2()\n"
   ]
  },
  {
   "cell_type": "code",
   "execution_count": null,
   "id": "cd8e44ca",
   "metadata": {},
   "outputs": [],
   "source": [
    "forecast_31_37 = ma_model.predict(30, 36)"
   ]
  },
  {
   "cell_type": "code",
   "execution_count": null,
   "id": "3674c23d",
   "metadata": {},
   "outputs": [],
   "source": [
    "get_mape( vimana_df.demand[30:], forecast_31_37 )"
   ]
  },
  {
   "cell_type": "code",
   "execution_count": null,
   "id": "85c4324c",
   "metadata": {},
   "outputs": [],
   "source": [
    "################################################## Change as_matrix() to to_numpy()\n",
    "\n",
    "arima = ARIMA( vimana_df.demand[0:30].astype(np.float64).to_numpy(),\n",
    "order = (0,0,1))\n",
    "ma_model = arima.fit()\n",
    "ma_model.summary2()"
   ]
  },
  {
   "cell_type": "code",
   "execution_count": null,
   "id": "e8feb756",
   "metadata": {},
   "outputs": [],
   "source": [
    "forecast_31_37 = ma_model.predict(30, 36)\n",
    "get_mape( vimana_df.demand[30:],\n",
    "forecast_31_37 )"
   ]
  },
  {
   "cell_type": "code",
   "execution_count": null,
   "id": "5dfdea1e",
   "metadata": {},
   "outputs": [],
   "source": [
    "################################################## Change as_matrix() to to_numpy()\n",
    "\n",
    "arima = ARIMA( vimana_df.demand[0:30].astype(np.float64).to_numpy(),\n",
    "order = (1,0,1))\n",
    "arma_model = arima.fit()\n",
    "arma_model.summary2()"
   ]
  },
  {
   "cell_type": "code",
   "execution_count": null,
   "id": "3839aa3c",
   "metadata": {},
   "outputs": [],
   "source": [
    "forecast_31_37 = arma_model.predict(30, 36)\n",
    "get_mape( vimana_df.demand[30:],\n",
    "forecast_31_37 )"
   ]
  },
  {
   "cell_type": "code",
   "execution_count": null,
   "id": "af5f6656",
   "metadata": {},
   "outputs": [],
   "source": []
  },
  {
   "cell_type": "code",
   "execution_count": null,
   "id": "b6956714",
   "metadata": {},
   "outputs": [],
   "source": []
  },
  {
   "cell_type": "code",
   "execution_count": null,
   "id": "2547ea30",
   "metadata": {},
   "outputs": [],
   "source": [
    "#################################### Example-3"
   ]
  },
  {
   "cell_type": "code",
   "execution_count": null,
   "id": "ddf2b10e",
   "metadata": {},
   "outputs": [],
   "source": [
    "store_df = pd.read_excel('store.xls')"
   ]
  },
  {
   "cell_type": "code",
   "execution_count": null,
   "id": "1c1d93c2",
   "metadata": {},
   "outputs": [],
   "source": [
    "store_df.head(5)"
   ]
  },
  {
   "cell_type": "code",
   "execution_count": null,
   "id": "78f301e3",
   "metadata": {},
   "outputs": [],
   "source": [
    "store_df.info()"
   ]
  },
  {
   "cell_type": "code",
   "execution_count": null,
   "id": "41297722",
   "metadata": {},
   "outputs": [],
   "source": [
    "store_df.set_index( pd.to_datetime(store_df.Date), inplace= True)\n",
    "store_df.drop('Date', axis = 1, inplace = True)\n",
    "store_df[-5:]"
   ]
  },
  {
   "cell_type": "code",
   "execution_count": null,
   "id": "2aa0fb00",
   "metadata": {},
   "outputs": [],
   "source": [
    "\n",
    "plt.figure( figsize=(10,4))\n",
    "plt.xlabel( \"Date\" )\n",
    "plt.ylabel( \"Demand\" )\n",
    "plt.plot( store_df.demand );"
   ]
  },
  {
   "cell_type": "code",
   "execution_count": null,
   "id": "00e69998",
   "metadata": {},
   "outputs": [],
   "source": [
    "acf_plot = plot_acf( store_df.demand,lags=20 )"
   ]
  },
  {
   "cell_type": "code",
   "execution_count": null,
   "id": "40f46a4c",
   "metadata": {},
   "outputs": [],
   "source": [
    "from statsmodels.tsa.stattools import adfuller"
   ]
  },
  {
   "cell_type": "code",
   "execution_count": null,
   "id": "b609062d",
   "metadata": {},
   "outputs": [],
   "source": [
    "def adfuller_test( ts ):\n",
    "    adfuller_result = adfuller( ts, autolag=None )\n",
    "    adfuller_out = pd.Series(adfuller_result[0:4],\n",
    "    index=['Test Statistic',\n",
    "    'p-value',\n",
    "    'Lags Used',\n",
    "    'Number of Observations Used'])\n",
    "    print( adfuller_out )"
   ]
  },
  {
   "cell_type": "code",
   "execution_count": null,
   "id": "c0ee8ab1",
   "metadata": {},
   "outputs": [],
   "source": [
    "adfuller_test( store_df.demand )"
   ]
  },
  {
   "cell_type": "code",
   "execution_count": null,
   "id": "80de1cd8",
   "metadata": {},
   "outputs": [],
   "source": [
    "store_df['demand_diff'] = store_df.demand - store_df.demand.shift(1)"
   ]
  },
  {
   "cell_type": "code",
   "execution_count": null,
   "id": "575fce7c",
   "metadata": {},
   "outputs": [],
   "source": [
    "store_df.head(5)"
   ]
  },
  {
   "cell_type": "code",
   "execution_count": null,
   "id": "178a8020",
   "metadata": {},
   "outputs": [],
   "source": [
    "store_diff_df = store_df.dropna()"
   ]
  },
  {
   "cell_type": "code",
   "execution_count": null,
   "id": "445dfcfd",
   "metadata": {},
   "outputs": [],
   "source": [
    "plt.figure( figsize=(10,4))\n",
    "plt.xlabel( \"Date\" )\n",
    "plt.ylabel( \"First Order Differences\" )\n",
    "plt.plot( store_diff_df.demand_diff );"
   ]
  },
  {
   "cell_type": "code",
   "execution_count": null,
   "id": "b8991633",
   "metadata": {},
   "outputs": [],
   "source": [
    "pacf_plot = plot_acf( store_df.demand_diff.dropna(), lags=10 )"
   ]
  },
  {
   "cell_type": "code",
   "execution_count": null,
   "id": "fb21d4c6",
   "metadata": {},
   "outputs": [],
   "source": [
    "store_train = store_df[0:100]\n",
    "store_test = store_df[100:]"
   ]
  },
  {
   "cell_type": "code",
   "execution_count": null,
   "id": "82514516",
   "metadata": {},
   "outputs": [],
   "source": [
    "########################################## Change as_matrix() to to_numpy() \n",
    "arima = ARIMA( store_train.demand.astype(np.float64).to_numpy(),\n",
    "order = (1,1,1))\n",
    "arima_model = arima.fit()\n",
    "arima_model.summary2()"
   ]
  },
  {
   "cell_type": "code",
   "execution_count": null,
   "id": "1474cfaa",
   "metadata": {},
   "outputs": [],
   "source": [
    "acf_plot = plot_acf(arima_model.resid, lags = 20)"
   ]
  },
  {
   "cell_type": "code",
   "execution_count": null,
   "id": "37620fd5",
   "metadata": {},
   "outputs": [],
   "source": [
    "pacf_plot = plot_pacf(arima_model.resid, lags = 20)"
   ]
  },
  {
   "cell_type": "code",
   "execution_count": null,
   "id": "6344a7d8",
   "metadata": {},
   "outputs": [],
   "source": [
    "store_predict, stderr, ci = arima_model.forecast(steps = 15)"
   ]
  },
  {
   "cell_type": "code",
   "execution_count": null,
   "id": "b789587b",
   "metadata": {},
   "outputs": [],
   "source": [
    "store_predict"
   ]
  },
  {
   "cell_type": "code",
   "execution_count": null,
   "id": "265f3c93",
   "metadata": {},
   "outputs": [],
   "source": [
    "get_mape( store_df.demand[100:], store_predict )"
   ]
  },
  {
   "cell_type": "code",
   "execution_count": null,
   "id": "51eb7a49",
   "metadata": {},
   "outputs": [],
   "source": []
  }
 ],
 "metadata": {
  "kernelspec": {
   "display_name": "Python 3 (ipykernel)",
   "language": "python",
   "name": "python3"
  },
  "language_info": {
   "codemirror_mode": {
    "name": "ipython",
    "version": 3
   },
   "file_extension": ".py",
   "mimetype": "text/x-python",
   "name": "python",
   "nbconvert_exporter": "python",
   "pygments_lexer": "ipython3",
   "version": "3.9.7"
  }
 },
 "nbformat": 4,
 "nbformat_minor": 5
}
