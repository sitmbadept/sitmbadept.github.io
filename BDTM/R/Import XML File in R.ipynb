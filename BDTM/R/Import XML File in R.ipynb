{
 "cells": [
  {
   "cell_type": "markdown",
   "id": "c1e4f9bc-002d-479a-bfaa-77eefe09f978",
   "metadata": {
    "tags": []
   },
   "source": [
    "### Working with XML File\n",
    "<ol>\n",
    "    <li>Download Book XML Dataset <a href=\"https://raw.githubusercontent.com/sitmbadept/sitmbadept.github.io/main/BDTM/R/books.xml\" target='new' download>Click to download dataset</a></li>\n",
    "    <li>Copy Paste Book XML Dataset in Project working </li>\n",
    "    <li>install.packages(\"XML\", dep=TRUE)</li> \n",
    "    <li>Load XML package in R Studio</li>\n",
    "    <li>Read book XML dataset in R</li>\n",
    "    <li>View book XML dataset</li>\n",
    "</ol>"
   ]
  },
  {
   "cell_type": "markdown",
   "id": "a3c5dcb7-4f7a-4a6f-a6ef-0842d99d05a9",
   "metadata": {},
   "source": [
    "**Note** Package download & installation is one time activity, once it got install in Laptop then we need ignore install.package statement "
   ]
  },
  {
   "cell_type": "code",
   "execution_count": null,
   "id": "2d480c69-af75-43d5-ae95-ca151a3268b4",
   "metadata": {},
   "outputs": [],
   "source": [
    "# Install Packages\n",
    "install.packages(\"XML\", dep=TRUE)"
   ]
  },
  {
   "cell_type": "code",
   "execution_count": null,
   "id": "227dc8fa-3aa3-40b1-bd81-bb89e669bbe4",
   "metadata": {},
   "outputs": [],
   "source": [
    "# Load Package in R\n",
    "library(XML)"
   ]
  },
  {
   "cell_type": "code",
   "execution_count": null,
   "id": "08d78d7e-469f-40d8-89dd-6237271da63a",
   "metadata": {},
   "outputs": [],
   "source": [
    "# Read Book XML dataset in R (XML File)\n",
    "book <- xmlToDataFrame(\"books.xml\") #This is will convert data from JSON to DataFrame"
   ]
  },
  {
   "cell_type": "code",
   "execution_count": null,
   "id": "d85750c1-f3ac-4015-b0da-9094f4812b66",
   "metadata": {},
   "outputs": [],
   "source": [
    "# View book dataset\n",
    "View(book)"
   ]
  },
  {
   "cell_type": "code",
   "execution_count": null,
   "id": "3e203b72-a84a-4b4d-9241-d02cb621c406",
   "metadata": {},
   "outputs": [],
   "source": [
    "# Print Dataset in Terminal\n",
    "print(book)"
   ]
  },
  {
   "cell_type": "code",
   "execution_count": null,
   "id": "5a8d66ab-03fe-45e1-b073-b4cdc29903dc",
   "metadata": {},
   "outputs": [],
   "source": [
    "# View the structure of book dataset\n",
    "str(book)"
   ]
  },
  {
   "cell_type": "code",
   "execution_count": null,
   "id": "a9688d8b-5d75-487c-8408-0bb0c9d2e6fb",
   "metadata": {},
   "outputs": [],
   "source": [
    "# Quick Summary of Amazon Dataset\n",
    "summary(book)"
   ]
  },
  {
   "cell_type": "markdown",
   "id": "1dd68b18-4456-41d6-a2a1-2626ce48380e",
   "metadata": {},
   "source": [
    "**book** is dataframe variable, so we can execute all the dataframe functions on book variable to get the summary, plot, frequncy, unique, split, subset, order...etc"
   ]
  },
  {
   "cell_type": "code",
   "execution_count": null,
   "id": "f2504d8b-887c-4fd4-a6a0-e169582841e7",
   "metadata": {},
   "outputs": [],
   "source": []
  }
 ],
 "metadata": {
  "kernelspec": {
   "display_name": "R",
   "language": "R",
   "name": "conda-env-r-r"
  },
  "language_info": {
   "codemirror_mode": "r",
   "file_extension": ".r",
   "mimetype": "text/x-r-source",
   "name": "R",
   "pygments_lexer": "r",
   "version": "3.5.1"
  }
 },
 "nbformat": 4,
 "nbformat_minor": 5
}
