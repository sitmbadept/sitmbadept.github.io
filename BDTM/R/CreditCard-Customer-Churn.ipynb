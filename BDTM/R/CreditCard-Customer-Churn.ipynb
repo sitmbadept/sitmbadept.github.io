{
 "cells": [
  {
   "cell_type": "markdown",
   "id": "2f9eba40-fdb9-4b7a-acc8-8e85f36c6154",
   "metadata": {},
   "source": [
    "### Big Data Tools for Managers \n",
    "##### Dept. of MBA, Siddaganga Institute of Technology-Tumkur\n",
    "\n",
    "#### Working with Credit Card Churn Dataset"
   ]
  },
  {
   "cell_type": "markdown",
   "id": "e48327a1-b789-478f-8ce5-80ffd8825c8b",
   "metadata": {},
   "source": [
    "About Dataset\n",
    "A manager at the bank is disturbed with more and more customers leaving their credit card services. They would really appreciate if one could predict for them who is gonna get churned so they can proactively go to the customer to provide them better services and turn customers' decisions in the opposite direction\n",
    "<a href=\"https://raw.githubusercontent.com/sitmbadept/sitmbadept.github.io/main/BDTM/R/BankChurners.csv\" download>Download Credit Card Churn Dataset</a> \n",
    "\n",
    "* **CLIENTNUM**:  Client number. Unique identifier for the customer holding the account\n",
    "* **Attrition_Flag**: Internal event/Churn (customer activity) variable - if the account is closed then 1 else 0\n",
    "* **Customer_Age**: Demographic variable - Customer's Age in Years\n",
    "* **Gender**: Demographic variable - M=Male, F=Female\n",
    "* **Dependent_count**: Demographic variable - Number of dependents\n",
    "* **Education_Level**: Educational Qualification of the account holder (example: high school, college graduate, etc.)\n",
    "* **Marital_Status**: Demographic variable - Married, Single, Divorced, Unknown\n",
    "* **Income_Category**: Demographic variable - Annual Income Category of the account holder\n",
    "* **Card_Category**: Product Variable - Type of Card (Blue, Silver, Gold, Platinum)\n",
    "* **Months_on_book**: Period of relationship with bank\n",
    "* **Total_Relationship_Count**: Total no. of products held by the customer\n",
    "* **Months_Inactive_12_mon**: No. of months inactive in the last 12 months\n",
    "* **Contacts_Count_12_mon** No. of Contacts in the last 12 months\n",
    "* **Credit_Limit**: Credit Limit on the Credit Card\n",
    "* **Total_Revolving_Bal**: Total Revolving Balance on the Credit Card\n",
    "* **Avg_Open_To_Buy**: Open to Buy Credit Line (Average of last 12 months)\n",
    "* **Total_Amt_Chng_Q4_Q1**: Change in Transaction Amount (Q4 over Q1)\n",
    "* **Total_Trans_Amt**: Total Transaction Amount (Last 12 months)\n",
    "* **Total_Trans_Ct**: Total Transaction Count (Last 12 months)\n",
    "* **Total_Ct_Chng_Q4_Q1**: Change in Transaction Count (Q4 over Q1)\n",
    "* **Avg_Utilization_Ratio** Average Card Utilization Ratio"
   ]
  },
  {
   "cell_type": "markdown",
   "id": "12a660d9-f461-4aa6-9d29-cda93ea47868",
   "metadata": {},
   "source": [
    "### Write R Code for below questions. ###\n",
    "\n",
    "<ol>\n",
    "    <li>Read Credit Card Churn dataset in R</li>\n",
    "    <li>Get the dimension of Credit Card dataset</li>\n",
    "    <li>Display column names of dataset</li>\n",
    "    <li>View data in Excel like screen</li>\n",
    "    <li>Get Quick summary for all the columns</li>\n",
    "    <li>Check how many customers are churned and existing customer in dataset</li>\n",
    "    <li>What percentage of customers are churned and existing customer in dataset</li>\n",
    "    <li>Display in Pie chart, Check how many customers are churned and existing customer in dataset</li>\n",
    "    <li>Analyze customers based on their Marital Status</li>\n",
    "    <li>Look the customers by Matrial status who has canceled the credit card</li>\n",
    "    <li>What are the income level for Married customers who has canceled the credit card</li>\n",
    "    <li>Look the Credit card cancellation by Income category</li>\n",
    "    <li>Look for the credit card type bank is providing and customer holding, display the count as well as show in barplot</li>\n",
    "    <li>Total Number of transcation in last 12 month for Active(Existing) customer in histogram</li>\n",
    "    <li>Split the dataset by Attition_Flag</li>\n",
    "    <li>Display the structure of Spitted Data</li>\n",
    "    <li>Display Customer data based on their Age (Smallest to Highest), and select Customer Age, Gender, Education Level, Marital_Status, Income_Category</li>\n",
    "    <li>Display top 10 records from the dataset</li>\n",
    "    <li>Display Unique Education_Level for the customers Data</li>\n",
    "    <li>Count the Frequency for each Education Level</li>\n",
    "\n",
    "</ol>\n",
    "\n",
    "\n",
    "**Note : This analysis is based on very few variables, you may have to practice yourself with remaing variables to get more hands-on with R & Data**\n",
    "\n",
    "**Note : Statements start with #(hash) are comments, Feel free to ignore comments while writing R code**\n",
    "\n",
    "<br><br><br><br><br><br>"
   ]
  },
  {
   "cell_type": "code",
   "execution_count": null,
   "id": "02e7f296-0876-460e-8ce3-f1738a962a7e",
   "metadata": {},
   "outputs": [],
   "source": [
    "# 1. Read Credit Card Churn dataset in R\n",
    "data <- read.csv(\"BankChurners.csv\")"
   ]
  },
  {
   "cell_type": "code",
   "execution_count": null,
   "id": "f61df1ad-e85a-409a-a779-ceda149b963f",
   "metadata": {},
   "outputs": [],
   "source": [
    "# 2. Get the dimension of Credit Card dataset\n",
    "dim(data)\n",
    "\n",
    "# We have 10127 rows & 23 variables(colums)"
   ]
  },
  {
   "cell_type": "code",
   "execution_count": null,
   "id": "1447194d-d534-4f94-9712-b4aaee0c93da",
   "metadata": {},
   "outputs": [],
   "source": [
    "# 3. Display column names of dataset\n",
    "colnames(data)"
   ]
  },
  {
   "cell_type": "code",
   "execution_count": null,
   "id": "28676604-67df-4def-a81d-4f1ca1398247",
   "metadata": {},
   "outputs": [],
   "source": [
    "# 4. View data in Excel like screen\n",
    "View(data)"
   ]
  },
  {
   "cell_type": "code",
   "execution_count": null,
   "id": "a124e39b-7e88-4567-b5d4-d860a2fb3caf",
   "metadata": {},
   "outputs": [],
   "source": [
    "# 5. Get Quick summary for all the columns\n",
    "summary(data)"
   ]
  },
  {
   "cell_type": "code",
   "execution_count": null,
   "id": "ed681131-9f7f-4e1f-a2c5-fb3bf4d1e258",
   "metadata": {},
   "outputs": [],
   "source": [
    "# 6. Check how many customers are churned and existing customer in dataset\n",
    "table(data$Attrition_Flag)"
   ]
  },
  {
   "cell_type": "code",
   "execution_count": null,
   "id": "77ebf529-af7c-482b-824b-bb32538baee3",
   "metadata": {},
   "outputs": [],
   "source": [
    "#7. What percentage of customers are churned and existing customer in dataset\n",
    "\n",
    "res <- table(data$Attrition_Flag)\n",
    "\n",
    "prop.table(res) * 100\n",
    "\n",
    "# There are 16% percentage of customers are churned customers and 84% are existing customers for the Bank"
   ]
  },
  {
   "cell_type": "code",
   "execution_count": null,
   "id": "dac73d45-9faa-42cd-a8d4-e94ee370d12a",
   "metadata": {},
   "outputs": [],
   "source": [
    "#8. Display in Pie chart, Check how many customers are churned and existing customer in dataset\n",
    "res <- table(data$Attrition_Flag)\n",
    "pie(res,\n",
    "    main=\"Attrition Flag in Dataset\",\n",
    "    col=c(\"red\",\"green\"))"
   ]
  },
  {
   "cell_type": "code",
   "execution_count": null,
   "id": "f3cff7cd-095c-4476-87e6-89fff5dd74d2",
   "metadata": {},
   "outputs": [],
   "source": [
    "# 9. Analyze customers based on their Marital Status\n",
    "res <- table(data$Marital_Status)\n",
    "\n",
    "prop.table(res) * 100\n",
    "# 46% of customers are Married and those are the most benificial customers to the bank since they normally spend good amount for the shopping and buying groceries"
   ]
  },
  {
   "cell_type": "code",
   "execution_count": null,
   "id": "59e67392-3b8d-4a69-a990-d02852f5c656",
   "metadata": {},
   "outputs": [],
   "source": [
    "# 10. Look the customers by Matrial status who has canceled the credit card\n",
    "churned_customer = subset(data, Attrition_Flag==\"Attrited Customer\")\n",
    "\n",
    "table(churned_customer$Marital_Status)\n",
    "# There are 709 Married who has canceled the credit card"
   ]
  },
  {
   "cell_type": "code",
   "execution_count": null,
   "id": "8a4d0c3d-1e61-468c-9509-664a24e2d831",
   "metadata": {},
   "outputs": [],
   "source": [
    "# 11. what are the income level for Married customers who has canceled the credit card\n",
    "married_customers = subset(churned_customer, Marital_Status =='Married')\n",
    "res = table(married_customers$Income_Category)\n",
    "prop.table(res) * 100\n",
    "# ~37% married customer are earning < $40,000, obviously this categories of customers looks for more offers and discount during the shopping. \n",
    "# This ~37% customers usualy churn more if Bank is not offering good offers"
   ]
  },
  {
   "cell_type": "code",
   "execution_count": null,
   "id": "e351d7fd-cb4b-44aa-b856-cbfa6a7d5973",
   "metadata": {},
   "outputs": [],
   "source": [
    "# 12. Look the Credit card cancellation by Income category\n",
    "table(data$Income_Category, data$Attrition_Flag)\n",
    "\n",
    "# We can see < $40,000 income category having more customers compare woth other income group, \n",
    "# and since < $40,000 has more customers and churn is also high since they normally look for more offers and discounts and often buy new credit cards from credit card agency "
   ]
  },
  {
   "cell_type": "code",
   "execution_count": null,
   "id": "0fb2f183-a51b-4574-9ef5-9cb2bb37e151",
   "metadata": {},
   "outputs": [],
   "source": [
    "# 13. Look for the credit card type bank is providing and customer holding, display the count as well as show in barplot\n",
    "res = table(data$Card_Category)\n",
    "\n",
    "barplot(res)\n",
    "print(res)\n",
    "# Mostly Bank has issued Blue category of Credit card to the customers"
   ]
  },
  {
   "cell_type": "code",
   "execution_count": null,
   "id": "cd2daf40-abc4-4bc2-8b3e-6d1806db8f62",
   "metadata": {},
   "outputs": [],
   "source": [
    "#14. Total Number of transcation in last 12 month for Active(Existing) customer in histogram\n",
    "active_customer = subset(data, Attrition_Flag=='Existing Customer')\n",
    "\n",
    "hist(active_customer$Total_Trans_Ct,\n",
    "    main=\"Transaction Count For Last 12 Months\",\n",
    "    col=\"green\")"
   ]
  },
  {
   "cell_type": "code",
   "execution_count": null,
   "id": "cd607a62-7661-4b03-b783-acc5e7fbedd5",
   "metadata": {},
   "outputs": [],
   "source": [
    "#15. Split the dataset by Attition_Flag\n",
    "splitted_data = split(data, data$Attrition_Flag)\n",
    "\n",
    "# splitted_data will be in List data structure"
   ]
  },
  {
   "cell_type": "code",
   "execution_count": null,
   "id": "c37794d9-66dd-4b22-a22d-2c18e17c4bc3",
   "metadata": {},
   "outputs": [],
   "source": [
    "#16. Display the structure of Spitted Data\n",
    "str(splitted_data)"
   ]
  },
  {
   "cell_type": "code",
   "execution_count": null,
   "id": "8698ced8-033f-4457-864d-6f3fb0f62604",
   "metadata": {},
   "outputs": [],
   "source": [
    "#17. Display Customer data based on their Age (Smallest to Highest), and select Customer Age, Gender, Education Level, Marital_Status, Income_Category\n",
    "\n",
    "data[ order(data$Customer_Age), \n",
    "      c(\"Customer_Age\",\"Gender\",\"Education_Level\", \"Marital_Status\", \"Income_Category\")\n",
    "    ]"
   ]
  },
  {
   "cell_type": "code",
   "execution_count": null,
   "id": "77df894b-abaf-4fa1-beb9-0e62a5abb409",
   "metadata": {},
   "outputs": [],
   "source": [
    "# 18 Display top 10 records from the dataset\n",
    "head(data,10)"
   ]
  },
  {
   "cell_type": "code",
   "execution_count": null,
   "id": "ded0d3c3-ed75-42c2-a281-9b7d1ec84c16",
   "metadata": {},
   "outputs": [],
   "source": [
    "#19. Display Unique Education Level for the customer data\n",
    "unique(data$Education_Level)"
   ]
  },
  {
   "cell_type": "code",
   "execution_count": null,
   "id": "fc5f7e1f-06cc-4d83-b64b-f093b71c2233",
   "metadata": {},
   "outputs": [],
   "source": [
    "#20. Count the Frequency for each Education Level\n",
    "table(data$Education_Level)\n",
    "# Mostly Bank having Educatated customers and who has issued the credit card from the bank"
   ]
  }
 ],
 "metadata": {
  "kernelspec": {
   "display_name": "R",
   "language": "R",
   "name": "conda-env-r-r"
  },
  "language_info": {
   "codemirror_mode": "r",
   "file_extension": ".r",
   "mimetype": "text/x-r-source",
   "name": "R",
   "pygments_lexer": "r",
   "version": "3.5.1"
  }
 },
 "nbformat": 4,
 "nbformat_minor": 5
}
