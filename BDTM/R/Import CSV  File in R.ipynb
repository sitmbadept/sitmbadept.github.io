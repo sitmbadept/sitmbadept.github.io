{
 "cells": [
  {
   "cell_type": "markdown",
   "id": "c1e4f9bc-002d-479a-bfaa-77eefe09f978",
   "metadata": {
    "tags": []
   },
   "source": [
    "### Working with CSV File\n",
    "<ol>\n",
    "    <li>Download IPL Dataset <a href=\"https://raw.githubusercontent.com/sitmbadept/sitmbadept.github.io/main/BDTM/R/IPL.csv\" target='new' download>Click to download dataset</a></li>\n",
    "    <li>Copy Paste IPL Dataset in Project working </li>\n",
    "    <li>Read IPL dataset in R</li>\n",
    "    <li>View IPL dataset</li>\n",
    "</ol>"
   ]
  },
  {
   "cell_type": "code",
   "execution_count": null,
   "id": "08d78d7e-469f-40d8-89dd-6237271da63a",
   "metadata": {},
   "outputs": [],
   "source": [
    "# Read IPL dataset in R (CSV File)\n",
    "ipl <- read.csv(\"IPL.csv\") #This is will convert data from CSV to DataFrame"
   ]
  },
  {
   "cell_type": "code",
   "execution_count": null,
   "id": "d85750c1-f3ac-4015-b0da-9094f4812b66",
   "metadata": {},
   "outputs": [],
   "source": [
    "# View IPL dataset\n",
    "View(ipl)"
   ]
  },
  {
   "cell_type": "code",
   "execution_count": null,
   "id": "3e203b72-a84a-4b4d-9241-d02cb621c406",
   "metadata": {},
   "outputs": [],
   "source": [
    "# Print Dataset in Terminal\n",
    "print(ipl)"
   ]
  },
  {
   "cell_type": "code",
   "execution_count": null,
   "id": "5a8d66ab-03fe-45e1-b073-b4cdc29903dc",
   "metadata": {},
   "outputs": [],
   "source": [
    "# View the structure of IPL dataset\n",
    "str(ipl)"
   ]
  },
  {
   "cell_type": "code",
   "execution_count": null,
   "id": "a9688d8b-5d75-487c-8408-0bb0c9d2e6fb",
   "metadata": {},
   "outputs": [],
   "source": [
    "# Quick Summary of IPL Dataset\n",
    "summary(ipl)"
   ]
  },
  {
   "cell_type": "markdown",
   "id": "1dd68b18-4456-41d6-a2a1-2626ce48380e",
   "metadata": {},
   "source": [
    "**ipl** is dataframe variable, so we can execute all the dataframe functions on ipl variable to get the summary, plot, frequncy, unique, split, subset, order...etc"
   ]
  }
 ],
 "metadata": {
  "kernelspec": {
   "display_name": "R",
   "language": "R",
   "name": "conda-env-r-r"
  },
  "language_info": {
   "codemirror_mode": "r",
   "file_extension": ".r",
   "mimetype": "text/x-r-source",
   "name": "R",
   "pygments_lexer": "r",
   "version": "3.5.1"
  }
 },
 "nbformat": 4,
 "nbformat_minor": 5
}
