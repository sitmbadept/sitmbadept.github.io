{
 "cells": [
  {
   "cell_type": "markdown",
   "id": "c1e4f9bc-002d-479a-bfaa-77eefe09f978",
   "metadata": {
    "tags": []
   },
   "source": [
    "### Working with Excel File\n",
    "<ol>\n",
    "    <li>Download Amazon Dataset <a href=\"https://github.com/sitmbadept/sitmbadept.github.io/blob/main/BDTM/R/orders_data.xlsx?raw=true\" target='new' download>Click to download dataset</a></li>\n",
    "    <li>Copy Paste Amazon Dataset in Project working </li>\n",
    "    <li>install.packages(\"readxl\", dep=TRUE)</li> \n",
    "    <li>Load readxl package in R Studio</li>\n",
    "    <li>Read Amazon dataset in R</li>\n",
    "    <li>View amazon dataset</li>\n",
    "</ol>"
   ]
  },
  {
   "cell_type": "markdown",
   "id": "a3c5dcb7-4f7a-4a6f-a6ef-0842d99d05a9",
   "metadata": {},
   "source": [
    "**Note** Package download & installation is one time activity, once it got install in Laptop then we need ignore install.package statement "
   ]
  },
  {
   "cell_type": "code",
   "execution_count": null,
   "id": "2d480c69-af75-43d5-ae95-ca151a3268b4",
   "metadata": {},
   "outputs": [],
   "source": [
    "# Install Packages\n",
    "install.packages(\"readxl\", dep=TRUE)"
   ]
  },
  {
   "cell_type": "code",
   "execution_count": null,
   "id": "227dc8fa-3aa3-40b1-bd81-bb89e669bbe4",
   "metadata": {},
   "outputs": [],
   "source": [
    "# Load Package in R\n",
    "library(readxl)"
   ]
  },
  {
   "cell_type": "code",
   "execution_count": null,
   "id": "08d78d7e-469f-40d8-89dd-6237271da63a",
   "metadata": {},
   "outputs": [],
   "source": [
    "# Read Amazon dataset in R (Excel File)\n",
    "amazon <- read_excel(\"orders_data.xlsx\") #This is will convert data from Excel to DataFrame"
   ]
  },
  {
   "cell_type": "code",
   "execution_count": null,
   "id": "d85750c1-f3ac-4015-b0da-9094f4812b66",
   "metadata": {},
   "outputs": [],
   "source": [
    "# View amazon dataset\n",
    "View(amazon)"
   ]
  },
  {
   "cell_type": "code",
   "execution_count": null,
   "id": "3e203b72-a84a-4b4d-9241-d02cb621c406",
   "metadata": {},
   "outputs": [],
   "source": [
    "# Print Dataset in Terminal\n",
    "print(amazon)"
   ]
  },
  {
   "cell_type": "code",
   "execution_count": null,
   "id": "5a8d66ab-03fe-45e1-b073-b4cdc29903dc",
   "metadata": {},
   "outputs": [],
   "source": [
    "# View the structure of amazon dataset\n",
    "str(amazon)"
   ]
  },
  {
   "cell_type": "code",
   "execution_count": null,
   "id": "a9688d8b-5d75-487c-8408-0bb0c9d2e6fb",
   "metadata": {},
   "outputs": [],
   "source": [
    "# Quick Summary of Amazon Dataset\n",
    "summary(amazon)"
   ]
  },
  {
   "cell_type": "markdown",
   "id": "1dd68b18-4456-41d6-a2a1-2626ce48380e",
   "metadata": {},
   "source": [
    "amazon is dataframe variable, so we can execute all the dataframe functions on amazon variable to get the summary, plot, frequncy, unique, split, subset, order...etc"
   ]
  }
 ],
 "metadata": {
  "kernelspec": {
   "display_name": "R",
   "language": "R",
   "name": "conda-env-r-r"
  },
  "language_info": {
   "codemirror_mode": "r",
   "file_extension": ".r",
   "mimetype": "text/x-r-source",
   "name": "R",
   "pygments_lexer": "r",
   "version": "3.5.1"
  }
 },
 "nbformat": 4,
 "nbformat_minor": 5
}
