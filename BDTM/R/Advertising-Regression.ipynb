{
 "cells": [
  {
   "cell_type": "markdown",
   "id": "9320ed80-f1b8-4d0f-aed8-1f65c1eb19f9",
   "metadata": {},
   "source": [
    "### Big Data Tools for Managers \n",
    "##### Dept. of MBA, Siddaganga Institute of Technology-Tumkur\n",
    "\n",
    "<br><br>\n",
    "#### Working with Advertising dataset\n",
    "\n",
    "Assume, We are the statistical consultant hired by a client to provide advice on improving their sales of particular product. We have Advertisement dataset consist of the sales of that product in 200 different markets , along with advertising budgets for each market like : TV ,Radio and Newspaper.\n",
    "\n",
    "\n",
    "Is it possible for our client, to directly increase sales of their product on any of the market ?;  On other hand , Is there any way to control the advertising expenditure for media ?\n",
    "\n",
    "<a href=\"#\" download>Download Advertising data</a> \n",
    "##### Note: This link take you in another page and then click on File menu -> Save Page As -> Open file window and click on Save\n",
    "\n",
    "* **X**— Sr. Number \n",
    "* **TV**— Budget for the Advertising in TV channel\n",
    "* **Radio**— Budget for the Advertising in Radio channel\n",
    "* **Newspaper**— Budget for the Advertising in Newspaper\n",
    "* **Sales**— Dependent varible Expected Sales from the Market by using Independent Variables(TV, Radio, Newspaper)\n",
    "\n",
    "<br><br>\n"
   ]
  },
  {
   "cell_type": "markdown",
   "id": "040b07b6-422d-49f6-8f93-86123a08479c",
   "metadata": {},
   "source": [
    "### Write R Code for below questions. ###\n",
    "\n",
    "<ol>\n",
    "    <li>Read Advertising dataset in R</li>\n",
    "    <li>Get the dimension of Advertising dataset</li>\n",
    "    <li>Display column names of dataset</li>\n",
    "    <li>View data in Excel like screen</li>\n",
    "    <li>Get the quick summary of dataset</li>\n",
    "    <li>Look the Correlation Sales with all the variables (TV, Newspaper, Radio)</li>\n",
    "    <li>Prepare Simple Linear Regression Model & Display Summary of Model</li>\n",
    "    <li>Compute Sum of Square Error for Simple Regression Model</li>\n",
    "    <li>Prepare Multiple Linear Regression Model(Adding indepent variable into Model)</li>\n",
    "    <li>Compute Sum of Square Error for Multiple Regression Model</li>\n",
    "    <li>Prediction on new data</li>\n",
    "    <li>Prepare Formula</li>"
   ]
  },
  {
   "cell_type": "code",
   "execution_count": null,
   "id": "8c4f7469-141e-45cf-bcaa-9cdb67257572",
   "metadata": {},
   "outputs": [],
   "source": [
    "# Read Advertising dataset in R\n",
    "data <- read.csv(\"Advertising.csv\")"
   ]
  },
  {
   "cell_type": "code",
   "execution_count": null,
   "id": "ce62ad89-8d0d-462f-9415-d4a741c3a12f",
   "metadata": {},
   "outputs": [],
   "source": [
    "# Get the dimension of Advertising dataset\n",
    "dim(data)"
   ]
  },
  {
   "cell_type": "code",
   "execution_count": null,
   "id": "93a2bc95-4ba4-4ca4-ac21-af935e68c794",
   "metadata": {},
   "outputs": [],
   "source": [
    "# Display column names of dataset\n",
    "colnames(data)"
   ]
  },
  {
   "cell_type": "code",
   "execution_count": null,
   "id": "b92c027f-8fcd-4951-823e-d383c36cc2b2",
   "metadata": {},
   "outputs": [],
   "source": [
    "# View data in Excel like screen\n",
    "View(data)"
   ]
  },
  {
   "cell_type": "code",
   "execution_count": null,
   "id": "a0bf8c4d-2662-4513-928e-9aab32602b0d",
   "metadata": {},
   "outputs": [],
   "source": [
    "# Get the quick summary of dataset\n",
    "summary(data)"
   ]
  },
  {
   "cell_type": "code",
   "execution_count": null,
   "id": "4f7edcdd-344d-448d-8d21-e7dc94ca973b",
   "metadata": {},
   "outputs": [],
   "source": [
    "# Look the Correlation Sales with all the variables (TV, Newspaper, Radio)\n",
    "cor(data$Radio, data$Sales)\n",
    "cor(data$TV, data$Sales)"
   ]
  },
  {
   "cell_type": "code",
   "execution_count": null,
   "id": "2f3ea84e-14a4-474d-b74f-c074f5ee08ce",
   "metadata": {},
   "outputs": [],
   "source": [
    "plot(data$TV,data$Sales)"
   ]
  },
  {
   "cell_type": "code",
   "execution_count": null,
   "id": "d5adb91b-6a38-4e5c-8935-093498c0eabc",
   "metadata": {},
   "outputs": [],
   "source": [
    "# Prepare Simple Linear Regression Model & Display Summary of Model\n",
    "model_1 <- lm(Sales ~ Radio, data)\n",
    "summary(model_1)"
   ]
  },
  {
   "cell_type": "code",
   "execution_count": null,
   "id": "6361c9b3-f99f-4c29-a695-900cb4eee0e3",
   "metadata": {},
   "outputs": [],
   "source": [
    "# Compute Sum of Square Error for Simple Regression Model\n",
    "SSE_model_1<- sum(model1$residuals^2)\n",
    "print(SSE_model_1)"
   ]
  },
  {
   "cell_type": "code",
   "execution_count": null,
   "id": "56d763ee-8ac3-4a76-8a30-ad62d50bbd05",
   "metadata": {},
   "outputs": [],
   "source": [
    "# Prepare Multiple Linear Regression Model(Adding indepent variable into Model)\n",
    "model_2 <- lm(Sales~Radio+TV, data)\n",
    "summary(model_2)"
   ]
  },
  {
   "cell_type": "code",
   "execution_count": null,
   "id": "84492efa-e7aa-41a0-9350-38ff706dd8d0",
   "metadata": {},
   "outputs": [],
   "source": [
    "#Compute SSE for model2\n",
    "SSE_model_2 <- sum(model_2$residuals^2)\n",
    "print(SSE_model_2)"
   ]
  },
  {
   "cell_type": "code",
   "execution_count": null,
   "id": "94bc1f01-300d-43d0-8025-8901856f4be0",
   "metadata": {},
   "outputs": [],
   "source": [
    "# Prediction on new data\n",
    "Radio <- c(1000)\n",
    "TV <- c(1000)\n",
    "new_data <- data.frame(Radio,TV)\n",
    "\n",
    "predict(model_2, new_data)"
   ]
  },
  {
   "cell_type": "code",
   "execution_count": null,
   "id": "20faf00e-85bb-4f03-990e-197d54a21b15",
   "metadata": {},
   "outputs": [],
   "source": [
    "#Prepare Formula\n",
    "b0 <- model_2$coefficients['(Intercept)']\n",
    "b1 <- model_2$coefficients['Radio']\n",
    "b2 <- model_2$coefficients['TV']"
   ]
  },
  {
   "cell_type": "code",
   "execution_count": null,
   "id": "f61b59b3-5589-4810-a1b5-ac3cfa6c07f5",
   "metadata": {},
   "outputs": [],
   "source": [
    "Radio <- 200\n",
    "TV <- 200\n",
    "\n",
    "b0+(b1*Radio)+(b2*TV)"
   ]
  }
 ],
 "metadata": {
  "kernelspec": {
   "display_name": "R",
   "language": "R",
   "name": "conda-env-r-r"
  },
  "language_info": {
   "codemirror_mode": "r",
   "file_extension": ".r",
   "mimetype": "text/x-r-source",
   "name": "R",
   "pygments_lexer": "r",
   "version": "3.5.1"
  }
 },
 "nbformat": 4,
 "nbformat_minor": 5
}
