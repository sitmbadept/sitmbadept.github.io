{
 "cells": [
  {
   "cell_type": "markdown",
   "id": "490a500e-6cbc-4cf0-914d-70a94e672021",
   "metadata": {},
   "source": [
    "## Big Data Tools For Managers\n",
    "\n",
    "### Unit-3 : Introduction to R & R Programming "
   ]
  },
  {
   "cell_type": "markdown",
   "id": "d12cc978-29b7-4746-a31d-e22faf866c2b",
   "metadata": {},
   "source": [
    "#### Variables ####\n",
    "\n",
    "- Variables are container for storing data value in memory.\n",
    "- In R, Variable gets created as soon as it gets assign with some value to it\n",
    "- R Supports, Left assignment (<-), Right Assignment (->) and Equal to (=) for assigning value to the Variable.\n",
    "- Most prefer assignment operator is <- (Left assignment)"
   ]
  },
  {
   "cell_type": "code",
   "execution_count": 8,
   "id": "2cf37f06-44c1-407f-8e28-ecc0e816ac9d",
   "metadata": {},
   "outputs": [],
   "source": [
    "x <- 10\n",
    "y = 100\n",
    "200 -> z\n",
    "\n",
    "a <- b <- c <- \"Hello\"   #Allows assigning same value to multiple variables"
   ]
  },
  {
   "cell_type": "markdown",
   "id": "4aefac8b-cfae-4a3f-8fec-7a18aeab219f",
   "metadata": {},
   "source": [
    "#### Print Function ####\n",
    "- print() function used to display the value of variable in R"
   ]
  },
  {
   "cell_type": "code",
   "execution_count": 15,
   "id": "23c020a6-9fc8-4e56-9211-4719b388ad39",
   "metadata": {},
   "outputs": [
    {
     "name": "stdout",
     "output_type": "stream",
     "text": [
      "[1] 10\n",
      "[1] 100\n",
      "[1] \"Hello\"\n",
      "[1] \"Hello\"\n",
      "[1] \"Hello\"\n"
     ]
    }
   ],
   "source": [
    "print(x) #Value of x\n",
    "print(y) #Value of y\n",
    "print(a)\n",
    "print(b)\n",
    "print(c)"
   ]
  },
  {
   "cell_type": "markdown",
   "id": "e7750beb-244d-4a24-986d-4ddb83b53631",
   "metadata": {},
   "source": [
    "#### Working Directory ####\n",
    "- getwd() function to get the project working directory in R\n",
    "- setwd() function to change or modify the project working directory in R  "
   ]
  },
  {
   "cell_type": "code",
   "execution_count": 11,
   "id": "9cb4ec1c-733e-4c37-8250-870344f0ef9a",
   "metadata": {},
   "outputs": [
    {
     "data": {
      "text/html": [
       "'/resources/labs/R101'"
      ],
      "text/latex": [
       "'/resources/labs/R101'"
      ],
      "text/markdown": [
       "'/resources/labs/R101'"
      ],
      "text/plain": [
       "[1] \"/resources/labs/R101\""
      ]
     },
     "metadata": {},
     "output_type": "display_data"
    }
   ],
   "source": [
    "getwd()"
   ]
  },
  {
   "cell_type": "code",
   "execution_count": 13,
   "id": "86ce5a25-af75-42e1-b36f-f1447ffc870a",
   "metadata": {},
   "outputs": [],
   "source": [
    "setwd(\"D:/R/Programs\")"
   ]
  },
  {
   "cell_type": "markdown",
   "id": "5e16d240-d390-4405-96de-ee55530a25a7",
   "metadata": {},
   "source": [
    "#### Comments ####\n",
    "- R allows to annotate the code with comments.\n",
    "- Comments line start with #(Hash) and anything after that will be ignored for execution in R"
   ]
  },
  {
   "cell_type": "code",
   "execution_count": 16,
   "id": "68d121c0-1a42-46c5-bd66-afc849601954",
   "metadata": {},
   "outputs": [
    {
     "data": {
      "text/html": [
       "20"
      ],
      "text/latex": [
       "20"
      ],
      "text/markdown": [
       "20"
      ],
      "text/plain": [
       "[1] 20"
      ]
     },
     "metadata": {},
     "output_type": "display_data"
    }
   ],
   "source": [
    "# This is comment lines\n",
    "10 + 10 #Addition of two numbers"
   ]
  },
  {
   "cell_type": "markdown",
   "id": "c4f66140-0647-473f-8e67-ccf1c141af83",
   "metadata": {},
   "source": [
    "#### R Packages ####\n",
    "- install.packages() functions to download and install packages from Internet.\n",
    "- library() functions to import downloaded package in R code/program.\n"
   ]
  },
  {
   "cell_type": "code",
   "execution_count": 20,
   "id": "4d1d0d6c-ccc9-46dc-ae4d-3d7bd992f5f8",
   "metadata": {},
   "outputs": [],
   "source": [
    "install.packages(\"car\") #Dowload Regression packages\n",
    "install.packages(\"tm\")  #Text Mining Packages"
   ]
  },
  {
   "cell_type": "code",
   "execution_count": 21,
   "id": "01b5d9fb-cc89-49a3-b5c4-58e2552dd8aa",
   "metadata": {},
   "outputs": [],
   "source": [
    "library(\"car\") # Importing car package in R Code\n",
    "library(\"tm\")  # Importing Text Mining package in R Code "
   ]
  },
  {
   "cell_type": "markdown",
   "id": "7a9dc211-71cf-462b-a82b-8809b81d2c3a",
   "metadata": {},
   "source": [
    "### Basic Data Types ###\n",
    "\n",
    "- print function helps to display/get the value of variable \n",
    "- class function helps to get the class for Data Type"
   ]
  },
  {
   "cell_type": "code",
   "execution_count": 23,
   "id": "2fa24137-9809-47af-812e-7608f5e1c3bc",
   "metadata": {},
   "outputs": [
    {
     "name": "stdout",
     "output_type": "stream",
     "text": [
      "[1] TRUE\n"
     ]
    }
   ],
   "source": [
    "# Logical \n",
    "\n",
    "x <- TRUE\n",
    "print(x)"
   ]
  },
  {
   "cell_type": "code",
   "execution_count": 25,
   "id": "af120bab-49b9-4fe1-a0bb-142c55959436",
   "metadata": {},
   "outputs": [
    {
     "data": {
      "text/html": [
       "'logical'"
      ],
      "text/latex": [
       "'logical'"
      ],
      "text/markdown": [
       "'logical'"
      ],
      "text/plain": [
       "[1] \"logical\""
      ]
     },
     "metadata": {},
     "output_type": "display_data"
    }
   ],
   "source": [
    "class(x)"
   ]
  },
  {
   "cell_type": "code",
   "execution_count": null,
   "id": "df547605-3550-4639-ae8b-0d382d97c581",
   "metadata": {},
   "outputs": [],
   "source": []
  },
  {
   "cell_type": "code",
   "execution_count": 26,
   "id": "d095f0b5-f33e-4026-879c-970a9574eb89",
   "metadata": {},
   "outputs": [
    {
     "name": "stdout",
     "output_type": "stream",
     "text": [
      "[1] 70.15\n"
     ]
    }
   ],
   "source": [
    "# Numeric\n",
    "x <- 70.15\n",
    "print(x)"
   ]
  },
  {
   "cell_type": "code",
   "execution_count": 27,
   "id": "34caf051-c7e2-4f6a-af81-10c436cab688",
   "metadata": {},
   "outputs": [
    {
     "data": {
      "text/html": [
       "'numeric'"
      ],
      "text/latex": [
       "'numeric'"
      ],
      "text/markdown": [
       "'numeric'"
      ],
      "text/plain": [
       "[1] \"numeric\""
      ]
     },
     "metadata": {},
     "output_type": "display_data"
    }
   ],
   "source": [
    "class(x)"
   ]
  },
  {
   "cell_type": "code",
   "execution_count": null,
   "id": "2e239f30-4762-4d6d-9585-1df748a5b501",
   "metadata": {},
   "outputs": [],
   "source": []
  },
  {
   "cell_type": "code",
   "execution_count": 28,
   "id": "a7146fe7-58c3-4be7-b1a0-2ae268f0aa30",
   "metadata": {},
   "outputs": [
    {
     "name": "stdout",
     "output_type": "stream",
     "text": [
      "[1] 10\n"
     ]
    }
   ],
   "source": [
    "# Integer\n",
    "x <- 10L\n",
    "print(x)"
   ]
  },
  {
   "cell_type": "code",
   "execution_count": 29,
   "id": "c65a6278-395b-4b05-8650-86f27c54cb31",
   "metadata": {},
   "outputs": [
    {
     "data": {
      "text/html": [
       "'integer'"
      ],
      "text/latex": [
       "'integer'"
      ],
      "text/markdown": [
       "'integer'"
      ],
      "text/plain": [
       "[1] \"integer\""
      ]
     },
     "metadata": {},
     "output_type": "display_data"
    }
   ],
   "source": [
    "class(x)"
   ]
  },
  {
   "cell_type": "code",
   "execution_count": null,
   "id": "27072039-d479-4515-9144-58a6c5304bc5",
   "metadata": {},
   "outputs": [],
   "source": []
  },
  {
   "cell_type": "code",
   "execution_count": 30,
   "id": "2bb3c692-d1db-4319-a6e2-e3ff8c883ec7",
   "metadata": {},
   "outputs": [
    {
     "name": "stdout",
     "output_type": "stream",
     "text": [
      "[1] 6+4i\n"
     ]
    }
   ],
   "source": [
    "# Complex Number\n",
    "x <- 6+4i\n",
    "print(x)"
   ]
  },
  {
   "cell_type": "code",
   "execution_count": 31,
   "id": "20abdc07-6922-40d9-ab4c-e97113a47477",
   "metadata": {},
   "outputs": [
    {
     "data": {
      "text/html": [
       "'complex'"
      ],
      "text/latex": [
       "'complex'"
      ],
      "text/markdown": [
       "'complex'"
      ],
      "text/plain": [
       "[1] \"complex\""
      ]
     },
     "metadata": {},
     "output_type": "display_data"
    }
   ],
   "source": [
    "class(x)"
   ]
  },
  {
   "cell_type": "code",
   "execution_count": null,
   "id": "d4b2e178-55c1-496c-ad3b-4baac44188b0",
   "metadata": {},
   "outputs": [],
   "source": []
  },
  {
   "cell_type": "code",
   "execution_count": 35,
   "id": "b4d77ba3-eecb-445f-9ed7-c232b54611d3",
   "metadata": {},
   "outputs": [],
   "source": [
    "# Character\n",
    "\n",
    "x <- \"Hello World\" #with Double qoute\n",
    "y <- 'yes' #with single quote "
   ]
  },
  {
   "cell_type": "code",
   "execution_count": 36,
   "id": "5084eb1b-067a-44b6-855d-f0728b156c03",
   "metadata": {},
   "outputs": [
    {
     "name": "stdout",
     "output_type": "stream",
     "text": [
      "[1] \"Hello World\"\n",
      "[1] \"yes\"\n"
     ]
    }
   ],
   "source": [
    "print(x)\n",
    "print(y)"
   ]
  },
  {
   "cell_type": "code",
   "execution_count": 37,
   "id": "9b37487a-1d3a-4dd3-9e63-959eb5dd9b5c",
   "metadata": {},
   "outputs": [
    {
     "data": {
      "text/html": [
       "'character'"
      ],
      "text/latex": [
       "'character'"
      ],
      "text/markdown": [
       "'character'"
      ],
      "text/plain": [
       "[1] \"character\""
      ]
     },
     "metadata": {},
     "output_type": "display_data"
    },
    {
     "data": {
      "text/html": [
       "'character'"
      ],
      "text/latex": [
       "'character'"
      ],
      "text/markdown": [
       "'character'"
      ],
      "text/plain": [
       "[1] \"character\""
      ]
     },
     "metadata": {},
     "output_type": "display_data"
    }
   ],
   "source": [
    "class(x)\n",
    "class(y)"
   ]
  },
  {
   "cell_type": "code",
   "execution_count": null,
   "id": "f49dceb4-76db-480e-a376-582dd5928d6f",
   "metadata": {},
   "outputs": [],
   "source": []
  },
  {
   "cell_type": "markdown",
   "id": "1677e783-23cf-48a0-93d1-a5f8b1d420a9",
   "metadata": {},
   "source": [
    "## Vectors ###\n",
    "- Vector is the essential building block for handling multiple items in R\n",
    "- Combine/Concatenation function c() used to create vectors with the help of Basic data types"
   ]
  },
  {
   "cell_type": "markdown",
   "id": "b2241b6b-75c2-4775-8cce-4c2d3d25893a",
   "metadata": {},
   "source": [
    "### Vector Creation"
   ]
  },
  {
   "cell_type": "code",
   "execution_count": 138,
   "id": "ce917eba-2c48-4ebb-b813-a3a95f0604c6",
   "metadata": {},
   "outputs": [],
   "source": [
    "fruits <- c(\"Apple\", \"Banana\", \"Orange\")  # Character type Vector\n",
    "num <- c(1,2,3,4,5,6,100,400,500,11,12) # Numeric Vector"
   ]
  },
  {
   "cell_type": "code",
   "execution_count": 139,
   "id": "a15c95a4-b5b2-476d-b88f-a39c0fbb86e0",
   "metadata": {},
   "outputs": [
    {
     "name": "stdout",
     "output_type": "stream",
     "text": [
      "[1] \"Apple\"  \"Banana\" \"Orange\"\n",
      " [1]   1   2   3   4   5   6 100 400 500  11  12\n"
     ]
    }
   ],
   "source": [
    "print(fruits)\n",
    "print(num)"
   ]
  },
  {
   "cell_type": "code",
   "execution_count": 140,
   "id": "e6f3b6d6-1906-479b-82ab-30f0465d65f3",
   "metadata": {},
   "outputs": [
    {
     "data": {
      "text/html": [
       "'character'"
      ],
      "text/latex": [
       "'character'"
      ],
      "text/markdown": [
       "'character'"
      ],
      "text/plain": [
       "[1] \"character\""
      ]
     },
     "metadata": {},
     "output_type": "display_data"
    },
    {
     "data": {
      "text/html": [
       "'numeric'"
      ],
      "text/latex": [
       "'numeric'"
      ],
      "text/markdown": [
       "'numeric'"
      ],
      "text/plain": [
       "[1] \"numeric\""
      ]
     },
     "metadata": {},
     "output_type": "display_data"
    }
   ],
   "source": [
    "class(fruits)\n",
    "class(num)"
   ]
  },
  {
   "cell_type": "markdown",
   "id": "0f801f48-10ae-4322-8e53-013d4cf04141",
   "metadata": {},
   "source": [
    "### Accessing Element from Vector\n",
    "\n",
    "- We can access vector element by it's index, and index start from 1 to N.\n",
    "\n",
    "\n",
    "vector_variable[index]\n",
    "\n"
   ]
  },
  {
   "cell_type": "code",
   "execution_count": 141,
   "id": "d8f7cca5-3a41-4934-8edf-603023999ad8",
   "metadata": {},
   "outputs": [
    {
     "data": {
      "text/html": [
       "'Apple'"
      ],
      "text/latex": [
       "'Apple'"
      ],
      "text/markdown": [
       "'Apple'"
      ],
      "text/plain": [
       "[1] \"Apple\""
      ]
     },
     "metadata": {},
     "output_type": "display_data"
    }
   ],
   "source": [
    "fruits[1] # 1st Index"
   ]
  },
  {
   "cell_type": "code",
   "execution_count": 142,
   "id": "9bcc6c39-b21a-46c7-9dba-825e5962946d",
   "metadata": {},
   "outputs": [
    {
     "data": {
      "text/html": [
       "3"
      ],
      "text/latex": [
       "3"
      ],
      "text/markdown": [
       "3"
      ],
      "text/plain": [
       "[1] 3"
      ]
     },
     "metadata": {},
     "output_type": "display_data"
    }
   ],
   "source": [
    "num[3] #3rd index "
   ]
  },
  {
   "cell_type": "code",
   "execution_count": 149,
   "id": "024b5917-a4e4-490f-b2f8-a2f5f9cad6f5",
   "metadata": {},
   "outputs": [
    {
     "data": {
      "text/html": [
       "<style>\n",
       ".list-inline {list-style: none; margin:0; padding: 0}\n",
       ".list-inline>li {display: inline-block}\n",
       ".list-inline>li:not(:last-child)::after {content: \"\\00b7\"; padding: 0 .5ex}\n",
       "</style>\n",
       "<ol class=list-inline><li>4</li><li>5</li><li>6</li></ol>\n"
      ],
      "text/latex": [
       "\\begin{enumerate*}\n",
       "\\item 4\n",
       "\\item 5\n",
       "\\item 6\n",
       "\\end{enumerate*}\n"
      ],
      "text/markdown": [
       "1. 4\n",
       "2. 5\n",
       "3. 6\n",
       "\n",
       "\n"
      ],
      "text/plain": [
       "[1] 4 5 6"
      ]
     },
     "metadata": {},
     "output_type": "display_data"
    }
   ],
   "source": [
    "num[4:6] #Continoues index 4 to 6"
   ]
  },
  {
   "cell_type": "code",
   "execution_count": 150,
   "id": "7f9b17da-12b6-4237-8710-d386230f1b15",
   "metadata": {},
   "outputs": [
    {
     "data": {
      "text/html": [
       "<style>\n",
       ".list-inline {list-style: none; margin:0; padding: 0}\n",
       ".list-inline>li {display: inline-block}\n",
       ".list-inline>li:not(:last-child)::after {content: \"\\00b7\"; padding: 0 .5ex}\n",
       "</style>\n",
       "<ol class=list-inline><li>1</li><li>500</li><li>11</li></ol>\n"
      ],
      "text/latex": [
       "\\begin{enumerate*}\n",
       "\\item 1\n",
       "\\item 500\n",
       "\\item 11\n",
       "\\end{enumerate*}\n"
      ],
      "text/markdown": [
       "1. 1\n",
       "2. 500\n",
       "3. 11\n",
       "\n",
       "\n"
      ],
      "text/plain": [
       "[1]   1 500  11"
      ]
     },
     "metadata": {},
     "output_type": "display_data"
    }
   ],
   "source": [
    "num[c(1,9,10)] #Index with discreate index"
   ]
  },
  {
   "cell_type": "code",
   "execution_count": 153,
   "id": "5223cd5c-3565-43cb-b57c-60149b438f8f",
   "metadata": {},
   "outputs": [
    {
     "data": {
      "text/html": [
       "<style>\n",
       ".list-inline {list-style: none; margin:0; padding: 0}\n",
       ".list-inline>li {display: inline-block}\n",
       ".list-inline>li:not(:last-child)::after {content: \"\\00b7\"; padding: 0 .5ex}\n",
       "</style>\n",
       "<ol class=list-inline><li>2</li><li>3</li><li>4</li><li>5</li><li>6</li><li>100</li><li>400</li><li>500</li><li>11</li><li>12</li></ol>\n"
      ],
      "text/latex": [
       "\\begin{enumerate*}\n",
       "\\item 2\n",
       "\\item 3\n",
       "\\item 4\n",
       "\\item 5\n",
       "\\item 6\n",
       "\\item 100\n",
       "\\item 400\n",
       "\\item 500\n",
       "\\item 11\n",
       "\\item 12\n",
       "\\end{enumerate*}\n"
      ],
      "text/markdown": [
       "1. 2\n",
       "2. 3\n",
       "3. 4\n",
       "4. 5\n",
       "5. 6\n",
       "6. 100\n",
       "7. 400\n",
       "8. 500\n",
       "9. 11\n",
       "10. 12\n",
       "\n",
       "\n"
      ],
      "text/plain": [
       " [1]   2   3   4   5   6 100 400 500  11  12"
      ]
     },
     "metadata": {},
     "output_type": "display_data"
    }
   ],
   "source": [
    "num[-1]  # Negative index to exlude the element, display all the elemenet except 1st so we have specified indexed in negative"
   ]
  },
  {
   "cell_type": "code",
   "execution_count": 155,
   "id": "f545f0f8-a2f5-4b30-9a37-739f047cd80b",
   "metadata": {},
   "outputs": [
    {
     "data": {
      "text/html": [
       "<style>\n",
       ".list-inline {list-style: none; margin:0; padding: 0}\n",
       ".list-inline>li {display: inline-block}\n",
       ".list-inline>li:not(:last-child)::after {content: \"\\00b7\"; padding: 0 .5ex}\n",
       "</style>\n",
       "<ol class=list-inline><li>2</li><li>3</li><li>4</li><li>6</li><li>100</li><li>400</li><li>500</li><li>12</li></ol>\n"
      ],
      "text/latex": [
       "\\begin{enumerate*}\n",
       "\\item 2\n",
       "\\item 3\n",
       "\\item 4\n",
       "\\item 6\n",
       "\\item 100\n",
       "\\item 400\n",
       "\\item 500\n",
       "\\item 12\n",
       "\\end{enumerate*}\n"
      ],
      "text/markdown": [
       "1. 2\n",
       "2. 3\n",
       "3. 4\n",
       "4. 6\n",
       "5. 100\n",
       "6. 400\n",
       "7. 500\n",
       "8. 12\n",
       "\n",
       "\n"
      ],
      "text/plain": [
       "[1]   2   3   4   6 100 400 500  12"
      ]
     },
     "metadata": {},
     "output_type": "display_data"
    }
   ],
   "source": [
    "num[c(-1,-5,-10)] # Exclude element index 1, 5 and 10 "
   ]
  },
  {
   "cell_type": "code",
   "execution_count": null,
   "id": "e57b7dbd-6153-4eea-8db6-f2762bc53a34",
   "metadata": {},
   "outputs": [],
   "source": []
  },
  {
   "cell_type": "markdown",
   "id": "a1310a22-1892-490a-b502-95889177e58c",
   "metadata": {},
   "source": [
    "### Continuous Range"
   ]
  },
  {
   "cell_type": "code",
   "execution_count": 48,
   "id": "d5e113ed-4e68-4bdd-a842-e60884377f1f",
   "metadata": {},
   "outputs": [],
   "source": [
    "x <- 1 : 50\n",
    "y <- 10.5 : 15.5"
   ]
  },
  {
   "cell_type": "code",
   "execution_count": 49,
   "id": "28a34bf7-98a4-4dcb-b324-833db56a3c8e",
   "metadata": {},
   "outputs": [
    {
     "name": "stdout",
     "output_type": "stream",
     "text": [
      " [1]  1  2  3  4  5  6  7  8  9 10 11 12 13 14 15 16 17 18 19 20 21 22 23 24 25\n",
      "[26] 26 27 28 29 30 31 32 33 34 35 36 37 38 39 40 41 42 43 44 45 46 47 48 49 50\n"
     ]
    }
   ],
   "source": [
    "print(x)"
   ]
  },
  {
   "cell_type": "code",
   "execution_count": 50,
   "id": "e73b7be4-c32a-416f-82ff-4bbea6025767",
   "metadata": {},
   "outputs": [
    {
     "name": "stdout",
     "output_type": "stream",
     "text": [
      "[1] 10.5 11.5 12.5 13.5 14.5 15.5\n"
     ]
    }
   ],
   "source": [
    "print(y)"
   ]
  },
  {
   "cell_type": "code",
   "execution_count": null,
   "id": "97743b07-c9cf-4069-af7b-1583ad0a3111",
   "metadata": {},
   "outputs": [],
   "source": []
  },
  {
   "cell_type": "markdown",
   "id": "c2d08480-261e-441e-bd3f-8d0df215cf28",
   "metadata": {},
   "source": [
    "### Sequence \n",
    "- Common useful functions to create continuous number generation\n",
    "\n",
    "seq(from=, to=, by= )\n",
    "\n",
    "seq(from=, to=, length.out=)"
   ]
  },
  {
   "cell_type": "code",
   "execution_count": 51,
   "id": "ff3156f6-007d-4610-8523-96307440fc93",
   "metadata": {},
   "outputs": [
    {
     "data": {
      "text/html": [
       "<style>\n",
       ".list-inline {list-style: none; margin:0; padding: 0}\n",
       ".list-inline>li {display: inline-block}\n",
       ".list-inline>li:not(:last-child)::after {content: \"\\00b7\"; padding: 0 .5ex}\n",
       "</style>\n",
       "<ol class=list-inline><li>1</li><li>2</li><li>3</li><li>4</li><li>5</li><li>6</li><li>7</li><li>8</li><li>9</li><li>10</li></ol>\n"
      ],
      "text/latex": [
       "\\begin{enumerate*}\n",
       "\\item 1\n",
       "\\item 2\n",
       "\\item 3\n",
       "\\item 4\n",
       "\\item 5\n",
       "\\item 6\n",
       "\\item 7\n",
       "\\item 8\n",
       "\\item 9\n",
       "\\item 10\n",
       "\\end{enumerate*}\n"
      ],
      "text/markdown": [
       "1. 1\n",
       "2. 2\n",
       "3. 3\n",
       "4. 4\n",
       "5. 5\n",
       "6. 6\n",
       "7. 7\n",
       "8. 8\n",
       "9. 9\n",
       "10. 10\n",
       "\n",
       "\n"
      ],
      "text/plain": [
       " [1]  1  2  3  4  5  6  7  8  9 10"
      ]
     },
     "metadata": {},
     "output_type": "display_data"
    }
   ],
   "source": [
    "seq(from=1, to=10, by=1)"
   ]
  },
  {
   "cell_type": "code",
   "execution_count": 55,
   "id": "44f8cf8d-8ec8-489c-9232-3a0b1cb3fe79",
   "metadata": {},
   "outputs": [
    {
     "data": {
      "text/html": [
       "<style>\n",
       ".list-inline {list-style: none; margin:0; padding: 0}\n",
       ".list-inline>li {display: inline-block}\n",
       ".list-inline>li:not(:last-child)::after {content: \"\\00b7\"; padding: 0 .5ex}\n",
       "</style>\n",
       "<ol class=list-inline><li>10</li><li>20</li><li>30</li><li>40</li><li>50</li><li>60</li><li>70</li><li>80</li><li>90</li><li>100</li></ol>\n"
      ],
      "text/latex": [
       "\\begin{enumerate*}\n",
       "\\item 10\n",
       "\\item 20\n",
       "\\item 30\n",
       "\\item 40\n",
       "\\item 50\n",
       "\\item 60\n",
       "\\item 70\n",
       "\\item 80\n",
       "\\item 90\n",
       "\\item 100\n",
       "\\end{enumerate*}\n"
      ],
      "text/markdown": [
       "1. 10\n",
       "2. 20\n",
       "3. 30\n",
       "4. 40\n",
       "5. 50\n",
       "6. 60\n",
       "7. 70\n",
       "8. 80\n",
       "9. 90\n",
       "10. 100\n",
       "\n",
       "\n"
      ],
      "text/plain": [
       " [1]  10  20  30  40  50  60  70  80  90 100"
      ]
     },
     "metadata": {},
     "output_type": "display_data"
    }
   ],
   "source": [
    "seq(from=10, to=100, by=10) # Increment by 10"
   ]
  },
  {
   "cell_type": "code",
   "execution_count": 56,
   "id": "2e01dd4a-4dae-4395-a1d7-56591eb415f1",
   "metadata": {},
   "outputs": [
    {
     "data": {
      "text/html": [
       "<style>\n",
       ".list-inline {list-style: none; margin:0; padding: 0}\n",
       ".list-inline>li {display: inline-block}\n",
       ".list-inline>li:not(:last-child)::after {content: \"\\00b7\"; padding: 0 .5ex}\n",
       "</style>\n",
       "<ol class=list-inline><li>1</li><li>3</li><li>5</li><li>7</li><li>9</li></ol>\n"
      ],
      "text/latex": [
       "\\begin{enumerate*}\n",
       "\\item 1\n",
       "\\item 3\n",
       "\\item 5\n",
       "\\item 7\n",
       "\\item 9\n",
       "\\end{enumerate*}\n"
      ],
      "text/markdown": [
       "1. 1\n",
       "2. 3\n",
       "3. 5\n",
       "4. 7\n",
       "5. 9\n",
       "\n",
       "\n"
      ],
      "text/plain": [
       "[1] 1 3 5 7 9"
      ]
     },
     "metadata": {},
     "output_type": "display_data"
    }
   ],
   "source": [
    "seq(from=1, to=10, by=2) # Increment by 2"
   ]
  },
  {
   "cell_type": "code",
   "execution_count": 57,
   "id": "2074e815-80c8-4d51-bc96-b63b109862b9",
   "metadata": {},
   "outputs": [
    {
     "data": {
      "text/html": [
       "<style>\n",
       ".list-inline {list-style: none; margin:0; padding: 0}\n",
       ".list-inline>li {display: inline-block}\n",
       ".list-inline>li:not(:last-child)::after {content: \"\\00b7\"; padding: 0 .5ex}\n",
       "</style>\n",
       "<ol class=list-inline><li>1</li><li>1.47368421052632</li><li>1.94736842105263</li><li>2.42105263157895</li><li>2.89473684210526</li><li>3.36842105263158</li><li>3.84210526315789</li><li>4.31578947368421</li><li>4.78947368421053</li><li>5.26315789473684</li><li>5.73684210526316</li><li>6.21052631578947</li><li>6.68421052631579</li><li>7.15789473684211</li><li>7.63157894736842</li><li>8.10526315789474</li><li>8.57894736842105</li><li>9.05263157894737</li><li>9.52631578947368</li><li>10</li></ol>\n"
      ],
      "text/latex": [
       "\\begin{enumerate*}\n",
       "\\item 1\n",
       "\\item 1.47368421052632\n",
       "\\item 1.94736842105263\n",
       "\\item 2.42105263157895\n",
       "\\item 2.89473684210526\n",
       "\\item 3.36842105263158\n",
       "\\item 3.84210526315789\n",
       "\\item 4.31578947368421\n",
       "\\item 4.78947368421053\n",
       "\\item 5.26315789473684\n",
       "\\item 5.73684210526316\n",
       "\\item 6.21052631578947\n",
       "\\item 6.68421052631579\n",
       "\\item 7.15789473684211\n",
       "\\item 7.63157894736842\n",
       "\\item 8.10526315789474\n",
       "\\item 8.57894736842105\n",
       "\\item 9.05263157894737\n",
       "\\item 9.52631578947368\n",
       "\\item 10\n",
       "\\end{enumerate*}\n"
      ],
      "text/markdown": [
       "1. 1\n",
       "2. 1.47368421052632\n",
       "3. 1.94736842105263\n",
       "4. 2.42105263157895\n",
       "5. 2.89473684210526\n",
       "6. 3.36842105263158\n",
       "7. 3.84210526315789\n",
       "8. 4.31578947368421\n",
       "9. 4.78947368421053\n",
       "10. 5.26315789473684\n",
       "11. 5.73684210526316\n",
       "12. 6.21052631578947\n",
       "13. 6.68421052631579\n",
       "14. 7.15789473684211\n",
       "15. 7.63157894736842\n",
       "16. 8.10526315789474\n",
       "17. 8.57894736842105\n",
       "18. 9.05263157894737\n",
       "19. 9.52631578947368\n",
       "20. 10\n",
       "\n",
       "\n"
      ],
      "text/plain": [
       " [1]  1.000000  1.473684  1.947368  2.421053  2.894737  3.368421  3.842105\n",
       " [8]  4.315789  4.789474  5.263158  5.736842  6.210526  6.684211  7.157895\n",
       "[15]  7.631579  8.105263  8.578947  9.052632  9.526316 10.000000"
      ]
     },
     "metadata": {},
     "output_type": "display_data"
    }
   ],
   "source": [
    "seq(from=1, to=10, length.out=20) # Generate 20 number in between 1 to 10"
   ]
  },
  {
   "cell_type": "code",
   "execution_count": null,
   "id": "9496a94f-52f4-41a8-b2ef-1b4eeede7fa9",
   "metadata": {},
   "outputs": [],
   "source": []
  },
  {
   "cell_type": "markdown",
   "id": "218f24bc-b45c-4b61-85fe-a9a05ab3ce31",
   "metadata": {},
   "source": [
    "### Repeat \n",
    "- Common useful functions to repeat the certain values in Vector\n",
    "\n",
    "rep(x= ,times= ) # Number of time X vectors gets repeated\n",
    "\n",
    "rep(x= ,each= ) # Number of time each X vectors get repeated"
   ]
  },
  {
   "cell_type": "code",
   "execution_count": 62,
   "id": "65562bb1-5509-46ee-94f2-2bf7769df5b0",
   "metadata": {},
   "outputs": [
    {
     "data": {
      "text/html": [
       "<style>\n",
       ".list-inline {list-style: none; margin:0; padding: 0}\n",
       ".list-inline>li {display: inline-block}\n",
       ".list-inline>li:not(:last-child)::after {content: \"\\00b7\"; padding: 0 .5ex}\n",
       "</style>\n",
       "<ol class=list-inline><li>1</li><li>1</li><li>1</li><li>1</li></ol>\n"
      ],
      "text/latex": [
       "\\begin{enumerate*}\n",
       "\\item 1\n",
       "\\item 1\n",
       "\\item 1\n",
       "\\item 1\n",
       "\\end{enumerate*}\n"
      ],
      "text/markdown": [
       "1. 1\n",
       "2. 1\n",
       "3. 1\n",
       "4. 1\n",
       "\n",
       "\n"
      ],
      "text/plain": [
       "[1] 1 1 1 1"
      ]
     },
     "metadata": {},
     "output_type": "display_data"
    }
   ],
   "source": [
    "rep(x=1, times=4)"
   ]
  },
  {
   "cell_type": "code",
   "execution_count": 63,
   "id": "f2a2736a-eee4-45f7-a9c7-43d8d6a6ae8d",
   "metadata": {},
   "outputs": [
    {
     "data": {
      "text/html": [
       "<style>\n",
       ".list-inline {list-style: none; margin:0; padding: 0}\n",
       ".list-inline>li {display: inline-block}\n",
       ".list-inline>li:not(:last-child)::after {content: \"\\00b7\"; padding: 0 .5ex}\n",
       "</style>\n",
       "<ol class=list-inline><li>1</li><li>2</li><li>3</li><li>1</li><li>2</li><li>3</li><li>1</li><li>2</li><li>3</li><li>1</li><li>2</li><li>3</li></ol>\n"
      ],
      "text/latex": [
       "\\begin{enumerate*}\n",
       "\\item 1\n",
       "\\item 2\n",
       "\\item 3\n",
       "\\item 1\n",
       "\\item 2\n",
       "\\item 3\n",
       "\\item 1\n",
       "\\item 2\n",
       "\\item 3\n",
       "\\item 1\n",
       "\\item 2\n",
       "\\item 3\n",
       "\\end{enumerate*}\n"
      ],
      "text/markdown": [
       "1. 1\n",
       "2. 2\n",
       "3. 3\n",
       "4. 1\n",
       "5. 2\n",
       "6. 3\n",
       "7. 1\n",
       "8. 2\n",
       "9. 3\n",
       "10. 1\n",
       "11. 2\n",
       "12. 3\n",
       "\n",
       "\n"
      ],
      "text/plain": [
       " [1] 1 2 3 1 2 3 1 2 3 1 2 3"
      ]
     },
     "metadata": {},
     "output_type": "display_data"
    }
   ],
   "source": [
    "rep(x=c(1,2,3), times=4)"
   ]
  },
  {
   "cell_type": "code",
   "execution_count": 64,
   "id": "1be6b742-2871-47a8-932f-cc36b7034b9c",
   "metadata": {},
   "outputs": [
    {
     "data": {
      "text/html": [
       "<style>\n",
       ".list-inline {list-style: none; margin:0; padding: 0}\n",
       ".list-inline>li {display: inline-block}\n",
       ".list-inline>li:not(:last-child)::after {content: \"\\00b7\"; padding: 0 .5ex}\n",
       "</style>\n",
       "<ol class=list-inline><li>1</li><li>1</li><li>2</li><li>2</li><li>3</li><li>3</li></ol>\n"
      ],
      "text/latex": [
       "\\begin{enumerate*}\n",
       "\\item 1\n",
       "\\item 1\n",
       "\\item 2\n",
       "\\item 2\n",
       "\\item 3\n",
       "\\item 3\n",
       "\\end{enumerate*}\n"
      ],
      "text/markdown": [
       "1. 1\n",
       "2. 1\n",
       "3. 2\n",
       "4. 2\n",
       "5. 3\n",
       "6. 3\n",
       "\n",
       "\n"
      ],
      "text/plain": [
       "[1] 1 1 2 2 3 3"
      ]
     },
     "metadata": {},
     "output_type": "display_data"
    }
   ],
   "source": [
    "rep(x=c(1,2,3), each=2)"
   ]
  },
  {
   "cell_type": "code",
   "execution_count": 65,
   "id": "a7fc6352-c34d-4d58-a62b-cae49b7a4937",
   "metadata": {},
   "outputs": [
    {
     "data": {
      "text/html": [
       "<style>\n",
       ".list-inline {list-style: none; margin:0; padding: 0}\n",
       ".list-inline>li {display: inline-block}\n",
       ".list-inline>li:not(:last-child)::after {content: \"\\00b7\"; padding: 0 .5ex}\n",
       "</style>\n",
       "<ol class=list-inline><li>1</li><li>1</li><li>2</li><li>2</li><li>3</li><li>3</li><li>1</li><li>1</li><li>2</li><li>2</li><li>3</li><li>3</li><li>1</li><li>1</li><li>2</li><li>2</li><li>3</li><li>3</li><li>1</li><li>1</li><li>2</li><li>2</li><li>3</li><li>3</li></ol>\n"
      ],
      "text/latex": [
       "\\begin{enumerate*}\n",
       "\\item 1\n",
       "\\item 1\n",
       "\\item 2\n",
       "\\item 2\n",
       "\\item 3\n",
       "\\item 3\n",
       "\\item 1\n",
       "\\item 1\n",
       "\\item 2\n",
       "\\item 2\n",
       "\\item 3\n",
       "\\item 3\n",
       "\\item 1\n",
       "\\item 1\n",
       "\\item 2\n",
       "\\item 2\n",
       "\\item 3\n",
       "\\item 3\n",
       "\\item 1\n",
       "\\item 1\n",
       "\\item 2\n",
       "\\item 2\n",
       "\\item 3\n",
       "\\item 3\n",
       "\\end{enumerate*}\n"
      ],
      "text/markdown": [
       "1. 1\n",
       "2. 1\n",
       "3. 2\n",
       "4. 2\n",
       "5. 3\n",
       "6. 3\n",
       "7. 1\n",
       "8. 1\n",
       "9. 2\n",
       "10. 2\n",
       "11. 3\n",
       "12. 3\n",
       "13. 1\n",
       "14. 1\n",
       "15. 2\n",
       "16. 2\n",
       "17. 3\n",
       "18. 3\n",
       "19. 1\n",
       "20. 1\n",
       "21. 2\n",
       "22. 2\n",
       "23. 3\n",
       "24. 3\n",
       "\n",
       "\n"
      ],
      "text/plain": [
       " [1] 1 1 2 2 3 3 1 1 2 2 3 3 1 1 2 2 3 3 1 1 2 2 3 3"
      ]
     },
     "metadata": {},
     "output_type": "display_data"
    }
   ],
   "source": [
    "rep(x=c(1,2,3), each=2, times=4)"
   ]
  },
  {
   "cell_type": "code",
   "execution_count": null,
   "id": "dd417bfa-1e66-406a-8c70-efbb6f03aaef",
   "metadata": {},
   "outputs": [],
   "source": []
  },
  {
   "cell_type": "markdown",
   "id": "dd1bde08-e888-4f3d-9a12-94c44d323539",
   "metadata": {},
   "source": [
    "### Length \n",
    "- length() function helps to find the number of elements/length of vector"
   ]
  },
  {
   "cell_type": "code",
   "execution_count": 67,
   "id": "03c4c941-071b-4aad-8fc1-e98e790ab7cd",
   "metadata": {},
   "outputs": [
    {
     "data": {
      "text/html": [
       "500"
      ],
      "text/latex": [
       "500"
      ],
      "text/markdown": [
       "500"
      ],
      "text/plain": [
       "[1] 500"
      ]
     },
     "metadata": {},
     "output_type": "display_data"
    }
   ],
   "source": [
    "num <- 1:500\n",
    "length(num)"
   ]
  },
  {
   "cell_type": "code",
   "execution_count": 68,
   "id": "cb207a83-0794-4b36-96ab-192155f47287",
   "metadata": {},
   "outputs": [
    {
     "data": {
      "text/html": [
       "3"
      ],
      "text/latex": [
       "3"
      ],
      "text/markdown": [
       "3"
      ],
      "text/plain": [
       "[1] 3"
      ]
     },
     "metadata": {},
     "output_type": "display_data"
    }
   ],
   "source": [
    "x <- c('A','B','C')\n",
    "length(x)"
   ]
  },
  {
   "cell_type": "code",
   "execution_count": null,
   "id": "b08e0070-43b9-455e-949d-8dcc90737055",
   "metadata": {},
   "outputs": [],
   "source": []
  },
  {
   "cell_type": "markdown",
   "id": "fdf913ad-c115-41cd-bd23-62e603cf7d80",
   "metadata": {},
   "source": [
    "### Sort\n",
    "- sort() functions to sort the elements of Vectors.\n",
    "\n",
    "\n",
    "sort(x= , decreasing=FALSE)\n",
    "\n",
    "+ x : is vectors\n",
    "+ decreasing: parameters to sort element in increasing/descrising order"
   ]
  },
  {
   "cell_type": "code",
   "execution_count": 71,
   "id": "0ed59a7f-985f-4bb6-942a-0bfbd392ca7a",
   "metadata": {},
   "outputs": [
    {
     "name": "stdout",
     "output_type": "stream",
     "text": [
      "[1]   2.50  -1.00 -10.00   3.44  55.00\n"
     ]
    }
   ],
   "source": [
    "data = c(2.5, -1, -10, 3.44, 55)\n",
    "print(data)"
   ]
  },
  {
   "cell_type": "code",
   "execution_count": 76,
   "id": "538bfdb3-adc5-44e3-8343-4777da850964",
   "metadata": {},
   "outputs": [
    {
     "data": {
      "text/html": [
       "<style>\n",
       ".list-inline {list-style: none; margin:0; padding: 0}\n",
       ".list-inline>li {display: inline-block}\n",
       ".list-inline>li:not(:last-child)::after {content: \"\\00b7\"; padding: 0 .5ex}\n",
       "</style>\n",
       "<ol class=list-inline><li>-10</li><li>-1</li><li>2.5</li><li>3.44</li><li>55</li></ol>\n"
      ],
      "text/latex": [
       "\\begin{enumerate*}\n",
       "\\item -10\n",
       "\\item -1\n",
       "\\item 2.5\n",
       "\\item 3.44\n",
       "\\item 55\n",
       "\\end{enumerate*}\n"
      ],
      "text/markdown": [
       "1. -10\n",
       "2. -1\n",
       "3. 2.5\n",
       "4. 3.44\n",
       "5. 55\n",
       "\n",
       "\n"
      ],
      "text/plain": [
       "[1] -10.00  -1.00   2.50   3.44  55.00"
      ]
     },
     "metadata": {},
     "output_type": "display_data"
    }
   ],
   "source": [
    "sort(x=data, decreasing=FALSE) # Sort in increasing order, default if FALSE. means always it sort in increasing order incase decreasing ignored"
   ]
  },
  {
   "cell_type": "code",
   "execution_count": 77,
   "id": "9801a28f-56a9-467f-bc78-ca131f5493d0",
   "metadata": {},
   "outputs": [
    {
     "data": {
      "text/html": [
       "<style>\n",
       ".list-inline {list-style: none; margin:0; padding: 0}\n",
       ".list-inline>li {display: inline-block}\n",
       ".list-inline>li:not(:last-child)::after {content: \"\\00b7\"; padding: 0 .5ex}\n",
       "</style>\n",
       "<ol class=list-inline><li>55</li><li>3.44</li><li>2.5</li><li>-1</li><li>-10</li></ol>\n"
      ],
      "text/latex": [
       "\\begin{enumerate*}\n",
       "\\item 55\n",
       "\\item 3.44\n",
       "\\item 2.5\n",
       "\\item -1\n",
       "\\item -10\n",
       "\\end{enumerate*}\n"
      ],
      "text/markdown": [
       "1. 55\n",
       "2. 3.44\n",
       "3. 2.5\n",
       "4. -1\n",
       "5. -10\n",
       "\n",
       "\n"
      ],
      "text/plain": [
       "[1]  55.00   3.44   2.50  -1.00 -10.00"
      ]
     },
     "metadata": {},
     "output_type": "display_data"
    }
   ],
   "source": [
    "sort(x=data, decreasing=TRUE)"
   ]
  },
  {
   "cell_type": "code",
   "execution_count": null,
   "id": "0c6ed7e0-6952-4879-a1c0-7bed7afca184",
   "metadata": {},
   "outputs": [],
   "source": []
  },
  {
   "cell_type": "code",
   "execution_count": null,
   "id": "16ad2b60-4916-4a50-ba4e-202358c47816",
   "metadata": {},
   "outputs": [],
   "source": []
  },
  {
   "cell_type": "markdown",
   "id": "e928d0ca-e67f-41dc-bbf3-a928a3c81529",
   "metadata": {},
   "source": [
    "### LETTERS or letters in-built variables used to create alphabets vectors directly.\n",
    "\n",
    "A vectors of positive integer from  letters return the 20 lower case and LETTERS returns the 26 upper case"
   ]
  },
  {
   "cell_type": "code",
   "execution_count": 78,
   "id": "a68a00b3-b8d0-4ea5-a3f0-a3063f9b43eb",
   "metadata": {},
   "outputs": [
    {
     "data": {
      "text/html": [
       "<style>\n",
       ".list-inline {list-style: none; margin:0; padding: 0}\n",
       ".list-inline>li {display: inline-block}\n",
       ".list-inline>li:not(:last-child)::after {content: \"\\00b7\"; padding: 0 .5ex}\n",
       "</style>\n",
       "<ol class=list-inline><li>'a'</li><li>'b'</li><li>'c'</li><li>'d'</li><li>'e'</li><li>'f'</li><li>'g'</li><li>'h'</li><li>'i'</li><li>'j'</li><li>'k'</li><li>'l'</li><li>'m'</li><li>'n'</li><li>'o'</li><li>'p'</li><li>'q'</li><li>'r'</li><li>'s'</li><li>'t'</li><li>'u'</li><li>'v'</li><li>'w'</li><li>'x'</li><li>'y'</li><li>'z'</li></ol>\n"
      ],
      "text/latex": [
       "\\begin{enumerate*}\n",
       "\\item 'a'\n",
       "\\item 'b'\n",
       "\\item 'c'\n",
       "\\item 'd'\n",
       "\\item 'e'\n",
       "\\item 'f'\n",
       "\\item 'g'\n",
       "\\item 'h'\n",
       "\\item 'i'\n",
       "\\item 'j'\n",
       "\\item 'k'\n",
       "\\item 'l'\n",
       "\\item 'm'\n",
       "\\item 'n'\n",
       "\\item 'o'\n",
       "\\item 'p'\n",
       "\\item 'q'\n",
       "\\item 'r'\n",
       "\\item 's'\n",
       "\\item 't'\n",
       "\\item 'u'\n",
       "\\item 'v'\n",
       "\\item 'w'\n",
       "\\item 'x'\n",
       "\\item 'y'\n",
       "\\item 'z'\n",
       "\\end{enumerate*}\n"
      ],
      "text/markdown": [
       "1. 'a'\n",
       "2. 'b'\n",
       "3. 'c'\n",
       "4. 'd'\n",
       "5. 'e'\n",
       "6. 'f'\n",
       "7. 'g'\n",
       "8. 'h'\n",
       "9. 'i'\n",
       "10. 'j'\n",
       "11. 'k'\n",
       "12. 'l'\n",
       "13. 'm'\n",
       "14. 'n'\n",
       "15. 'o'\n",
       "16. 'p'\n",
       "17. 'q'\n",
       "18. 'r'\n",
       "19. 's'\n",
       "20. 't'\n",
       "21. 'u'\n",
       "22. 'v'\n",
       "23. 'w'\n",
       "24. 'x'\n",
       "25. 'y'\n",
       "26. 'z'\n",
       "\n",
       "\n"
      ],
      "text/plain": [
       " [1] \"a\" \"b\" \"c\" \"d\" \"e\" \"f\" \"g\" \"h\" \"i\" \"j\" \"k\" \"l\" \"m\" \"n\" \"o\" \"p\" \"q\" \"r\" \"s\"\n",
       "[20] \"t\" \"u\" \"v\" \"w\" \"x\" \"y\" \"z\""
      ]
     },
     "metadata": {},
     "output_type": "display_data"
    }
   ],
   "source": [
    "letters"
   ]
  },
  {
   "cell_type": "code",
   "execution_count": 79,
   "id": "73b24f85-8f9c-431a-9863-be4a07ee8ddd",
   "metadata": {},
   "outputs": [
    {
     "data": {
      "text/html": [
       "<style>\n",
       ".list-inline {list-style: none; margin:0; padding: 0}\n",
       ".list-inline>li {display: inline-block}\n",
       ".list-inline>li:not(:last-child)::after {content: \"\\00b7\"; padding: 0 .5ex}\n",
       "</style>\n",
       "<ol class=list-inline><li>'A'</li><li>'B'</li><li>'C'</li><li>'D'</li><li>'E'</li><li>'F'</li><li>'G'</li><li>'H'</li><li>'I'</li><li>'J'</li><li>'K'</li><li>'L'</li><li>'M'</li><li>'N'</li><li>'O'</li><li>'P'</li><li>'Q'</li><li>'R'</li><li>'S'</li><li>'T'</li><li>'U'</li><li>'V'</li><li>'W'</li><li>'X'</li><li>'Y'</li><li>'Z'</li></ol>\n"
      ],
      "text/latex": [
       "\\begin{enumerate*}\n",
       "\\item 'A'\n",
       "\\item 'B'\n",
       "\\item 'C'\n",
       "\\item 'D'\n",
       "\\item 'E'\n",
       "\\item 'F'\n",
       "\\item 'G'\n",
       "\\item 'H'\n",
       "\\item 'I'\n",
       "\\item 'J'\n",
       "\\item 'K'\n",
       "\\item 'L'\n",
       "\\item 'M'\n",
       "\\item 'N'\n",
       "\\item 'O'\n",
       "\\item 'P'\n",
       "\\item 'Q'\n",
       "\\item 'R'\n",
       "\\item 'S'\n",
       "\\item 'T'\n",
       "\\item 'U'\n",
       "\\item 'V'\n",
       "\\item 'W'\n",
       "\\item 'X'\n",
       "\\item 'Y'\n",
       "\\item 'Z'\n",
       "\\end{enumerate*}\n"
      ],
      "text/markdown": [
       "1. 'A'\n",
       "2. 'B'\n",
       "3. 'C'\n",
       "4. 'D'\n",
       "5. 'E'\n",
       "6. 'F'\n",
       "7. 'G'\n",
       "8. 'H'\n",
       "9. 'I'\n",
       "10. 'J'\n",
       "11. 'K'\n",
       "12. 'L'\n",
       "13. 'M'\n",
       "14. 'N'\n",
       "15. 'O'\n",
       "16. 'P'\n",
       "17. 'Q'\n",
       "18. 'R'\n",
       "19. 'S'\n",
       "20. 'T'\n",
       "21. 'U'\n",
       "22. 'V'\n",
       "23. 'W'\n",
       "24. 'X'\n",
       "25. 'Y'\n",
       "26. 'Z'\n",
       "\n",
       "\n"
      ],
      "text/plain": [
       " [1] \"A\" \"B\" \"C\" \"D\" \"E\" \"F\" \"G\" \"H\" \"I\" \"J\" \"K\" \"L\" \"M\" \"N\" \"O\" \"P\" \"Q\" \"R\" \"S\"\n",
       "[20] \"T\" \"U\" \"V\" \"W\" \"X\" \"Y\" \"Z\""
      ]
     },
     "metadata": {},
     "output_type": "display_data"
    }
   ],
   "source": [
    "LETTERS"
   ]
  },
  {
   "cell_type": "code",
   "execution_count": 80,
   "id": "708bdd45-5636-4f39-90f1-1715bf6d8b4c",
   "metadata": {},
   "outputs": [
    {
     "data": {
      "text/html": [
       "<style>\n",
       ".list-inline {list-style: none; margin:0; padding: 0}\n",
       ".list-inline>li {display: inline-block}\n",
       ".list-inline>li:not(:last-child)::after {content: \"\\00b7\"; padding: 0 .5ex}\n",
       "</style>\n",
       "<ol class=list-inline><li>'b'</li><li>'c'</li><li>'d'</li></ol>\n"
      ],
      "text/latex": [
       "\\begin{enumerate*}\n",
       "\\item 'b'\n",
       "\\item 'c'\n",
       "\\item 'd'\n",
       "\\end{enumerate*}\n"
      ],
      "text/markdown": [
       "1. 'b'\n",
       "2. 'c'\n",
       "3. 'd'\n",
       "\n",
       "\n"
      ],
      "text/plain": [
       "[1] \"b\" \"c\" \"d\""
      ]
     },
     "metadata": {},
     "output_type": "display_data"
    }
   ],
   "source": [
    "letters[2:4]"
   ]
  },
  {
   "cell_type": "code",
   "execution_count": 81,
   "id": "e2f1bfbd-5777-4efb-835c-eeb5b74d548f",
   "metadata": {},
   "outputs": [
    {
     "data": {
      "text/html": [
       "<style>\n",
       ".list-inline {list-style: none; margin:0; padding: 0}\n",
       ".list-inline>li {display: inline-block}\n",
       ".list-inline>li:not(:last-child)::after {content: \"\\00b7\"; padding: 0 .5ex}\n",
       "</style>\n",
       "<ol class=list-inline><li>'B'</li><li>'C'</li><li>'D'</li></ol>\n"
      ],
      "text/latex": [
       "\\begin{enumerate*}\n",
       "\\item 'B'\n",
       "\\item 'C'\n",
       "\\item 'D'\n",
       "\\end{enumerate*}\n"
      ],
      "text/markdown": [
       "1. 'B'\n",
       "2. 'C'\n",
       "3. 'D'\n",
       "\n",
       "\n"
      ],
      "text/plain": [
       "[1] \"B\" \"C\" \"D\""
      ]
     },
     "metadata": {},
     "output_type": "display_data"
    }
   ],
   "source": [
    "LETTERS[2:4]"
   ]
  },
  {
   "cell_type": "code",
   "execution_count": 82,
   "id": "11ea1a55-7d8e-4a4a-a4db-6fb77e8aecd6",
   "metadata": {},
   "outputs": [
    {
     "data": {
      "text/html": [
       "<style>\n",
       ".list-inline {list-style: none; margin:0; padding: 0}\n",
       ".list-inline>li {display: inline-block}\n",
       ".list-inline>li:not(:last-child)::after {content: \"\\00b7\"; padding: 0 .5ex}\n",
       "</style>\n",
       "<ol class=list-inline><li>'B'</li><li>'Z'</li></ol>\n"
      ],
      "text/latex": [
       "\\begin{enumerate*}\n",
       "\\item 'B'\n",
       "\\item 'Z'\n",
       "\\end{enumerate*}\n"
      ],
      "text/markdown": [
       "1. 'B'\n",
       "2. 'Z'\n",
       "\n",
       "\n"
      ],
      "text/plain": [
       "[1] \"B\" \"Z\""
      ]
     },
     "metadata": {},
     "output_type": "display_data"
    }
   ],
   "source": [
    "LETTERS[c(2,26)]"
   ]
  },
  {
   "cell_type": "code",
   "execution_count": null,
   "id": "2912b94e-e748-4419-8df7-81d3c96cd6c4",
   "metadata": {},
   "outputs": [],
   "source": []
  },
  {
   "cell_type": "markdown",
   "id": "2233f3f7-c281-47e6-9e94-06ac4515ed8f",
   "metadata": {},
   "source": [
    "### Common Math Functions ####\n",
    "\n",
    "R has verious in-built functions for the Maths and can be use as needed in R code"
   ]
  },
  {
   "cell_type": "code",
   "execution_count": 83,
   "id": "3b18c9b5-6823-45ef-ac82-a5b95c84b7eb",
   "metadata": {},
   "outputs": [],
   "source": [
    "x <- c(11.2, 33, 55.10, -17.6)"
   ]
  },
  {
   "cell_type": "code",
   "execution_count": 86,
   "id": "68bbd688-205c-4485-960c-55cab084029a",
   "metadata": {},
   "outputs": [
    {
     "data": {
      "text/html": [
       "55.1"
      ],
      "text/latex": [
       "55.1"
      ],
      "text/markdown": [
       "55.1"
      ],
      "text/plain": [
       "[1] 55.1"
      ]
     },
     "metadata": {},
     "output_type": "display_data"
    }
   ],
   "source": [
    "max(x) # get the max number from x Vector"
   ]
  },
  {
   "cell_type": "code",
   "execution_count": 88,
   "id": "56abb199-51d4-4104-88ce-76606137a1ec",
   "metadata": {},
   "outputs": [
    {
     "data": {
      "text/html": [
       "-17.6"
      ],
      "text/latex": [
       "-17.6"
      ],
      "text/markdown": [
       "-17.6"
      ],
      "text/plain": [
       "[1] -17.6"
      ]
     },
     "metadata": {},
     "output_type": "display_data"
    }
   ],
   "source": [
    "min(x) # get the min number from x Vector"
   ]
  },
  {
   "cell_type": "code",
   "execution_count": 89,
   "id": "2395cb77-df86-47f0-ad1f-28c93abcde76",
   "metadata": {},
   "outputs": [
    {
     "data": {
      "text/html": [
       "<style>\n",
       ".list-inline {list-style: none; margin:0; padding: 0}\n",
       ".list-inline>li {display: inline-block}\n",
       ".list-inline>li:not(:last-child)::after {content: \"\\00b7\"; padding: 0 .5ex}\n",
       "</style>\n",
       "<ol class=list-inline><li>11.2</li><li>33</li><li>55.1</li><li>17.6</li></ol>\n"
      ],
      "text/latex": [
       "\\begin{enumerate*}\n",
       "\\item 11.2\n",
       "\\item 33\n",
       "\\item 55.1\n",
       "\\item 17.6\n",
       "\\end{enumerate*}\n"
      ],
      "text/markdown": [
       "1. 11.2\n",
       "2. 33\n",
       "3. 55.1\n",
       "4. 17.6\n",
       "\n",
       "\n"
      ],
      "text/plain": [
       "[1] 11.2 33.0 55.1 17.6"
      ]
     },
     "metadata": {},
     "output_type": "display_data"
    }
   ],
   "source": [
    "abs(x) # get the absolute values for each elements"
   ]
  },
  {
   "cell_type": "code",
   "execution_count": 92,
   "id": "72dac8ee-5d43-48a3-9106-97b01757ada0",
   "metadata": {},
   "outputs": [
    {
     "data": {
      "text/html": [
       "81.7"
      ],
      "text/latex": [
       "81.7"
      ],
      "text/markdown": [
       "81.7"
      ],
      "text/plain": [
       "[1] 81.7"
      ]
     },
     "metadata": {},
     "output_type": "display_data"
    }
   ],
   "source": [
    "sum(x) # sum of all the elements"
   ]
  },
  {
   "cell_type": "code",
   "execution_count": 93,
   "id": "23aba7e5-fd41-4b07-9e40-0660c497cce4",
   "metadata": {},
   "outputs": [
    {
     "data": {
      "text/html": [
       "-358423.296"
      ],
      "text/latex": [
       "-358423.296"
      ],
      "text/markdown": [
       "-358423.296"
      ],
      "text/plain": [
       "[1] -358423.3"
      ]
     },
     "metadata": {},
     "output_type": "display_data"
    }
   ],
   "source": [
    "prod(x) # Multiplication of each element "
   ]
  },
  {
   "cell_type": "code",
   "execution_count": 94,
   "id": "97b5455b-bf6d-4e50-ba65-bf8a5d2984c5",
   "metadata": {},
   "outputs": [
    {
     "data": {
      "text/html": [
       "<style>\n",
       ".list-inline {list-style: none; margin:0; padding: 0}\n",
       ".list-inline>li {display: inline-block}\n",
       ".list-inline>li:not(:last-child)::after {content: \"\\00b7\"; padding: 0 .5ex}\n",
       "</style>\n",
       "<ol class=list-inline><li>2</li><li>3</li><li>4</li><li>5</li><li>6</li></ol>\n"
      ],
      "text/latex": [
       "\\begin{enumerate*}\n",
       "\\item 2\n",
       "\\item 3\n",
       "\\item 4\n",
       "\\item 5\n",
       "\\item 6\n",
       "\\end{enumerate*}\n"
      ],
      "text/markdown": [
       "1. 2\n",
       "2. 3\n",
       "3. 4\n",
       "4. 5\n",
       "5. 6\n",
       "\n",
       "\n"
      ],
      "text/plain": [
       "[1] 2 3 4 5 6"
      ]
     },
     "metadata": {},
     "output_type": "display_data"
    }
   ],
   "source": [
    "y <- c(4,9,16,25,36)\n",
    "sqrt(y) # Get the square root"
   ]
  },
  {
   "cell_type": "code",
   "execution_count": null,
   "id": "dc67c2e6-333f-45a1-9f79-f748146da111",
   "metadata": {},
   "outputs": [],
   "source": []
  },
  {
   "cell_type": "markdown",
   "id": "c55fdaf4-0ebc-47c9-85cd-404d15aa1c43",
   "metadata": {},
   "source": [
    "### Sample Function ####\n",
    "- sample() functions helps to perfom randon selection of elements in Vectors\n",
    "- Sample functions is mainly used to simulate the data\n",
    "\n",
    "\n",
    "sample(x= ,size=, replace=TRUE)\n",
    "\n",
    "- x : is vector\n",
    "- size : number of sample to select randomly \n",
    "- replace : (TRUE) sampling with Replacement or (FALSE) without replacement\n",
    "        "
   ]
  },
  {
   "cell_type": "code",
   "execution_count": 100,
   "id": "1fd256e7-017b-4970-a445-c48ff6604215",
   "metadata": {},
   "outputs": [
    {
     "data": {
      "text/html": [
       "<style>\n",
       ".list-inline {list-style: none; margin:0; padding: 0}\n",
       ".list-inline>li {display: inline-block}\n",
       ".list-inline>li:not(:last-child)::after {content: \"\\00b7\"; padding: 0 .5ex}\n",
       "</style>\n",
       "<ol class=list-inline><li>13</li><li>1</li><li>4</li><li>19</li><li>8</li><li>11</li><li>15</li><li>15</li><li>20</li><li>5</li></ol>\n"
      ],
      "text/latex": [
       "\\begin{enumerate*}\n",
       "\\item 13\n",
       "\\item 1\n",
       "\\item 4\n",
       "\\item 19\n",
       "\\item 8\n",
       "\\item 11\n",
       "\\item 15\n",
       "\\item 15\n",
       "\\item 20\n",
       "\\item 5\n",
       "\\end{enumerate*}\n"
      ],
      "text/markdown": [
       "1. 13\n",
       "2. 1\n",
       "3. 4\n",
       "4. 19\n",
       "5. 8\n",
       "6. 11\n",
       "7. 15\n",
       "8. 15\n",
       "9. 20\n",
       "10. 5\n",
       "\n",
       "\n"
      ],
      "text/plain": [
       " [1] 13  1  4 19  8 11 15 15 20  5"
      ]
     },
     "metadata": {},
     "output_type": "display_data"
    }
   ],
   "source": [
    "sample(1:20, size=10, replace=TRUE) #Sampling with replacement"
   ]
  },
  {
   "cell_type": "code",
   "execution_count": 102,
   "id": "61d979ad-efed-4064-9525-73e095803b6c",
   "metadata": {},
   "outputs": [
    {
     "data": {
      "text/html": [
       "<style>\n",
       ".list-inline {list-style: none; margin:0; padding: 0}\n",
       ".list-inline>li {display: inline-block}\n",
       ".list-inline>li:not(:last-child)::after {content: \"\\00b7\"; padding: 0 .5ex}\n",
       "</style>\n",
       "<ol class=list-inline><li>11</li><li>6</li><li>14</li><li>18</li><li>20</li><li>9</li><li>7</li><li>15</li><li>5</li><li>12</li></ol>\n"
      ],
      "text/latex": [
       "\\begin{enumerate*}\n",
       "\\item 11\n",
       "\\item 6\n",
       "\\item 14\n",
       "\\item 18\n",
       "\\item 20\n",
       "\\item 9\n",
       "\\item 7\n",
       "\\item 15\n",
       "\\item 5\n",
       "\\item 12\n",
       "\\end{enumerate*}\n"
      ],
      "text/markdown": [
       "1. 11\n",
       "2. 6\n",
       "3. 14\n",
       "4. 18\n",
       "5. 20\n",
       "6. 9\n",
       "7. 7\n",
       "8. 15\n",
       "9. 5\n",
       "10. 12\n",
       "\n",
       "\n"
      ],
      "text/plain": [
       " [1] 11  6 14 18 20  9  7 15  5 12"
      ]
     },
     "metadata": {},
     "output_type": "display_data"
    }
   ],
   "source": [
    "sample(1:20, size=10, replace=FALSE) #Sampling without replacement"
   ]
  },
  {
   "cell_type": "code",
   "execution_count": null,
   "id": "85ca2a56-dfa3-4695-b080-29c3680a9e05",
   "metadata": {},
   "outputs": [],
   "source": []
  },
  {
   "cell_type": "markdown",
   "id": "7c6954ee-ba81-4208-bc93-92c945019c8d",
   "metadata": {},
   "source": [
    "### Operation on Vectors\n",
    "\n"
   ]
  },
  {
   "cell_type": "code",
   "execution_count": 103,
   "id": "053fdd36-c5bf-4d79-aa14-89e2d44bfe20",
   "metadata": {},
   "outputs": [],
   "source": [
    "z <- 1:4\n",
    "y <- 6:9"
   ]
  },
  {
   "cell_type": "code",
   "execution_count": 104,
   "id": "d9203837-4680-4d32-abba-09bdbc4b39c4",
   "metadata": {},
   "outputs": [
    {
     "data": {
      "text/html": [
       "<style>\n",
       ".list-inline {list-style: none; margin:0; padding: 0}\n",
       ".list-inline>li {display: inline-block}\n",
       ".list-inline>li:not(:last-child)::after {content: \"\\00b7\"; padding: 0 .5ex}\n",
       "</style>\n",
       "<ol class=list-inline><li>7</li><li>9</li><li>11</li><li>13</li></ol>\n"
      ],
      "text/latex": [
       "\\begin{enumerate*}\n",
       "\\item 7\n",
       "\\item 9\n",
       "\\item 11\n",
       "\\item 13\n",
       "\\end{enumerate*}\n"
      ],
      "text/markdown": [
       "1. 7\n",
       "2. 9\n",
       "3. 11\n",
       "4. 13\n",
       "\n",
       "\n"
      ],
      "text/plain": [
       "[1]  7  9 11 13"
      ]
     },
     "metadata": {},
     "output_type": "display_data"
    }
   ],
   "source": [
    "z+y # element wise addition of vectors"
   ]
  },
  {
   "cell_type": "code",
   "execution_count": 108,
   "id": "af84e287-41b1-4f34-a6ab-a5f771ed5f42",
   "metadata": {},
   "outputs": [
    {
     "data": {
      "text/html": [
       "<style>\n",
       ".list-inline {list-style: none; margin:0; padding: 0}\n",
       ".list-inline>li {display: inline-block}\n",
       ".list-inline>li:not(:last-child)::after {content: \"\\00b7\"; padding: 0 .5ex}\n",
       "</style>\n",
       "<ol class=list-inline><li>-5</li><li>-5</li><li>-5</li><li>-5</li></ol>\n"
      ],
      "text/latex": [
       "\\begin{enumerate*}\n",
       "\\item -5\n",
       "\\item -5\n",
       "\\item -5\n",
       "\\item -5\n",
       "\\end{enumerate*}\n"
      ],
      "text/markdown": [
       "1. -5\n",
       "2. -5\n",
       "3. -5\n",
       "4. -5\n",
       "\n",
       "\n"
      ],
      "text/plain": [
       "[1] -5 -5 -5 -5"
      ]
     },
     "metadata": {},
     "output_type": "display_data"
    }
   ],
   "source": [
    "z-y # Substraction"
   ]
  },
  {
   "cell_type": "code",
   "execution_count": 109,
   "id": "7b0c0232-23ad-43e7-9267-78e780f2246f",
   "metadata": {},
   "outputs": [
    {
     "data": {
      "text/html": [
       "<style>\n",
       ".list-inline {list-style: none; margin:0; padding: 0}\n",
       ".list-inline>li {display: inline-block}\n",
       ".list-inline>li:not(:last-child)::after {content: \"\\00b7\"; padding: 0 .5ex}\n",
       "</style>\n",
       "<ol class=list-inline><li>6</li><li>14</li><li>24</li><li>36</li></ol>\n"
      ],
      "text/latex": [
       "\\begin{enumerate*}\n",
       "\\item 6\n",
       "\\item 14\n",
       "\\item 24\n",
       "\\item 36\n",
       "\\end{enumerate*}\n"
      ],
      "text/markdown": [
       "1. 6\n",
       "2. 14\n",
       "3. 24\n",
       "4. 36\n",
       "\n",
       "\n"
      ],
      "text/plain": [
       "[1]  6 14 24 36"
      ]
     },
     "metadata": {},
     "output_type": "display_data"
    }
   ],
   "source": [
    "z*y # Multiplication "
   ]
  },
  {
   "cell_type": "code",
   "execution_count": 110,
   "id": "9827b419-8b63-4216-b81d-890198700ffc",
   "metadata": {},
   "outputs": [
    {
     "data": {
      "text/html": [
       "<style>\n",
       ".list-inline {list-style: none; margin:0; padding: 0}\n",
       ".list-inline>li {display: inline-block}\n",
       ".list-inline>li:not(:last-child)::after {content: \"\\00b7\"; padding: 0 .5ex}\n",
       "</style>\n",
       "<ol class=list-inline><li>0.166666666666667</li><li>0.285714285714286</li><li>0.375</li><li>0.444444444444444</li></ol>\n"
      ],
      "text/latex": [
       "\\begin{enumerate*}\n",
       "\\item 0.166666666666667\n",
       "\\item 0.285714285714286\n",
       "\\item 0.375\n",
       "\\item 0.444444444444444\n",
       "\\end{enumerate*}\n"
      ],
      "text/markdown": [
       "1. 0.166666666666667\n",
       "2. 0.285714285714286\n",
       "3. 0.375\n",
       "4. 0.444444444444444\n",
       "\n",
       "\n"
      ],
      "text/plain": [
       "[1] 0.1666667 0.2857143 0.3750000 0.4444444"
      ]
     },
     "metadata": {},
     "output_type": "display_data"
    }
   ],
   "source": [
    "z / y # Division "
   ]
  },
  {
   "cell_type": "markdown",
   "id": "1ae89234-846f-46cc-96b4-604b3905db78",
   "metadata": {},
   "source": [
    "### Special Operator \n",
    "\n",
    "- mod (%%) # Modulo operator to get the reminder on division operator\n",
    "- IN (%in%) IN operator to check the existence of element in vector\n",
    "- Integer division ( %/% ) operator to perform integer division"
   ]
  },
  {
   "cell_type": "code",
   "execution_count": 111,
   "id": "fe62b7f9-4b17-4871-b7e8-910ac08cd15b",
   "metadata": {},
   "outputs": [],
   "source": [
    "x <- 1:10\n",
    "\n",
    "element_to_check <- 4"
   ]
  },
  {
   "cell_type": "code",
   "execution_count": 113,
   "id": "c7c49415-a880-4c6b-a7e6-fd12bde34652",
   "metadata": {},
   "outputs": [
    {
     "data": {
      "text/html": [
       "TRUE"
      ],
      "text/latex": [
       "TRUE"
      ],
      "text/markdown": [
       "TRUE"
      ],
      "text/plain": [
       "[1] TRUE"
      ]
     },
     "metadata": {},
     "output_type": "display_data"
    }
   ],
   "source": [
    "element_to_check %in% x"
   ]
  },
  {
   "cell_type": "code",
   "execution_count": 119,
   "id": "f4c6e0dd-225d-4121-9dd6-5da2fd9d8f6c",
   "metadata": {},
   "outputs": [
    {
     "data": {
      "text/html": [
       "2"
      ],
      "text/latex": [
       "2"
      ],
      "text/markdown": [
       "2"
      ],
      "text/plain": [
       "[1] 2"
      ]
     },
     "metadata": {},
     "output_type": "display_data"
    }
   ],
   "source": [
    "## Modulo operator to ge the reminder\n",
    "5 %% 3"
   ]
  },
  {
   "cell_type": "code",
   "execution_count": 120,
   "id": "72ee7e71-35bb-4ce4-80ba-28436c3a0171",
   "metadata": {},
   "outputs": [
    {
     "data": {
      "text/html": [
       "1.66666666666667"
      ],
      "text/latex": [
       "1.66666666666667"
      ],
      "text/markdown": [
       "1.66666666666667"
      ],
      "text/plain": [
       "[1] 1.666667"
      ]
     },
     "metadata": {},
     "output_type": "display_data"
    }
   ],
   "source": [
    "5/3 # Normal division"
   ]
  },
  {
   "cell_type": "code",
   "execution_count": 121,
   "id": "2718ac3f-488d-4dbd-8f66-700d4747308b",
   "metadata": {},
   "outputs": [
    {
     "data": {
      "text/html": [
       "1"
      ],
      "text/latex": [
       "1"
      ],
      "text/markdown": [
       "1"
      ],
      "text/plain": [
       "[1] 1"
      ]
     },
     "metadata": {},
     "output_type": "display_data"
    }
   ],
   "source": [
    "5 %/% 3 #Integer Division"
   ]
  },
  {
   "cell_type": "code",
   "execution_count": null,
   "id": "acc62d28-394d-47d2-aa41-11db40065753",
   "metadata": {},
   "outputs": [],
   "source": []
  },
  {
   "cell_type": "markdown",
   "id": "ee3fce91-3cdc-457b-9341-5accf2101c28",
   "metadata": {},
   "source": [
    "### Relation Operator ####\n",
    "\n",
    "- To compare an element with vector. R has relational operator to compare the element and result you get is boolean (TRUE/FALSE)\n",
    "\n",
    "\\>  : Greater than\n",
    "\n",
    "\\>= : Greater then or equal\n",
    "\n",
    "\\<  : Less than\n",
    "\n",
    "\\<= : Less then or equal\n",
    "\n",
    "\\== : Equal to\n",
    "\n",
    "\\!= : Not equal to\n"
   ]
  },
  {
   "cell_type": "code",
   "execution_count": 122,
   "id": "a4d66b27-87fe-4a94-ae21-e96ae98322d9",
   "metadata": {},
   "outputs": [],
   "source": [
    "x <- 1:10"
   ]
  },
  {
   "cell_type": "code",
   "execution_count": 123,
   "id": "fe39d7e3-31c5-4f9a-afc7-5e46f7f9e37c",
   "metadata": {},
   "outputs": [
    {
     "data": {
      "text/html": [
       "<style>\n",
       ".list-inline {list-style: none; margin:0; padding: 0}\n",
       ".list-inline>li {display: inline-block}\n",
       ".list-inline>li:not(:last-child)::after {content: \"\\00b7\"; padding: 0 .5ex}\n",
       "</style>\n",
       "<ol class=list-inline><li>FALSE</li><li>FALSE</li><li>TRUE</li><li>TRUE</li><li>TRUE</li><li>TRUE</li><li>TRUE</li><li>TRUE</li><li>TRUE</li><li>TRUE</li></ol>\n"
      ],
      "text/latex": [
       "\\begin{enumerate*}\n",
       "\\item FALSE\n",
       "\\item FALSE\n",
       "\\item TRUE\n",
       "\\item TRUE\n",
       "\\item TRUE\n",
       "\\item TRUE\n",
       "\\item TRUE\n",
       "\\item TRUE\n",
       "\\item TRUE\n",
       "\\item TRUE\n",
       "\\end{enumerate*}\n"
      ],
      "text/markdown": [
       "1. FALSE\n",
       "2. FALSE\n",
       "3. TRUE\n",
       "4. TRUE\n",
       "5. TRUE\n",
       "6. TRUE\n",
       "7. TRUE\n",
       "8. TRUE\n",
       "9. TRUE\n",
       "10. TRUE\n",
       "\n",
       "\n"
      ],
      "text/plain": [
       " [1] FALSE FALSE  TRUE  TRUE  TRUE  TRUE  TRUE  TRUE  TRUE  TRUE"
      ]
     },
     "metadata": {},
     "output_type": "display_data"
    }
   ],
   "source": [
    "x>2"
   ]
  },
  {
   "cell_type": "code",
   "execution_count": 124,
   "id": "6843f490-de43-4d40-8fb3-f29b469064c3",
   "metadata": {},
   "outputs": [
    {
     "data": {
      "text/html": [
       "<style>\n",
       ".list-inline {list-style: none; margin:0; padding: 0}\n",
       ".list-inline>li {display: inline-block}\n",
       ".list-inline>li:not(:last-child)::after {content: \"\\00b7\"; padding: 0 .5ex}\n",
       "</style>\n",
       "<ol class=list-inline><li>FALSE</li><li>TRUE</li><li>TRUE</li><li>TRUE</li><li>TRUE</li><li>TRUE</li><li>TRUE</li><li>TRUE</li><li>TRUE</li><li>TRUE</li></ol>\n"
      ],
      "text/latex": [
       "\\begin{enumerate*}\n",
       "\\item FALSE\n",
       "\\item TRUE\n",
       "\\item TRUE\n",
       "\\item TRUE\n",
       "\\item TRUE\n",
       "\\item TRUE\n",
       "\\item TRUE\n",
       "\\item TRUE\n",
       "\\item TRUE\n",
       "\\item TRUE\n",
       "\\end{enumerate*}\n"
      ],
      "text/markdown": [
       "1. FALSE\n",
       "2. TRUE\n",
       "3. TRUE\n",
       "4. TRUE\n",
       "5. TRUE\n",
       "6. TRUE\n",
       "7. TRUE\n",
       "8. TRUE\n",
       "9. TRUE\n",
       "10. TRUE\n",
       "\n",
       "\n"
      ],
      "text/plain": [
       " [1] FALSE  TRUE  TRUE  TRUE  TRUE  TRUE  TRUE  TRUE  TRUE  TRUE"
      ]
     },
     "metadata": {},
     "output_type": "display_data"
    }
   ],
   "source": [
    "x>=2"
   ]
  },
  {
   "cell_type": "code",
   "execution_count": 125,
   "id": "80c4927c-bff1-4df0-b828-89535cd65201",
   "metadata": {},
   "outputs": [
    {
     "data": {
      "text/html": [
       "<style>\n",
       ".list-inline {list-style: none; margin:0; padding: 0}\n",
       ".list-inline>li {display: inline-block}\n",
       ".list-inline>li:not(:last-child)::after {content: \"\\00b7\"; padding: 0 .5ex}\n",
       "</style>\n",
       "<ol class=list-inline><li>TRUE</li><li>FALSE</li><li>FALSE</li><li>FALSE</li><li>FALSE</li><li>FALSE</li><li>FALSE</li><li>FALSE</li><li>FALSE</li><li>FALSE</li></ol>\n"
      ],
      "text/latex": [
       "\\begin{enumerate*}\n",
       "\\item TRUE\n",
       "\\item FALSE\n",
       "\\item FALSE\n",
       "\\item FALSE\n",
       "\\item FALSE\n",
       "\\item FALSE\n",
       "\\item FALSE\n",
       "\\item FALSE\n",
       "\\item FALSE\n",
       "\\item FALSE\n",
       "\\end{enumerate*}\n"
      ],
      "text/markdown": [
       "1. TRUE\n",
       "2. FALSE\n",
       "3. FALSE\n",
       "4. FALSE\n",
       "5. FALSE\n",
       "6. FALSE\n",
       "7. FALSE\n",
       "8. FALSE\n",
       "9. FALSE\n",
       "10. FALSE\n",
       "\n",
       "\n"
      ],
      "text/plain": [
       " [1]  TRUE FALSE FALSE FALSE FALSE FALSE FALSE FALSE FALSE FALSE"
      ]
     },
     "metadata": {},
     "output_type": "display_data"
    }
   ],
   "source": [
    "x<2"
   ]
  },
  {
   "cell_type": "code",
   "execution_count": 126,
   "id": "8c929aa6-b892-4e0b-b636-2c19c6a6f5d4",
   "metadata": {},
   "outputs": [
    {
     "data": {
      "text/html": [
       "<style>\n",
       ".list-inline {list-style: none; margin:0; padding: 0}\n",
       ".list-inline>li {display: inline-block}\n",
       ".list-inline>li:not(:last-child)::after {content: \"\\00b7\"; padding: 0 .5ex}\n",
       "</style>\n",
       "<ol class=list-inline><li>TRUE</li><li>TRUE</li><li>FALSE</li><li>FALSE</li><li>FALSE</li><li>FALSE</li><li>FALSE</li><li>FALSE</li><li>FALSE</li><li>FALSE</li></ol>\n"
      ],
      "text/latex": [
       "\\begin{enumerate*}\n",
       "\\item TRUE\n",
       "\\item TRUE\n",
       "\\item FALSE\n",
       "\\item FALSE\n",
       "\\item FALSE\n",
       "\\item FALSE\n",
       "\\item FALSE\n",
       "\\item FALSE\n",
       "\\item FALSE\n",
       "\\item FALSE\n",
       "\\end{enumerate*}\n"
      ],
      "text/markdown": [
       "1. TRUE\n",
       "2. TRUE\n",
       "3. FALSE\n",
       "4. FALSE\n",
       "5. FALSE\n",
       "6. FALSE\n",
       "7. FALSE\n",
       "8. FALSE\n",
       "9. FALSE\n",
       "10. FALSE\n",
       "\n",
       "\n"
      ],
      "text/plain": [
       " [1]  TRUE  TRUE FALSE FALSE FALSE FALSE FALSE FALSE FALSE FALSE"
      ]
     },
     "metadata": {},
     "output_type": "display_data"
    }
   ],
   "source": [
    "x<=2"
   ]
  },
  {
   "cell_type": "code",
   "execution_count": 127,
   "id": "6855cc10-72e8-4c72-a6d3-aaffe934896a",
   "metadata": {},
   "outputs": [
    {
     "data": {
      "text/html": [
       "<style>\n",
       ".list-inline {list-style: none; margin:0; padding: 0}\n",
       ".list-inline>li {display: inline-block}\n",
       ".list-inline>li:not(:last-child)::after {content: \"\\00b7\"; padding: 0 .5ex}\n",
       "</style>\n",
       "<ol class=list-inline><li>FALSE</li><li>TRUE</li><li>FALSE</li><li>FALSE</li><li>FALSE</li><li>FALSE</li><li>FALSE</li><li>FALSE</li><li>FALSE</li><li>FALSE</li></ol>\n"
      ],
      "text/latex": [
       "\\begin{enumerate*}\n",
       "\\item FALSE\n",
       "\\item TRUE\n",
       "\\item FALSE\n",
       "\\item FALSE\n",
       "\\item FALSE\n",
       "\\item FALSE\n",
       "\\item FALSE\n",
       "\\item FALSE\n",
       "\\item FALSE\n",
       "\\item FALSE\n",
       "\\end{enumerate*}\n"
      ],
      "text/markdown": [
       "1. FALSE\n",
       "2. TRUE\n",
       "3. FALSE\n",
       "4. FALSE\n",
       "5. FALSE\n",
       "6. FALSE\n",
       "7. FALSE\n",
       "8. FALSE\n",
       "9. FALSE\n",
       "10. FALSE\n",
       "\n",
       "\n"
      ],
      "text/plain": [
       " [1] FALSE  TRUE FALSE FALSE FALSE FALSE FALSE FALSE FALSE FALSE"
      ]
     },
     "metadata": {},
     "output_type": "display_data"
    }
   ],
   "source": [
    "x==2"
   ]
  },
  {
   "cell_type": "code",
   "execution_count": 128,
   "id": "f21f4055-dc7c-4062-9031-e6af59e00bd2",
   "metadata": {},
   "outputs": [
    {
     "data": {
      "text/html": [
       "<style>\n",
       ".list-inline {list-style: none; margin:0; padding: 0}\n",
       ".list-inline>li {display: inline-block}\n",
       ".list-inline>li:not(:last-child)::after {content: \"\\00b7\"; padding: 0 .5ex}\n",
       "</style>\n",
       "<ol class=list-inline><li>TRUE</li><li>FALSE</li><li>TRUE</li><li>TRUE</li><li>TRUE</li><li>TRUE</li><li>TRUE</li><li>TRUE</li><li>TRUE</li><li>TRUE</li></ol>\n"
      ],
      "text/latex": [
       "\\begin{enumerate*}\n",
       "\\item TRUE\n",
       "\\item FALSE\n",
       "\\item TRUE\n",
       "\\item TRUE\n",
       "\\item TRUE\n",
       "\\item TRUE\n",
       "\\item TRUE\n",
       "\\item TRUE\n",
       "\\item TRUE\n",
       "\\item TRUE\n",
       "\\end{enumerate*}\n"
      ],
      "text/markdown": [
       "1. TRUE\n",
       "2. FALSE\n",
       "3. TRUE\n",
       "4. TRUE\n",
       "5. TRUE\n",
       "6. TRUE\n",
       "7. TRUE\n",
       "8. TRUE\n",
       "9. TRUE\n",
       "10. TRUE\n",
       "\n",
       "\n"
      ],
      "text/plain": [
       " [1]  TRUE FALSE  TRUE  TRUE  TRUE  TRUE  TRUE  TRUE  TRUE  TRUE"
      ]
     },
     "metadata": {},
     "output_type": "display_data"
    }
   ],
   "source": [
    "x!=2"
   ]
  },
  {
   "cell_type": "code",
   "execution_count": null,
   "id": "8dedb74a-b79c-473d-976c-1223d73d0dc3",
   "metadata": {},
   "outputs": [],
   "source": []
  },
  {
   "cell_type": "markdown",
   "id": "02b13c36-6d8e-445c-b53f-62ddd554ed9b",
   "metadata": {},
   "source": [
    "Display element based on condition, we can pass relation operator and condition as vector index"
   ]
  },
  {
   "cell_type": "code",
   "execution_count": 156,
   "id": "cd002023-ecba-477d-9d4b-7f74c2a30889",
   "metadata": {},
   "outputs": [
    {
     "data": {
      "text/html": [
       "<style>\n",
       ".list-inline {list-style: none; margin:0; padding: 0}\n",
       ".list-inline>li {display: inline-block}\n",
       ".list-inline>li:not(:last-child)::after {content: \"\\00b7\"; padding: 0 .5ex}\n",
       "</style>\n",
       "<ol class=list-inline><li>3</li><li>4</li><li>5</li><li>6</li><li>7</li><li>8</li><li>9</li><li>10</li></ol>\n"
      ],
      "text/latex": [
       "\\begin{enumerate*}\n",
       "\\item 3\n",
       "\\item 4\n",
       "\\item 5\n",
       "\\item 6\n",
       "\\item 7\n",
       "\\item 8\n",
       "\\item 9\n",
       "\\item 10\n",
       "\\end{enumerate*}\n"
      ],
      "text/markdown": [
       "1. 3\n",
       "2. 4\n",
       "3. 5\n",
       "4. 6\n",
       "5. 7\n",
       "6. 8\n",
       "7. 9\n",
       "8. 10\n",
       "\n",
       "\n"
      ],
      "text/plain": [
       "[1]  3  4  5  6  7  8  9 10"
      ]
     },
     "metadata": {},
     "output_type": "display_data"
    }
   ],
   "source": [
    "x[x>2]"
   ]
  },
  {
   "cell_type": "code",
   "execution_count": 157,
   "id": "23b06631-2ea6-4adc-8016-33dd06909aaf",
   "metadata": {},
   "outputs": [
    {
     "data": {
      "text/html": [
       "2"
      ],
      "text/latex": [
       "2"
      ],
      "text/markdown": [
       "2"
      ],
      "text/plain": [
       "[1] 2"
      ]
     },
     "metadata": {},
     "output_type": "display_data"
    }
   ],
   "source": [
    "x[x==2]"
   ]
  },
  {
   "cell_type": "code",
   "execution_count": 158,
   "id": "824eb2f6-6233-4a66-8a21-288043e51080",
   "metadata": {},
   "outputs": [
    {
     "data": {
      "text/html": [
       "<style>\n",
       ".list-inline {list-style: none; margin:0; padding: 0}\n",
       ".list-inline>li {display: inline-block}\n",
       ".list-inline>li:not(:last-child)::after {content: \"\\00b7\"; padding: 0 .5ex}\n",
       "</style>\n",
       "<ol class=list-inline><li>1</li><li>3</li><li>4</li><li>5</li><li>6</li><li>7</li><li>8</li><li>9</li><li>10</li></ol>\n"
      ],
      "text/latex": [
       "\\begin{enumerate*}\n",
       "\\item 1\n",
       "\\item 3\n",
       "\\item 4\n",
       "\\item 5\n",
       "\\item 6\n",
       "\\item 7\n",
       "\\item 8\n",
       "\\item 9\n",
       "\\item 10\n",
       "\\end{enumerate*}\n"
      ],
      "text/markdown": [
       "1. 1\n",
       "2. 3\n",
       "3. 4\n",
       "4. 5\n",
       "5. 6\n",
       "6. 7\n",
       "7. 8\n",
       "8. 9\n",
       "9. 10\n",
       "\n",
       "\n"
      ],
      "text/plain": [
       "[1]  1  3  4  5  6  7  8  9 10"
      ]
     },
     "metadata": {},
     "output_type": "display_data"
    }
   ],
   "source": [
    "x[x!=2]"
   ]
  },
  {
   "cell_type": "code",
   "execution_count": null,
   "id": "9227471d-7d1c-41d7-9ffb-645dacbd0691",
   "metadata": {},
   "outputs": [],
   "source": []
  },
  {
   "cell_type": "markdown",
   "id": "451bcf65-69cc-473f-bef2-e9c17ed8de30",
   "metadata": {},
   "source": [
    "### Logical Operator \n",
    "\n",
    "To combine multiple condition we have Logical AND OR NOT operator\n",
    "\n",
    "- AND : if all the conditions are on vector meets then TRUE otherwise FALSE\n",
    "- OR  : if at-least one coditions are meets then TRUE otherwise FALSE\n",
    "- NOT : Not used to do negation/reverses of vectors"
   ]
  },
  {
   "cell_type": "code",
   "execution_count": 159,
   "id": "270aeceb-1869-4045-b77a-2c64aec465d5",
   "metadata": {},
   "outputs": [],
   "source": [
    "x <- 1:10\n"
   ]
  },
  {
   "cell_type": "code",
   "execution_count": 162,
   "id": "0dc9e8af-225b-4d62-a236-0f69697d1b8b",
   "metadata": {},
   "outputs": [
    {
     "data": {
      "text/html": [
       "<style>\n",
       ".list-inline {list-style: none; margin:0; padding: 0}\n",
       ".list-inline>li {display: inline-block}\n",
       ".list-inline>li:not(:last-child)::after {content: \"\\00b7\"; padding: 0 .5ex}\n",
       "</style>\n",
       "<ol class=list-inline><li>FALSE</li><li>FALSE</li><li>TRUE</li><li>TRUE</li><li>TRUE</li><li>TRUE</li><li>FALSE</li><li>FALSE</li><li>FALSE</li><li>FALSE</li></ol>\n"
      ],
      "text/latex": [
       "\\begin{enumerate*}\n",
       "\\item FALSE\n",
       "\\item FALSE\n",
       "\\item TRUE\n",
       "\\item TRUE\n",
       "\\item TRUE\n",
       "\\item TRUE\n",
       "\\item FALSE\n",
       "\\item FALSE\n",
       "\\item FALSE\n",
       "\\item FALSE\n",
       "\\end{enumerate*}\n"
      ],
      "text/markdown": [
       "1. FALSE\n",
       "2. FALSE\n",
       "3. TRUE\n",
       "4. TRUE\n",
       "5. TRUE\n",
       "6. TRUE\n",
       "7. FALSE\n",
       "8. FALSE\n",
       "9. FALSE\n",
       "10. FALSE\n",
       "\n",
       "\n"
      ],
      "text/plain": [
       " [1] FALSE FALSE  TRUE  TRUE  TRUE  TRUE FALSE FALSE FALSE FALSE"
      ]
     },
     "metadata": {},
     "output_type": "display_data"
    }
   ],
   "source": [
    "(x>2) & (x<7)  # Condition with & AND"
   ]
  },
  {
   "cell_type": "code",
   "execution_count": 163,
   "id": "02f27b01-99cc-4a9f-9ff2-3d7ad414a49c",
   "metadata": {},
   "outputs": [
    {
     "data": {
      "text/html": [
       "<style>\n",
       ".list-inline {list-style: none; margin:0; padding: 0}\n",
       ".list-inline>li {display: inline-block}\n",
       ".list-inline>li:not(:last-child)::after {content: \"\\00b7\"; padding: 0 .5ex}\n",
       "</style>\n",
       "<ol class=list-inline><li>TRUE</li><li>TRUE</li><li>TRUE</li><li>TRUE</li><li>TRUE</li><li>TRUE</li><li>TRUE</li><li>TRUE</li><li>TRUE</li><li>TRUE</li></ol>\n"
      ],
      "text/latex": [
       "\\begin{enumerate*}\n",
       "\\item TRUE\n",
       "\\item TRUE\n",
       "\\item TRUE\n",
       "\\item TRUE\n",
       "\\item TRUE\n",
       "\\item TRUE\n",
       "\\item TRUE\n",
       "\\item TRUE\n",
       "\\item TRUE\n",
       "\\item TRUE\n",
       "\\end{enumerate*}\n"
      ],
      "text/markdown": [
       "1. TRUE\n",
       "2. TRUE\n",
       "3. TRUE\n",
       "4. TRUE\n",
       "5. TRUE\n",
       "6. TRUE\n",
       "7. TRUE\n",
       "8. TRUE\n",
       "9. TRUE\n",
       "10. TRUE\n",
       "\n",
       "\n"
      ],
      "text/plain": [
       " [1] TRUE TRUE TRUE TRUE TRUE TRUE TRUE TRUE TRUE TRUE"
      ]
     },
     "metadata": {},
     "output_type": "display_data"
    }
   ],
   "source": [
    "(x>2) | (x<7)  # Condition with | OR"
   ]
  },
  {
   "cell_type": "code",
   "execution_count": 171,
   "id": "e8d79677-c10f-4b7f-bb28-7e1fee0ebfe4",
   "metadata": {},
   "outputs": [
    {
     "data": {
      "text/html": [
       "<style>\n",
       ".list-inline {list-style: none; margin:0; padding: 0}\n",
       ".list-inline>li {display: inline-block}\n",
       ".list-inline>li:not(:last-child)::after {content: \"\\00b7\"; padding: 0 .5ex}\n",
       "</style>\n",
       "<ol class=list-inline><li>TRUE</li><li>TRUE</li><li>FALSE</li><li>FALSE</li><li>FALSE</li><li>FALSE</li><li>FALSE</li><li>FALSE</li><li>FALSE</li><li>FALSE</li></ol>\n"
      ],
      "text/latex": [
       "\\begin{enumerate*}\n",
       "\\item TRUE\n",
       "\\item TRUE\n",
       "\\item FALSE\n",
       "\\item FALSE\n",
       "\\item FALSE\n",
       "\\item FALSE\n",
       "\\item FALSE\n",
       "\\item FALSE\n",
       "\\item FALSE\n",
       "\\item FALSE\n",
       "\\end{enumerate*}\n"
      ],
      "text/markdown": [
       "1. TRUE\n",
       "2. TRUE\n",
       "3. FALSE\n",
       "4. FALSE\n",
       "5. FALSE\n",
       "6. FALSE\n",
       "7. FALSE\n",
       "8. FALSE\n",
       "9. FALSE\n",
       "10. FALSE\n",
       "\n",
       "\n"
      ],
      "text/plain": [
       " [1]  TRUE  TRUE FALSE FALSE FALSE FALSE FALSE FALSE FALSE FALSE"
      ]
     },
     "metadata": {},
     "output_type": "display_data"
    }
   ],
   "source": [
    "!(x>2) # Checking with NOT "
   ]
  },
  {
   "cell_type": "code",
   "execution_count": 172,
   "id": "a74ea2d8-c00b-451f-a90c-b7a7d7c1d82e",
   "metadata": {},
   "outputs": [
    {
     "data": {
      "text/html": [
       "<style>\n",
       ".list-inline {list-style: none; margin:0; padding: 0}\n",
       ".list-inline>li {display: inline-block}\n",
       ".list-inline>li:not(:last-child)::after {content: \"\\00b7\"; padding: 0 .5ex}\n",
       "</style>\n",
       "<ol class=list-inline><li>3</li><li>4</li><li>5</li><li>6</li></ol>\n"
      ],
      "text/latex": [
       "\\begin{enumerate*}\n",
       "\\item 3\n",
       "\\item 4\n",
       "\\item 5\n",
       "\\item 6\n",
       "\\end{enumerate*}\n"
      ],
      "text/markdown": [
       "1. 3\n",
       "2. 4\n",
       "3. 5\n",
       "4. 6\n",
       "\n",
       "\n"
      ],
      "text/plain": [
       "[1] 3 4 5 6"
      ]
     },
     "metadata": {},
     "output_type": "display_data"
    }
   ],
   "source": [
    "x[(x>2) & (x<7)]"
   ]
  },
  {
   "cell_type": "code",
   "execution_count": 173,
   "id": "0e2a3601-0ecd-4a0b-be98-152a7279b41c",
   "metadata": {},
   "outputs": [
    {
     "data": {
      "text/html": [
       "<style>\n",
       ".list-inline {list-style: none; margin:0; padding: 0}\n",
       ".list-inline>li {display: inline-block}\n",
       ".list-inline>li:not(:last-child)::after {content: \"\\00b7\"; padding: 0 .5ex}\n",
       "</style>\n",
       "<ol class=list-inline><li>1</li><li>2</li><li>3</li><li>4</li><li>5</li><li>6</li><li>7</li><li>8</li><li>9</li><li>10</li></ol>\n"
      ],
      "text/latex": [
       "\\begin{enumerate*}\n",
       "\\item 1\n",
       "\\item 2\n",
       "\\item 3\n",
       "\\item 4\n",
       "\\item 5\n",
       "\\item 6\n",
       "\\item 7\n",
       "\\item 8\n",
       "\\item 9\n",
       "\\item 10\n",
       "\\end{enumerate*}\n"
      ],
      "text/markdown": [
       "1. 1\n",
       "2. 2\n",
       "3. 3\n",
       "4. 4\n",
       "5. 5\n",
       "6. 6\n",
       "7. 7\n",
       "8. 8\n",
       "9. 9\n",
       "10. 10\n",
       "\n",
       "\n"
      ],
      "text/plain": [
       " [1]  1  2  3  4  5  6  7  8  9 10"
      ]
     },
     "metadata": {},
     "output_type": "display_data"
    }
   ],
   "source": [
    "x[(x>2) | (x<7)]"
   ]
  },
  {
   "cell_type": "code",
   "execution_count": 174,
   "id": "07feb7e5-f32f-4b56-8472-d0c5951a27fc",
   "metadata": {},
   "outputs": [
    {
     "data": {
      "text/html": [
       "<style>\n",
       ".list-inline {list-style: none; margin:0; padding: 0}\n",
       ".list-inline>li {display: inline-block}\n",
       ".list-inline>li:not(:last-child)::after {content: \"\\00b7\"; padding: 0 .5ex}\n",
       "</style>\n",
       "<ol class=list-inline><li>1</li><li>2</li></ol>\n"
      ],
      "text/latex": [
       "\\begin{enumerate*}\n",
       "\\item 1\n",
       "\\item 2\n",
       "\\end{enumerate*}\n"
      ],
      "text/markdown": [
       "1. 1\n",
       "2. 2\n",
       "\n",
       "\n"
      ],
      "text/plain": [
       "[1] 1 2"
      ]
     },
     "metadata": {},
     "output_type": "display_data"
    }
   ],
   "source": [
    "x[!(x>2)]"
   ]
  },
  {
   "cell_type": "code",
   "execution_count": null,
   "id": "d38f012e-ecae-4ad4-9997-c669b28913f1",
   "metadata": {},
   "outputs": [],
   "source": []
  },
  {
   "cell_type": "code",
   "execution_count": null,
   "id": "01ab5d73-499a-4f2a-95e1-19d7ad735e05",
   "metadata": {},
   "outputs": [],
   "source": []
  },
  {
   "cell_type": "markdown",
   "id": "910013ce-d183-48fb-ad18-2b3a537efa43",
   "metadata": {},
   "source": [
    "## Matrices \n",
    "\n",
    "A Matrices is a simply several vectors stored together in form of Rows & Cols.\n",
    "\n",
    "matrix() function used to create matrix.\n",
    "\n",
    "\n",
    "matrix(data=,\n",
    "       nrow=,\n",
    "       ncol=,\n",
    "       byrow=FALSE)\n",
    "       \n",
    "       \n",
    "- byrow is matrix element arrangement. if byrow=TRUE means element is get arrange in row wise else column wise arragment for the matrix\n",
    "       "
   ]
  },
  {
   "cell_type": "code",
   "execution_count": 186,
   "id": "7d5b865d-291a-40f8-a1bd-4a6f5b45dd2f",
   "metadata": {},
   "outputs": [],
   "source": [
    "m <- matrix(data=c(1,2,3,4,5,6),\n",
    "            nrow=3,\n",
    "            ncol=2)"
   ]
  },
  {
   "cell_type": "code",
   "execution_count": 187,
   "id": "342b022e-2b80-49c9-96fa-9d6e68b57cee",
   "metadata": {},
   "outputs": [
    {
     "data": {
      "text/html": [
       "<table>\n",
       "<caption>A matrix: 3 × 2 of type dbl</caption>\n",
       "<tbody>\n",
       "\t<tr><td>1</td><td>4</td></tr>\n",
       "\t<tr><td>2</td><td>5</td></tr>\n",
       "\t<tr><td>3</td><td>6</td></tr>\n",
       "</tbody>\n",
       "</table>\n"
      ],
      "text/latex": [
       "A matrix: 3 × 2 of type dbl\n",
       "\\begin{tabular}{ll}\n",
       "\t 1 & 4\\\\\n",
       "\t 2 & 5\\\\\n",
       "\t 3 & 6\\\\\n",
       "\\end{tabular}\n"
      ],
      "text/markdown": [
       "\n",
       "A matrix: 3 × 2 of type dbl\n",
       "\n",
       "| 1 | 4 |\n",
       "| 2 | 5 |\n",
       "| 3 | 6 |\n",
       "\n"
      ],
      "text/plain": [
       "     [,1] [,2]\n",
       "[1,] 1    4   \n",
       "[2,] 2    5   \n",
       "[3,] 3    6   "
      ]
     },
     "metadata": {},
     "output_type": "display_data"
    }
   ],
   "source": [
    "m"
   ]
  },
  {
   "cell_type": "code",
   "execution_count": 188,
   "id": "cade971b-d681-409a-ae2c-5a2e8512ceab",
   "metadata": {},
   "outputs": [],
   "source": [
    "m <- matrix(data=c(1,2,3,4,5,6),\n",
    "            nrow=3,\n",
    "            ncol=2,\n",
    "            byrow=FALSE)"
   ]
  },
  {
   "cell_type": "code",
   "execution_count": 189,
   "id": "152f279f-cf03-4d3a-9360-8ed9d03ff404",
   "metadata": {},
   "outputs": [
    {
     "data": {
      "text/html": [
       "<table>\n",
       "<caption>A matrix: 3 × 2 of type dbl</caption>\n",
       "<tbody>\n",
       "\t<tr><td>1</td><td>4</td></tr>\n",
       "\t<tr><td>2</td><td>5</td></tr>\n",
       "\t<tr><td>3</td><td>6</td></tr>\n",
       "</tbody>\n",
       "</table>\n"
      ],
      "text/latex": [
       "A matrix: 3 × 2 of type dbl\n",
       "\\begin{tabular}{ll}\n",
       "\t 1 & 4\\\\\n",
       "\t 2 & 5\\\\\n",
       "\t 3 & 6\\\\\n",
       "\\end{tabular}\n"
      ],
      "text/markdown": [
       "\n",
       "A matrix: 3 × 2 of type dbl\n",
       "\n",
       "| 1 | 4 |\n",
       "| 2 | 5 |\n",
       "| 3 | 6 |\n",
       "\n"
      ],
      "text/plain": [
       "     [,1] [,2]\n",
       "[1,] 1    4   \n",
       "[2,] 2    5   \n",
       "[3,] 3    6   "
      ]
     },
     "metadata": {},
     "output_type": "display_data"
    }
   ],
   "source": [
    "m"
   ]
  },
  {
   "cell_type": "code",
   "execution_count": 192,
   "id": "ab4ee137-2077-4c44-a787-40ab27ab4b18",
   "metadata": {},
   "outputs": [],
   "source": [
    "m <- matrix(data=c(1,2,3,4,5,6),\n",
    "            nrow=3,\n",
    "            ncol=2,\n",
    "            byrow=TRUE)\n",
    "## Elemenet filling direction is byrow"
   ]
  },
  {
   "cell_type": "code",
   "execution_count": 193,
   "id": "76ec7f2e-a986-4e18-8f9e-cea2b670648c",
   "metadata": {},
   "outputs": [
    {
     "data": {
      "text/html": [
       "<table>\n",
       "<caption>A matrix: 3 × 2 of type dbl</caption>\n",
       "<tbody>\n",
       "\t<tr><td>1</td><td>2</td></tr>\n",
       "\t<tr><td>3</td><td>4</td></tr>\n",
       "\t<tr><td>5</td><td>6</td></tr>\n",
       "</tbody>\n",
       "</table>\n"
      ],
      "text/latex": [
       "A matrix: 3 × 2 of type dbl\n",
       "\\begin{tabular}{ll}\n",
       "\t 1 & 2\\\\\n",
       "\t 3 & 4\\\\\n",
       "\t 5 & 6\\\\\n",
       "\\end{tabular}\n"
      ],
      "text/markdown": [
       "\n",
       "A matrix: 3 × 2 of type dbl\n",
       "\n",
       "| 1 | 2 |\n",
       "| 3 | 4 |\n",
       "| 5 | 6 |\n",
       "\n"
      ],
      "text/plain": [
       "     [,1] [,2]\n",
       "[1,] 1    2   \n",
       "[2,] 3    4   \n",
       "[3,] 5    6   "
      ]
     },
     "metadata": {},
     "output_type": "display_data"
    }
   ],
   "source": [
    "m"
   ]
  },
  {
   "cell_type": "code",
   "execution_count": null,
   "id": "6606a117-f763-486b-9778-fee2b171762c",
   "metadata": {},
   "outputs": [],
   "source": []
  },
  {
   "cell_type": "markdown",
   "id": "d043cfeb-3d38-4faa-b491-5ff47515eeec",
   "metadata": {},
   "source": [
    "### Matrix using cbind & rbind function\n",
    "\n",
    "\n",
    "- cbind() function to bind the vectors by columns\n",
    "- rbind() function to bind the vectors by rows"
   ]
  },
  {
   "cell_type": "code",
   "execution_count": 194,
   "id": "ebca6c33-e03d-4000-b954-1d1c18b20335",
   "metadata": {},
   "outputs": [
    {
     "data": {
      "text/html": [
       "<table>\n",
       "<caption>A matrix: 2 × 3 of type dbl</caption>\n",
       "<tbody>\n",
       "\t<tr><th scope=row>a</th><td>1</td><td>2</td><td>3</td></tr>\n",
       "\t<tr><th scope=row>b</th><td>4</td><td>5</td><td>6</td></tr>\n",
       "</tbody>\n",
       "</table>\n"
      ],
      "text/latex": [
       "A matrix: 2 × 3 of type dbl\n",
       "\\begin{tabular}{r|lll}\n",
       "\ta & 1 & 2 & 3\\\\\n",
       "\tb & 4 & 5 & 6\\\\\n",
       "\\end{tabular}\n"
      ],
      "text/markdown": [
       "\n",
       "A matrix: 2 × 3 of type dbl\n",
       "\n",
       "| a | 1 | 2 | 3 |\n",
       "| b | 4 | 5 | 6 |\n",
       "\n"
      ],
      "text/plain": [
       "  [,1] [,2] [,3]\n",
       "a 1    2    3   \n",
       "b 4    5    6   "
      ]
     },
     "metadata": {},
     "output_type": "display_data"
    }
   ],
   "source": [
    "a <- c(1,2,3)\n",
    "b <- c(4,5,6)\n",
    "\n",
    "rbind(a,b)"
   ]
  },
  {
   "cell_type": "code",
   "execution_count": 195,
   "id": "38586dfa-c37f-4a43-bfea-628401fb5567",
   "metadata": {},
   "outputs": [
    {
     "data": {
      "text/html": [
       "<table>\n",
       "<caption>A matrix: 3 × 2 of type dbl</caption>\n",
       "<thead>\n",
       "\t<tr><th scope=col>a</th><th scope=col>b</th></tr>\n",
       "</thead>\n",
       "<tbody>\n",
       "\t<tr><td>1</td><td>4</td></tr>\n",
       "\t<tr><td>2</td><td>5</td></tr>\n",
       "\t<tr><td>3</td><td>6</td></tr>\n",
       "</tbody>\n",
       "</table>\n"
      ],
      "text/latex": [
       "A matrix: 3 × 2 of type dbl\n",
       "\\begin{tabular}{ll}\n",
       " a & b\\\\\n",
       "\\hline\n",
       "\t 1 & 4\\\\\n",
       "\t 2 & 5\\\\\n",
       "\t 3 & 6\\\\\n",
       "\\end{tabular}\n"
      ],
      "text/markdown": [
       "\n",
       "A matrix: 3 × 2 of type dbl\n",
       "\n",
       "| a | b |\n",
       "|---|---|\n",
       "| 1 | 4 |\n",
       "| 2 | 5 |\n",
       "| 3 | 6 |\n",
       "\n"
      ],
      "text/plain": [
       "     a b\n",
       "[1,] 1 4\n",
       "[2,] 2 5\n",
       "[3,] 3 6"
      ]
     },
     "metadata": {},
     "output_type": "display_data"
    }
   ],
   "source": [
    "cbind(a,b)"
   ]
  },
  {
   "cell_type": "code",
   "execution_count": null,
   "id": "44f6d8e8-8de4-4fc2-8ea1-4d252cb9346f",
   "metadata": {},
   "outputs": [],
   "source": []
  },
  {
   "cell_type": "markdown",
   "id": "7e812a70-89b6-4216-8eb1-72ae2842299e",
   "metadata": {},
   "source": [
    "### Dimension of Matrix \n",
    "dim() functions to get the dimension of matrix\n",
    "\n",
    "- dim() functions gives no of rows & columns of matrix"
   ]
  },
  {
   "cell_type": "code",
   "execution_count": 197,
   "id": "39c4a8cc-06b4-4d4e-aaff-4e0966e0328a",
   "metadata": {},
   "outputs": [
    {
     "data": {
      "text/html": [
       "<style>\n",
       ".list-inline {list-style: none; margin:0; padding: 0}\n",
       ".list-inline>li {display: inline-block}\n",
       ".list-inline>li:not(:last-child)::after {content: \"\\00b7\"; padding: 0 .5ex}\n",
       "</style>\n",
       "<ol class=list-inline><li>3</li><li>2</li></ol>\n"
      ],
      "text/latex": [
       "\\begin{enumerate*}\n",
       "\\item 3\n",
       "\\item 2\n",
       "\\end{enumerate*}\n"
      ],
      "text/markdown": [
       "1. 3\n",
       "2. 2\n",
       "\n",
       "\n"
      ],
      "text/plain": [
       "[1] 3 2"
      ]
     },
     "metadata": {},
     "output_type": "display_data"
    }
   ],
   "source": [
    "dim(m)"
   ]
  },
  {
   "cell_type": "code",
   "execution_count": null,
   "id": "fe38bac1-a212-4684-abc3-9c0132290ecd",
   "metadata": {},
   "outputs": [],
   "source": []
  },
  {
   "cell_type": "markdown",
   "id": "55510474-aa08-4574-9fd9-070b1723429f",
   "metadata": {},
   "source": [
    "## Accessing Element of Matrix\n",
    "\n",
    "\n",
    "matrix_variable[row_index, column_index]"
   ]
  },
  {
   "cell_type": "code",
   "execution_count": 201,
   "id": "3c1e49fe-aebe-40e4-9479-5f4d7a75c95e",
   "metadata": {},
   "outputs": [
    {
     "data": {
      "text/html": [
       "<table>\n",
       "<caption>A matrix: 2 × 2 of type dbl</caption>\n",
       "<tbody>\n",
       "\t<tr><td>1</td><td>2</td></tr>\n",
       "\t<tr><td>3</td><td>4</td></tr>\n",
       "</tbody>\n",
       "</table>\n"
      ],
      "text/latex": [
       "A matrix: 2 × 2 of type dbl\n",
       "\\begin{tabular}{ll}\n",
       "\t 1 & 2\\\\\n",
       "\t 3 & 4\\\\\n",
       "\\end{tabular}\n"
      ],
      "text/markdown": [
       "\n",
       "A matrix: 2 × 2 of type dbl\n",
       "\n",
       "| 1 | 2 |\n",
       "| 3 | 4 |\n",
       "\n"
      ],
      "text/plain": [
       "     [,1] [,2]\n",
       "[1,] 1    2   \n",
       "[2,] 3    4   "
      ]
     },
     "metadata": {},
     "output_type": "display_data"
    }
   ],
   "source": [
    "m[1:2,] #1 & 2 rows with all the columns "
   ]
  },
  {
   "cell_type": "code",
   "execution_count": 204,
   "id": "4b8704da-3547-4329-8532-19ad027a5f86",
   "metadata": {},
   "outputs": [
    {
     "data": {
      "text/html": [
       "1"
      ],
      "text/latex": [
       "1"
      ],
      "text/markdown": [
       "1"
      ],
      "text/plain": [
       "[1] 1"
      ]
     },
     "metadata": {},
     "output_type": "display_data"
    }
   ],
   "source": [
    "m[1,1] #1st row & 1st column"
   ]
  },
  {
   "cell_type": "code",
   "execution_count": 205,
   "id": "2c6511b1-c15b-4693-9b08-98a0c6bfbd98",
   "metadata": {},
   "outputs": [
    {
     "data": {
      "text/html": [
       "6"
      ],
      "text/latex": [
       "6"
      ],
      "text/markdown": [
       "6"
      ],
      "text/plain": [
       "[1] 6"
      ]
     },
     "metadata": {},
     "output_type": "display_data"
    }
   ],
   "source": [
    "m[3,2] #3rd row & 2nd column"
   ]
  },
  {
   "cell_type": "code",
   "execution_count": 206,
   "id": "3167c9ef-12b9-40ad-a338-0205fccf83e2",
   "metadata": {},
   "outputs": [
    {
     "data": {
      "text/html": [
       "<style>\n",
       ".list-inline {list-style: none; margin:0; padding: 0}\n",
       ".list-inline>li {display: inline-block}\n",
       ".list-inline>li:not(:last-child)::after {content: \"\\00b7\"; padding: 0 .5ex}\n",
       "</style>\n",
       "<ol class=list-inline><li>3</li><li>2</li></ol>\n"
      ],
      "text/latex": [
       "\\begin{enumerate*}\n",
       "\\item 3\n",
       "\\item 2\n",
       "\\end{enumerate*}\n"
      ],
      "text/markdown": [
       "1. 3\n",
       "2. 2\n",
       "\n",
       "\n"
      ],
      "text/plain": [
       "[1] 3 2"
      ]
     },
     "metadata": {},
     "output_type": "display_data"
    }
   ],
   "source": [
    "dim(m)"
   ]
  },
  {
   "cell_type": "code",
   "execution_count": null,
   "id": "8a2174bc-0b16-402f-98e3-7d9bab14baf0",
   "metadata": {},
   "outputs": [],
   "source": []
  },
  {
   "cell_type": "markdown",
   "id": "8cee7207-437c-4e82-bd55-afa79065a2ea",
   "metadata": {},
   "source": [
    "### Matrix Operation"
   ]
  },
  {
   "cell_type": "code",
   "execution_count": 209,
   "id": "3d02b25d-ca42-48e0-81d4-4662fcbe4594",
   "metadata": {},
   "outputs": [],
   "source": [
    "a <- matrix(c(1,2,3,4,5,6), nrow=3, ncol=2)\n",
    "b <- matrix(c(11,22,33,44,55,66), nrow=3, ncol=2)\n"
   ]
  },
  {
   "cell_type": "markdown",
   "id": "74204602-81e9-46a9-8233-5763c548c4f4",
   "metadata": {},
   "source": [
    "Transpose\n",
    "- t() function to get the transpose of a matrix"
   ]
  },
  {
   "cell_type": "code",
   "execution_count": 213,
   "id": "fa4ba802-754a-48d8-bef6-f603145beea0",
   "metadata": {},
   "outputs": [
    {
     "data": {
      "text/html": [
       "<table>\n",
       "<caption>A matrix: 2 × 3 of type dbl</caption>\n",
       "<tbody>\n",
       "\t<tr><td>1</td><td>2</td><td>3</td></tr>\n",
       "\t<tr><td>4</td><td>5</td><td>6</td></tr>\n",
       "</tbody>\n",
       "</table>\n"
      ],
      "text/latex": [
       "A matrix: 2 × 3 of type dbl\n",
       "\\begin{tabular}{lll}\n",
       "\t 1 & 2 & 3\\\\\n",
       "\t 4 & 5 & 6\\\\\n",
       "\\end{tabular}\n"
      ],
      "text/markdown": [
       "\n",
       "A matrix: 2 × 3 of type dbl\n",
       "\n",
       "| 1 | 2 | 3 |\n",
       "| 4 | 5 | 6 |\n",
       "\n"
      ],
      "text/plain": [
       "     [,1] [,2] [,3]\n",
       "[1,] 1    2    3   \n",
       "[2,] 4    5    6   "
      ]
     },
     "metadata": {},
     "output_type": "display_data"
    }
   ],
   "source": [
    "t(a)"
   ]
  },
  {
   "cell_type": "code",
   "execution_count": 214,
   "id": "e6aa81c0-5817-45c3-ba21-4925895fecb2",
   "metadata": {},
   "outputs": [
    {
     "data": {
      "text/html": [
       "<table>\n",
       "<caption>A matrix: 3 × 2 of type dbl</caption>\n",
       "<tbody>\n",
       "\t<tr><td>2</td><td> 8</td></tr>\n",
       "\t<tr><td>4</td><td>10</td></tr>\n",
       "\t<tr><td>6</td><td>12</td></tr>\n",
       "</tbody>\n",
       "</table>\n"
      ],
      "text/latex": [
       "A matrix: 3 × 2 of type dbl\n",
       "\\begin{tabular}{ll}\n",
       "\t 2 &  8\\\\\n",
       "\t 4 & 10\\\\\n",
       "\t 6 & 12\\\\\n",
       "\\end{tabular}\n"
      ],
      "text/markdown": [
       "\n",
       "A matrix: 3 × 2 of type dbl\n",
       "\n",
       "| 2 |  8 |\n",
       "| 4 | 10 |\n",
       "| 6 | 12 |\n",
       "\n"
      ],
      "text/plain": [
       "     [,1] [,2]\n",
       "[1,] 2     8  \n",
       "[2,] 4    10  \n",
       "[3,] 6    12  "
      ]
     },
     "metadata": {},
     "output_type": "display_data"
    }
   ],
   "source": [
    "# Scaller multiplication\n",
    "a * 2"
   ]
  },
  {
   "cell_type": "markdown",
   "id": "9c25300a-1092-41e2-bc37-b8d7b462bab9",
   "metadata": {},
   "source": [
    "Arithmatic Operation \n",
    "\n",
    "Arithmatic operation on matrix takes place on element wise. 1st element of matrix A get add/sub/mul/div with 1st element of matrix B...same for all the elements of matrix"
   ]
  },
  {
   "cell_type": "code",
   "execution_count": 219,
   "id": "3b5b3b1c-23fd-4619-a643-5eb135f41d24",
   "metadata": {},
   "outputs": [
    {
     "data": {
      "text/html": [
       "<table>\n",
       "<caption>A matrix: 3 × 2 of type dbl</caption>\n",
       "<tbody>\n",
       "\t<tr><td>12</td><td>48</td></tr>\n",
       "\t<tr><td>24</td><td>60</td></tr>\n",
       "\t<tr><td>36</td><td>72</td></tr>\n",
       "</tbody>\n",
       "</table>\n"
      ],
      "text/latex": [
       "A matrix: 3 × 2 of type dbl\n",
       "\\begin{tabular}{ll}\n",
       "\t 12 & 48\\\\\n",
       "\t 24 & 60\\\\\n",
       "\t 36 & 72\\\\\n",
       "\\end{tabular}\n"
      ],
      "text/markdown": [
       "\n",
       "A matrix: 3 × 2 of type dbl\n",
       "\n",
       "| 12 | 48 |\n",
       "| 24 | 60 |\n",
       "| 36 | 72 |\n",
       "\n"
      ],
      "text/plain": [
       "     [,1] [,2]\n",
       "[1,] 12   48  \n",
       "[2,] 24   60  \n",
       "[3,] 36   72  "
      ]
     },
     "metadata": {},
     "output_type": "display_data"
    }
   ],
   "source": [
    "a + b"
   ]
  },
  {
   "cell_type": "code",
   "execution_count": 220,
   "id": "e500ff0a-489f-4b37-bd35-cc55c93e4561",
   "metadata": {},
   "outputs": [
    {
     "data": {
      "text/html": [
       "<table>\n",
       "<caption>A matrix: 3 × 2 of type dbl</caption>\n",
       "<tbody>\n",
       "\t<tr><td>-10</td><td>-40</td></tr>\n",
       "\t<tr><td>-20</td><td>-50</td></tr>\n",
       "\t<tr><td>-30</td><td>-60</td></tr>\n",
       "</tbody>\n",
       "</table>\n"
      ],
      "text/latex": [
       "A matrix: 3 × 2 of type dbl\n",
       "\\begin{tabular}{ll}\n",
       "\t -10 & -40\\\\\n",
       "\t -20 & -50\\\\\n",
       "\t -30 & -60\\\\\n",
       "\\end{tabular}\n"
      ],
      "text/markdown": [
       "\n",
       "A matrix: 3 × 2 of type dbl\n",
       "\n",
       "| -10 | -40 |\n",
       "| -20 | -50 |\n",
       "| -30 | -60 |\n",
       "\n"
      ],
      "text/plain": [
       "     [,1] [,2]\n",
       "[1,] -10  -40 \n",
       "[2,] -20  -50 \n",
       "[3,] -30  -60 "
      ]
     },
     "metadata": {},
     "output_type": "display_data"
    }
   ],
   "source": [
    "a - b"
   ]
  },
  {
   "cell_type": "code",
   "execution_count": 221,
   "id": "13141a80-0009-4016-b14c-fdf28a0a3f23",
   "metadata": {},
   "outputs": [
    {
     "data": {
      "text/html": [
       "<table>\n",
       "<caption>A matrix: 3 × 2 of type dbl</caption>\n",
       "<tbody>\n",
       "\t<tr><td>11</td><td>176</td></tr>\n",
       "\t<tr><td>44</td><td>275</td></tr>\n",
       "\t<tr><td>99</td><td>396</td></tr>\n",
       "</tbody>\n",
       "</table>\n"
      ],
      "text/latex": [
       "A matrix: 3 × 2 of type dbl\n",
       "\\begin{tabular}{ll}\n",
       "\t 11 & 176\\\\\n",
       "\t 44 & 275\\\\\n",
       "\t 99 & 396\\\\\n",
       "\\end{tabular}\n"
      ],
      "text/markdown": [
       "\n",
       "A matrix: 3 × 2 of type dbl\n",
       "\n",
       "| 11 | 176 |\n",
       "| 44 | 275 |\n",
       "| 99 | 396 |\n",
       "\n"
      ],
      "text/plain": [
       "     [,1] [,2]\n",
       "[1,] 11   176 \n",
       "[2,] 44   275 \n",
       "[3,] 99   396 "
      ]
     },
     "metadata": {},
     "output_type": "display_data"
    }
   ],
   "source": [
    "a * b"
   ]
  },
  {
   "cell_type": "code",
   "execution_count": 222,
   "id": "456c738e-cff1-4668-a028-913a546a11f1",
   "metadata": {},
   "outputs": [
    {
     "data": {
      "text/html": [
       "<table>\n",
       "<caption>A matrix: 3 × 2 of type dbl</caption>\n",
       "<tbody>\n",
       "\t<tr><td>0.09090909</td><td>0.09090909</td></tr>\n",
       "\t<tr><td>0.09090909</td><td>0.09090909</td></tr>\n",
       "\t<tr><td>0.09090909</td><td>0.09090909</td></tr>\n",
       "</tbody>\n",
       "</table>\n"
      ],
      "text/latex": [
       "A matrix: 3 × 2 of type dbl\n",
       "\\begin{tabular}{ll}\n",
       "\t 0.09090909 & 0.09090909\\\\\n",
       "\t 0.09090909 & 0.09090909\\\\\n",
       "\t 0.09090909 & 0.09090909\\\\\n",
       "\\end{tabular}\n"
      ],
      "text/markdown": [
       "\n",
       "A matrix: 3 × 2 of type dbl\n",
       "\n",
       "| 0.09090909 | 0.09090909 |\n",
       "| 0.09090909 | 0.09090909 |\n",
       "| 0.09090909 | 0.09090909 |\n",
       "\n"
      ],
      "text/plain": [
       "     [,1]       [,2]      \n",
       "[1,] 0.09090909 0.09090909\n",
       "[2,] 0.09090909 0.09090909\n",
       "[3,] 0.09090909 0.09090909"
      ]
     },
     "metadata": {},
     "output_type": "display_data"
    }
   ],
   "source": [
    "a / b"
   ]
  },
  {
   "cell_type": "code",
   "execution_count": null,
   "id": "81e89048-9446-4df9-89c4-716d59064bfd",
   "metadata": {},
   "outputs": [],
   "source": []
  },
  {
   "cell_type": "markdown",
   "id": "8d3cd261-8844-4965-b53b-90d8216ed3e5",
   "metadata": {},
   "source": [
    "Matrix Multiplication in General Mathematics \n",
    "\n",
    "we used special multiplication operation to perform matrix multiplication.\n",
    "\n",
    "\\%*%  Special Multiplication operator"
   ]
  },
  {
   "cell_type": "code",
   "execution_count": 230,
   "id": "70bd9437-31fa-4a58-9e67-1e2f22820ead",
   "metadata": {},
   "outputs": [],
   "source": [
    "a <- matrix(c(2,6,5,1,2,4), nrow=2, ncol=3)\n",
    "b <- matrix(c(5,-1,1,-3,1,5), nrow=3, ncol=2)"
   ]
  },
  {
   "cell_type": "code",
   "execution_count": 231,
   "id": "a78a97bd-620f-4598-bb96-4b9e3a989b1e",
   "metadata": {},
   "outputs": [
    {
     "data": {
      "text/html": [
       "<table>\n",
       "<caption>A matrix: 2 × 3 of type dbl</caption>\n",
       "<tbody>\n",
       "\t<tr><td>2</td><td>5</td><td>2</td></tr>\n",
       "\t<tr><td>6</td><td>1</td><td>4</td></tr>\n",
       "</tbody>\n",
       "</table>\n"
      ],
      "text/latex": [
       "A matrix: 2 × 3 of type dbl\n",
       "\\begin{tabular}{lll}\n",
       "\t 2 & 5 & 2\\\\\n",
       "\t 6 & 1 & 4\\\\\n",
       "\\end{tabular}\n"
      ],
      "text/markdown": [
       "\n",
       "A matrix: 2 × 3 of type dbl\n",
       "\n",
       "| 2 | 5 | 2 |\n",
       "| 6 | 1 | 4 |\n",
       "\n"
      ],
      "text/plain": [
       "     [,1] [,2] [,3]\n",
       "[1,] 2    5    2   \n",
       "[2,] 6    1    4   "
      ]
     },
     "metadata": {},
     "output_type": "display_data"
    }
   ],
   "source": [
    "a"
   ]
  },
  {
   "cell_type": "code",
   "execution_count": 232,
   "id": "cf935ce8-958b-4f4e-b5e2-b0d357e3ea2b",
   "metadata": {},
   "outputs": [
    {
     "data": {
      "text/html": [
       "<table>\n",
       "<caption>A matrix: 3 × 2 of type dbl</caption>\n",
       "<tbody>\n",
       "\t<tr><td> 5</td><td>-3</td></tr>\n",
       "\t<tr><td>-1</td><td> 1</td></tr>\n",
       "\t<tr><td> 1</td><td> 5</td></tr>\n",
       "</tbody>\n",
       "</table>\n"
      ],
      "text/latex": [
       "A matrix: 3 × 2 of type dbl\n",
       "\\begin{tabular}{ll}\n",
       "\t  5 & -3\\\\\n",
       "\t -1 &  1\\\\\n",
       "\t  1 &  5\\\\\n",
       "\\end{tabular}\n"
      ],
      "text/markdown": [
       "\n",
       "A matrix: 3 × 2 of type dbl\n",
       "\n",
       "|  5 | -3 |\n",
       "| -1 |  1 |\n",
       "|  1 |  5 |\n",
       "\n"
      ],
      "text/plain": [
       "     [,1] [,2]\n",
       "[1,]  5   -3  \n",
       "[2,] -1    1  \n",
       "[3,]  1    5  "
      ]
     },
     "metadata": {},
     "output_type": "display_data"
    }
   ],
   "source": [
    "b"
   ]
  },
  {
   "cell_type": "code",
   "execution_count": 233,
   "id": "080c55ac-0619-437e-98a8-e11cf6035ad2",
   "metadata": {},
   "outputs": [
    {
     "data": {
      "text/html": [
       "<table>\n",
       "<caption>A matrix: 2 × 2 of type dbl</caption>\n",
       "<tbody>\n",
       "\t<tr><td> 7</td><td>9</td></tr>\n",
       "\t<tr><td>33</td><td>3</td></tr>\n",
       "</tbody>\n",
       "</table>\n"
      ],
      "text/latex": [
       "A matrix: 2 × 2 of type dbl\n",
       "\\begin{tabular}{ll}\n",
       "\t  7 & 9\\\\\n",
       "\t 33 & 3\\\\\n",
       "\\end{tabular}\n"
      ],
      "text/markdown": [
       "\n",
       "A matrix: 2 × 2 of type dbl\n",
       "\n",
       "|  7 | 9 |\n",
       "| 33 | 3 |\n",
       "\n"
      ],
      "text/plain": [
       "     [,1] [,2]\n",
       "[1,]  7   9   \n",
       "[2,] 33   3   "
      ]
     },
     "metadata": {},
     "output_type": "display_data"
    }
   ],
   "source": [
    "#Matrix Mutliplication\n",
    "\n",
    "a %*% b"
   ]
  },
  {
   "cell_type": "code",
   "execution_count": null,
   "id": "09370058-e0a5-40bb-83a7-d996a0809cd5",
   "metadata": {},
   "outputs": [],
   "source": []
  },
  {
   "cell_type": "markdown",
   "id": "896276fe-be99-472e-b4f5-5084cf57c74b",
   "metadata": {},
   "source": [
    "## DataFrame \n",
    "\n",
    "- A dataframe is R's most natural ways of presenting a dataset, and it's a collection of recorded observation for one or more variables.\n",
    "- Data Frame contains data in two dimensional (Row X Col) format with row index and column index\n",
    "\n",
    "\n",
    "data.frame() functions helps to create dataframe"
   ]
  },
  {
   "cell_type": "code",
   "execution_count": 14,
   "id": "ec9bfdab-5d6c-4205-8406-a9726865b689",
   "metadata": {},
   "outputs": [],
   "source": [
    "name <- c(\"John\", \"Nick\", \"Dom\")\n",
    "age <- c(35,25,40)\n",
    "country <- c(\"USA\", \"UK\", \"USA\")\n",
    "\n",
    "df <- data.frame(name, age, country)"
   ]
  },
  {
   "cell_type": "code",
   "execution_count": 15,
   "id": "14c6d87d-aebe-4f6a-afad-8ece134fa63f",
   "metadata": {},
   "outputs": [
    {
     "name": "stdout",
     "output_type": "stream",
     "text": [
      "  name age country\n",
      "1 John  35     USA\n",
      "2 Nick  25      UK\n",
      "3  Dom  40     USA\n"
     ]
    }
   ],
   "source": [
    "print(df)"
   ]
  },
  {
   "cell_type": "code",
   "execution_count": 17,
   "id": "2db57402-673e-4d5e-b882-17b24cbbc45b",
   "metadata": {},
   "outputs": [],
   "source": [
    "View(df)"
   ]
  },
  {
   "cell_type": "markdown",
   "id": "bd03bb1c-7bdb-4c41-a431-a0c951847425",
   "metadata": {},
   "source": [
    "#### Accessing Element from DataFrame\n",
    "\n",
    "dataframe_var[row-index , col-index]\n",
    "\n",
    "- If user is not passing either row or columns index then it display all the rows/columns "
   ]
  },
  {
   "cell_type": "code",
   "execution_count": 18,
   "id": "cd8b8a9f-b1ac-4e75-aebf-b357b0954c35",
   "metadata": {},
   "outputs": [
    {
     "data": {
      "text/html": [
       "<table>\n",
       "<caption>A data.frame: 3 × 3</caption>\n",
       "<thead>\n",
       "\t<tr><th scope=col>name</th><th scope=col>age</th><th scope=col>country</th></tr>\n",
       "\t<tr><th scope=col>&lt;fct&gt;</th><th scope=col>&lt;dbl&gt;</th><th scope=col>&lt;fct&gt;</th></tr>\n",
       "</thead>\n",
       "<tbody>\n",
       "\t<tr><td>John</td><td>35</td><td>USA</td></tr>\n",
       "\t<tr><td>Nick</td><td>25</td><td>UK </td></tr>\n",
       "\t<tr><td>Dom </td><td>40</td><td>USA</td></tr>\n",
       "</tbody>\n",
       "</table>\n"
      ],
      "text/latex": [
       "A data.frame: 3 × 3\n",
       "\\begin{tabular}{lll}\n",
       " name & age & country\\\\\n",
       " <fct> & <dbl> & <fct>\\\\\n",
       "\\hline\n",
       "\t John & 35 & USA\\\\\n",
       "\t Nick & 25 & UK \\\\\n",
       "\t Dom  & 40 & USA\\\\\n",
       "\\end{tabular}\n"
      ],
      "text/markdown": [
       "\n",
       "A data.frame: 3 × 3\n",
       "\n",
       "| name &lt;fct&gt; | age &lt;dbl&gt; | country &lt;fct&gt; |\n",
       "|---|---|---|\n",
       "| John | 35 | USA |\n",
       "| Nick | 25 | UK  |\n",
       "| Dom  | 40 | USA |\n",
       "\n"
      ],
      "text/plain": [
       "  name age country\n",
       "1 John 35  USA    \n",
       "2 Nick 25  UK     \n",
       "3 Dom  40  USA    "
      ]
     },
     "metadata": {},
     "output_type": "display_data"
    }
   ],
   "source": [
    "df[] #Display all the observation with all columns, No row index & column index so it display all the observation & columns"
   ]
  },
  {
   "cell_type": "code",
   "execution_count": 19,
   "id": "f14ca26d-f9d7-48ec-913a-f995619d791c",
   "metadata": {},
   "outputs": [
    {
     "data": {
      "text/html": [
       "<table>\n",
       "<caption>A data.frame: 1 × 3</caption>\n",
       "<thead>\n",
       "\t<tr><th></th><th scope=col>name</th><th scope=col>age</th><th scope=col>country</th></tr>\n",
       "\t<tr><th></th><th scope=col>&lt;fct&gt;</th><th scope=col>&lt;dbl&gt;</th><th scope=col>&lt;fct&gt;</th></tr>\n",
       "</thead>\n",
       "<tbody>\n",
       "\t<tr><th scope=row>1</th><td>John</td><td>35</td><td>USA</td></tr>\n",
       "</tbody>\n",
       "</table>\n"
      ],
      "text/latex": [
       "A data.frame: 1 × 3\n",
       "\\begin{tabular}{r|lll}\n",
       "  & name & age & country\\\\\n",
       "  & <fct> & <dbl> & <fct>\\\\\n",
       "\\hline\n",
       "\t1 & John & 35 & USA\\\\\n",
       "\\end{tabular}\n"
      ],
      "text/markdown": [
       "\n",
       "A data.frame: 1 × 3\n",
       "\n",
       "| <!--/--> | name &lt;fct&gt; | age &lt;dbl&gt; | country &lt;fct&gt; |\n",
       "|---|---|---|---|\n",
       "| 1 | John | 35 | USA |\n",
       "\n"
      ],
      "text/plain": [
       "  name age country\n",
       "1 John 35  USA    "
      ]
     },
     "metadata": {},
     "output_type": "display_data"
    }
   ],
   "source": [
    "df[1,] #Display first observation with all columns"
   ]
  },
  {
   "cell_type": "code",
   "execution_count": 20,
   "id": "801ece83-4d99-468a-a62b-349c8c508f62",
   "metadata": {},
   "outputs": [
    {
     "data": {
      "text/html": [
       "USA\n",
       "<details>\n",
       "\t<summary style=display:list-item;cursor:pointer>\n",
       "\t\t<strong>Levels</strong>:\n",
       "\t</summary>\n",
       "\t<style>\n",
       "\t.list-inline {list-style: none; margin:0; padding: 0}\n",
       "\t.list-inline>li {display: inline-block}\n",
       "\t.list-inline>li:not(:last-child)::after {content: \"\\00b7\"; padding: 0 .5ex}\n",
       "\t</style>\n",
       "\t<ol class=list-inline><li>'UK'</li><li>'USA'</li></ol>\n",
       "</details>"
      ],
      "text/latex": [
       "USA\n",
       "\\emph{Levels}: \\begin{enumerate*}\n",
       "\\item 'UK'\n",
       "\\item 'USA'\n",
       "\\end{enumerate*}\n"
      ],
      "text/markdown": [
       "USA\n",
       "**Levels**: 1. 'UK'\n",
       "2. 'USA'\n",
       "\n",
       "\n"
      ],
      "text/plain": [
       "[1] USA\n",
       "Levels: UK USA"
      ]
     },
     "metadata": {},
     "output_type": "display_data"
    }
   ],
   "source": [
    "df[1, 3] #Display first observation with only 3rd column"
   ]
  },
  {
   "cell_type": "code",
   "execution_count": 21,
   "id": "4b86a018-a6f7-4573-8160-74092d21c72f",
   "metadata": {},
   "outputs": [
    {
     "data": {
      "text/html": [
       "<table>\n",
       "<caption>A data.frame: 1 × 2</caption>\n",
       "<thead>\n",
       "\t<tr><th></th><th scope=col>age</th><th scope=col>country</th></tr>\n",
       "\t<tr><th></th><th scope=col>&lt;dbl&gt;</th><th scope=col>&lt;fct&gt;</th></tr>\n",
       "</thead>\n",
       "<tbody>\n",
       "\t<tr><th scope=row>2</th><td>25</td><td>UK</td></tr>\n",
       "</tbody>\n",
       "</table>\n"
      ],
      "text/latex": [
       "A data.frame: 1 × 2\n",
       "\\begin{tabular}{r|ll}\n",
       "  & age & country\\\\\n",
       "  & <dbl> & <fct>\\\\\n",
       "\\hline\n",
       "\t2 & 25 & UK\\\\\n",
       "\\end{tabular}\n"
      ],
      "text/markdown": [
       "\n",
       "A data.frame: 1 × 2\n",
       "\n",
       "| <!--/--> | age &lt;dbl&gt; | country &lt;fct&gt; |\n",
       "|---|---|---|\n",
       "| 2 | 25 | UK |\n",
       "\n"
      ],
      "text/plain": [
       "  age country\n",
       "2 25  UK     "
      ]
     },
     "metadata": {},
     "output_type": "display_data"
    }
   ],
   "source": [
    "df[2, 2:3] #Display second observation with 2 to 3 columns"
   ]
  },
  {
   "cell_type": "code",
   "execution_count": 22,
   "id": "011967aa-abe0-4551-a4fc-1cfea5cb751e",
   "metadata": {},
   "outputs": [
    {
     "data": {
      "text/html": [
       "<style>\n",
       ".list-inline {list-style: none; margin:0; padding: 0}\n",
       ".list-inline>li {display: inline-block}\n",
       ".list-inline>li:not(:last-child)::after {content: \"\\00b7\"; padding: 0 .5ex}\n",
       "</style>\n",
       "<ol class=list-inline><li>John</li><li>Nick</li></ol>\n",
       "\n",
       "<details>\n",
       "\t<summary style=display:list-item;cursor:pointer>\n",
       "\t\t<strong>Levels</strong>:\n",
       "\t</summary>\n",
       "\t<style>\n",
       "\t.list-inline {list-style: none; margin:0; padding: 0}\n",
       "\t.list-inline>li {display: inline-block}\n",
       "\t.list-inline>li:not(:last-child)::after {content: \"\\00b7\"; padding: 0 .5ex}\n",
       "\t</style>\n",
       "\t<ol class=list-inline><li>'Dom'</li><li>'John'</li><li>'Nick'</li></ol>\n",
       "</details>"
      ],
      "text/latex": [
       "\\begin{enumerate*}\n",
       "\\item John\n",
       "\\item Nick\n",
       "\\end{enumerate*}\n",
       "\n",
       "\\emph{Levels}: \\begin{enumerate*}\n",
       "\\item 'Dom'\n",
       "\\item 'John'\n",
       "\\item 'Nick'\n",
       "\\end{enumerate*}\n"
      ],
      "text/markdown": [
       "1. John\n",
       "2. Nick\n",
       "\n",
       "\n",
       "\n",
       "**Levels**: 1. 'Dom'\n",
       "2. 'John'\n",
       "3. 'Nick'\n",
       "\n",
       "\n"
      ],
      "text/plain": [
       "[1] John Nick\n",
       "Levels: Dom John Nick"
      ]
     },
     "metadata": {},
     "output_type": "display_data"
    }
   ],
   "source": [
    "df[1:2, 1] #Display 1 to 2 observation with 1st column "
   ]
  },
  {
   "cell_type": "code",
   "execution_count": 23,
   "id": "f4ab25b6-b157-44d8-94c9-32e187b4ad55",
   "metadata": {},
   "outputs": [
    {
     "data": {
      "text/html": [
       "<table>\n",
       "<caption>A data.frame: 2 × 3</caption>\n",
       "<thead>\n",
       "\t<tr><th></th><th scope=col>name</th><th scope=col>age</th><th scope=col>country</th></tr>\n",
       "\t<tr><th></th><th scope=col>&lt;fct&gt;</th><th scope=col>&lt;dbl&gt;</th><th scope=col>&lt;fct&gt;</th></tr>\n",
       "</thead>\n",
       "<tbody>\n",
       "\t<tr><th scope=row>1</th><td>John</td><td>35</td><td>USA</td></tr>\n",
       "\t<tr><th scope=row>3</th><td>Dom </td><td>40</td><td>USA</td></tr>\n",
       "</tbody>\n",
       "</table>\n"
      ],
      "text/latex": [
       "A data.frame: 2 × 3\n",
       "\\begin{tabular}{r|lll}\n",
       "  & name & age & country\\\\\n",
       "  & <fct> & <dbl> & <fct>\\\\\n",
       "\\hline\n",
       "\t1 & John & 35 & USA\\\\\n",
       "\t3 & Dom  & 40 & USA\\\\\n",
       "\\end{tabular}\n"
      ],
      "text/markdown": [
       "\n",
       "A data.frame: 2 × 3\n",
       "\n",
       "| <!--/--> | name &lt;fct&gt; | age &lt;dbl&gt; | country &lt;fct&gt; |\n",
       "|---|---|---|---|\n",
       "| 1 | John | 35 | USA |\n",
       "| 3 | Dom  | 40 | USA |\n",
       "\n"
      ],
      "text/plain": [
       "  name age country\n",
       "1 John 35  USA    \n",
       "3 Dom  40  USA    "
      ]
     },
     "metadata": {},
     "output_type": "display_data"
    }
   ],
   "source": [
    "df[c(1,3),] #Display 1 & 3rd observation with all the columns , Column index is blank means display all the columns"
   ]
  },
  {
   "cell_type": "code",
   "execution_count": null,
   "id": "41e1c8f3-39f2-4f7e-bfbc-e6e6da86c4a7",
   "metadata": {},
   "outputs": [],
   "source": []
  },
  {
   "cell_type": "markdown",
   "id": "037f855f-98f0-43bd-bf16-7ff500ebbc52",
   "metadata": {},
   "source": [
    "#### Accessing Variable/Columns in Dataframe using columns name\n",
    "\n",
    "- $(dollor) symbol used to access the variables from Dataframe\n",
    "\n",
    "dataframe-var$col-name"
   ]
  },
  {
   "cell_type": "code",
   "execution_count": 25,
   "id": "38024f61-6764-4c7a-b8e1-00b8a39a9788",
   "metadata": {},
   "outputs": [
    {
     "data": {
      "text/html": [
       "<style>\n",
       ".list-inline {list-style: none; margin:0; padding: 0}\n",
       ".list-inline>li {display: inline-block}\n",
       ".list-inline>li:not(:last-child)::after {content: \"\\00b7\"; padding: 0 .5ex}\n",
       "</style>\n",
       "<ol class=list-inline><li>John</li><li>Nick</li><li>Dom</li></ol>\n",
       "\n",
       "<details>\n",
       "\t<summary style=display:list-item;cursor:pointer>\n",
       "\t\t<strong>Levels</strong>:\n",
       "\t</summary>\n",
       "\t<style>\n",
       "\t.list-inline {list-style: none; margin:0; padding: 0}\n",
       "\t.list-inline>li {display: inline-block}\n",
       "\t.list-inline>li:not(:last-child)::after {content: \"\\00b7\"; padding: 0 .5ex}\n",
       "\t</style>\n",
       "\t<ol class=list-inline><li>'Dom'</li><li>'John'</li><li>'Nick'</li></ol>\n",
       "</details>"
      ],
      "text/latex": [
       "\\begin{enumerate*}\n",
       "\\item John\n",
       "\\item Nick\n",
       "\\item Dom\n",
       "\\end{enumerate*}\n",
       "\n",
       "\\emph{Levels}: \\begin{enumerate*}\n",
       "\\item 'Dom'\n",
       "\\item 'John'\n",
       "\\item 'Nick'\n",
       "\\end{enumerate*}\n"
      ],
      "text/markdown": [
       "1. John\n",
       "2. Nick\n",
       "3. Dom\n",
       "\n",
       "\n",
       "\n",
       "**Levels**: 1. 'Dom'\n",
       "2. 'John'\n",
       "3. 'Nick'\n",
       "\n",
       "\n"
      ],
      "text/plain": [
       "[1] John Nick Dom \n",
       "Levels: Dom John Nick"
      ]
     },
     "metadata": {},
     "output_type": "display_data"
    }
   ],
   "source": [
    "df$name"
   ]
  },
  {
   "cell_type": "code",
   "execution_count": 26,
   "id": "13414c18-c194-4d15-971b-26dc69b07eec",
   "metadata": {},
   "outputs": [
    {
     "data": {
      "text/html": [
       "<style>\n",
       ".list-inline {list-style: none; margin:0; padding: 0}\n",
       ".list-inline>li {display: inline-block}\n",
       ".list-inline>li:not(:last-child)::after {content: \"\\00b7\"; padding: 0 .5ex}\n",
       "</style>\n",
       "<ol class=list-inline><li>35</li><li>25</li><li>40</li></ol>\n"
      ],
      "text/latex": [
       "\\begin{enumerate*}\n",
       "\\item 35\n",
       "\\item 25\n",
       "\\item 40\n",
       "\\end{enumerate*}\n"
      ],
      "text/markdown": [
       "1. 35\n",
       "2. 25\n",
       "3. 40\n",
       "\n",
       "\n"
      ],
      "text/plain": [
       "[1] 35 25 40"
      ]
     },
     "metadata": {},
     "output_type": "display_data"
    }
   ],
   "source": [
    "df$age"
   ]
  },
  {
   "cell_type": "code",
   "execution_count": 27,
   "id": "3a325aac-9f38-420a-9e86-c340abf6e926",
   "metadata": {},
   "outputs": [
    {
     "name": "stdout",
     "output_type": "stream",
     "text": [
      "[1] John Nick Dom \n",
      "Levels: Dom John Nick\n"
     ]
    }
   ],
   "source": [
    "print(df$name)"
   ]
  },
  {
   "cell_type": "markdown",
   "id": "a47950d1-775a-4131-9e3a-0d5bf2456159",
   "metadata": {},
   "source": [
    "#### View the dimension & structure of Dataframe\n",
    "\n",
    "- dim() functions to get the dimension of Dataframe\n",
    "- str() functions to get the structure of dataframe which gives information about the no of rows & columns along with data types of each variable"
   ]
  },
  {
   "cell_type": "code",
   "execution_count": 30,
   "id": "0f2cb89b-1a21-43fb-8d4f-134e52656b2f",
   "metadata": {},
   "outputs": [
    {
     "data": {
      "text/html": [
       "<style>\n",
       ".list-inline {list-style: none; margin:0; padding: 0}\n",
       ".list-inline>li {display: inline-block}\n",
       ".list-inline>li:not(:last-child)::after {content: \"\\00b7\"; padding: 0 .5ex}\n",
       "</style>\n",
       "<ol class=list-inline><li>3</li><li>3</li></ol>\n"
      ],
      "text/latex": [
       "\\begin{enumerate*}\n",
       "\\item 3\n",
       "\\item 3\n",
       "\\end{enumerate*}\n"
      ],
      "text/markdown": [
       "1. 3\n",
       "2. 3\n",
       "\n",
       "\n"
      ],
      "text/plain": [
       "[1] 3 3"
      ]
     },
     "metadata": {},
     "output_type": "display_data"
    }
   ],
   "source": [
    "dim(df)"
   ]
  },
  {
   "cell_type": "code",
   "execution_count": 31,
   "id": "0a308bac-58f6-4f1b-b5e2-c0b93870dec3",
   "metadata": {},
   "outputs": [
    {
     "name": "stdout",
     "output_type": "stream",
     "text": [
      "'data.frame':\t3 obs. of  3 variables:\n",
      " $ name   : Factor w/ 3 levels \"Dom\",\"John\",\"Nick\": 2 3 1\n",
      " $ age    : num  35 25 40\n",
      " $ country: Factor w/ 2 levels \"UK\",\"USA\": 2 1 2\n"
     ]
    }
   ],
   "source": [
    "str(df)"
   ]
  },
  {
   "cell_type": "code",
   "execution_count": null,
   "id": "6c3fad70-04d7-4190-897f-b6a8447d595a",
   "metadata": {},
   "outputs": [],
   "source": []
  },
  {
   "cell_type": "markdown",
   "id": "ee561d3e-07c1-499f-a4aa-c56ea6f60715",
   "metadata": {},
   "source": [
    "## List\n",
    "- List is powerful data strucutres. it can be used to group together any kind of data type & structures in R.\n",
    "i.e List can be created using combining Vectors, Matrix, Logical type, Complex type, String, Dataframe and list itself\n",
    "\n",
    "\n",
    "list() function used to create list in R"
   ]
  },
  {
   "cell_type": "code",
   "execution_count": 36,
   "id": "2fd1640e-13c4-44e5-87e4-359877949fb2",
   "metadata": {},
   "outputs": [],
   "source": [
    "name <- c(\"John\", \"Nick\", \"Dom\")\n",
    "age <- c(35,25,40)\n",
    "country <- c(\"USA\", \"UK\", \"USA\")\n",
    "\n",
    "df <- data.frame(name, age, country)\n",
    "\n",
    "\n",
    "\n",
    "m <- matrix(c(1,2,3,4,5,6), nrow=3, ncol=2)\n",
    "\n",
    "logical_val <- c(TRUE, TRUE, FALSE)\n",
    "\n",
    "char_val <- \"Tumkur\"\n",
    "\n",
    "num <- 199.12\n",
    "\n",
    "c_num <- 6+2i"
   ]
  },
  {
   "cell_type": "code",
   "execution_count": 37,
   "id": "bae43cd6-c7bb-4f26-9561-5a7a67ea27ac",
   "metadata": {},
   "outputs": [],
   "source": [
    "my_list <- list(df, m, logical_val, char_val, num, c_num)"
   ]
  },
  {
   "cell_type": "code",
   "execution_count": 38,
   "id": "d24a4cf2-b08c-4216-927f-5afacbbd4e1d",
   "metadata": {},
   "outputs": [
    {
     "data": {
      "text/html": [
       "<ol>\n",
       "\t<li><table>\n",
       "<caption>A data.frame: 3 × 3</caption>\n",
       "<thead>\n",
       "\t<tr><th scope=col>name</th><th scope=col>age</th><th scope=col>country</th></tr>\n",
       "\t<tr><th scope=col>&lt;fct&gt;</th><th scope=col>&lt;dbl&gt;</th><th scope=col>&lt;fct&gt;</th></tr>\n",
       "</thead>\n",
       "<tbody>\n",
       "\t<tr><td>John</td><td>35</td><td>USA</td></tr>\n",
       "\t<tr><td>Nick</td><td>25</td><td>UK </td></tr>\n",
       "\t<tr><td>Dom </td><td>40</td><td>USA</td></tr>\n",
       "</tbody>\n",
       "</table>\n",
       "</li>\n",
       "\t<li><table>\n",
       "<caption>A matrix: 3 × 2 of type dbl</caption>\n",
       "<tbody>\n",
       "\t<tr><td>1</td><td>4</td></tr>\n",
       "\t<tr><td>2</td><td>5</td></tr>\n",
       "\t<tr><td>3</td><td>6</td></tr>\n",
       "</tbody>\n",
       "</table>\n",
       "</li>\n",
       "\t<li><style>\n",
       ".list-inline {list-style: none; margin:0; padding: 0}\n",
       ".list-inline>li {display: inline-block}\n",
       ".list-inline>li:not(:last-child)::after {content: \"\\00b7\"; padding: 0 .5ex}\n",
       "</style>\n",
       "<ol class=list-inline><li>TRUE</li><li>TRUE</li><li>FALSE</li></ol>\n",
       "</li>\n",
       "\t<li>'Tumkur'</li>\n",
       "\t<li>199.12</li>\n",
       "\t<li>6+2i</li>\n",
       "</ol>\n"
      ],
      "text/latex": [
       "\\begin{enumerate}\n",
       "\\item A data.frame: 3 × 3\n",
       "\\begin{tabular}{lll}\n",
       " name & age & country\\\\\n",
       " <fct> & <dbl> & <fct>\\\\\n",
       "\\hline\n",
       "\t John & 35 & USA\\\\\n",
       "\t Nick & 25 & UK \\\\\n",
       "\t Dom  & 40 & USA\\\\\n",
       "\\end{tabular}\n",
       "\n",
       "\\item A matrix: 3 × 2 of type dbl\n",
       "\\begin{tabular}{ll}\n",
       "\t 1 & 4\\\\\n",
       "\t 2 & 5\\\\\n",
       "\t 3 & 6\\\\\n",
       "\\end{tabular}\n",
       "\n",
       "\\item \\begin{enumerate*}\n",
       "\\item TRUE\n",
       "\\item TRUE\n",
       "\\item FALSE\n",
       "\\end{enumerate*}\n",
       "\n",
       "\\item 'Tumkur'\n",
       "\\item 199.12\n",
       "\\item 6+2i\n",
       "\\end{enumerate}\n"
      ],
      "text/markdown": [
       "1. \n",
       "A data.frame: 3 × 3\n",
       "\n",
       "| name &lt;fct&gt; | age &lt;dbl&gt; | country &lt;fct&gt; |\n",
       "|---|---|---|\n",
       "| John | 35 | USA |\n",
       "| Nick | 25 | UK  |\n",
       "| Dom  | 40 | USA |\n",
       "\n",
       "\n",
       "2. \n",
       "A matrix: 3 × 2 of type dbl\n",
       "\n",
       "| 1 | 4 |\n",
       "| 2 | 5 |\n",
       "| 3 | 6 |\n",
       "\n",
       "\n",
       "3. 1. TRUE\n",
       "2. TRUE\n",
       "3. FALSE\n",
       "\n",
       "\n",
       "\n",
       "4. 'Tumkur'\n",
       "5. 199.12\n",
       "6. 6+2i\n",
       "\n",
       "\n"
      ],
      "text/plain": [
       "[[1]]\n",
       "  name age country\n",
       "1 John  35     USA\n",
       "2 Nick  25      UK\n",
       "3  Dom  40     USA\n",
       "\n",
       "[[2]]\n",
       "     [,1] [,2]\n",
       "[1,]    1    4\n",
       "[2,]    2    5\n",
       "[3,]    3    6\n",
       "\n",
       "[[3]]\n",
       "[1]  TRUE  TRUE FALSE\n",
       "\n",
       "[[4]]\n",
       "[1] \"Tumkur\"\n",
       "\n",
       "[[5]]\n",
       "[1] 199.12\n",
       "\n",
       "[[6]]\n",
       "[1] 6+2i\n"
      ]
     },
     "metadata": {},
     "output_type": "display_data"
    }
   ],
   "source": [
    "my_list"
   ]
  },
  {
   "cell_type": "code",
   "execution_count": null,
   "id": "0d18bca5-5637-4d74-8684-aab04f6b56c1",
   "metadata": {},
   "outputs": [],
   "source": []
  },
  {
   "cell_type": "markdown",
   "id": "9542f198-48cc-4932-90d6-b4a88f4f734e",
   "metadata": {},
   "source": [
    "#### Accessing Element in List\n",
    "\n",
    "in list we need to use double square brackets to access the elements\n",
    "\n",
    "[[index]] "
   ]
  },
  {
   "cell_type": "code",
   "execution_count": 40,
   "id": "40b91ec3-4c88-4ac4-9da2-8775fdd362b4",
   "metadata": {},
   "outputs": [
    {
     "data": {
      "text/html": [
       "<table>\n",
       "<caption>A data.frame: 3 × 3</caption>\n",
       "<thead>\n",
       "\t<tr><th scope=col>name</th><th scope=col>age</th><th scope=col>country</th></tr>\n",
       "\t<tr><th scope=col>&lt;fct&gt;</th><th scope=col>&lt;dbl&gt;</th><th scope=col>&lt;fct&gt;</th></tr>\n",
       "</thead>\n",
       "<tbody>\n",
       "\t<tr><td>John</td><td>35</td><td>USA</td></tr>\n",
       "\t<tr><td>Nick</td><td>25</td><td>UK </td></tr>\n",
       "\t<tr><td>Dom </td><td>40</td><td>USA</td></tr>\n",
       "</tbody>\n",
       "</table>\n"
      ],
      "text/latex": [
       "A data.frame: 3 × 3\n",
       "\\begin{tabular}{lll}\n",
       " name & age & country\\\\\n",
       " <fct> & <dbl> & <fct>\\\\\n",
       "\\hline\n",
       "\t John & 35 & USA\\\\\n",
       "\t Nick & 25 & UK \\\\\n",
       "\t Dom  & 40 & USA\\\\\n",
       "\\end{tabular}\n"
      ],
      "text/markdown": [
       "\n",
       "A data.frame: 3 × 3\n",
       "\n",
       "| name &lt;fct&gt; | age &lt;dbl&gt; | country &lt;fct&gt; |\n",
       "|---|---|---|\n",
       "| John | 35 | USA |\n",
       "| Nick | 25 | UK  |\n",
       "| Dom  | 40 | USA |\n",
       "\n"
      ],
      "text/plain": [
       "  name age country\n",
       "1 John 35  USA    \n",
       "2 Nick 25  UK     \n",
       "3 Dom  40  USA    "
      ]
     },
     "metadata": {},
     "output_type": "display_data"
    }
   ],
   "source": [
    "my_list[[1]] # Access the first element from a list and in above example 1st element is DataFrame"
   ]
  },
  {
   "cell_type": "code",
   "execution_count": 42,
   "id": "00f41359-f21e-4766-b70e-bfc1cc4db13d",
   "metadata": {},
   "outputs": [
    {
     "data": {
      "text/html": [
       "199.12"
      ],
      "text/latex": [
       "199.12"
      ],
      "text/markdown": [
       "199.12"
      ],
      "text/plain": [
       "[1] 199.12"
      ]
     },
     "metadata": {},
     "output_type": "display_data"
    }
   ],
   "source": [
    "my_list[[5]] # Accessing 5th element from a list and 5th element is Number in above example"
   ]
  },
  {
   "cell_type": "code",
   "execution_count": 44,
   "id": "06a0f4cd-3693-4aa6-ad9c-9b1ba5a98ddb",
   "metadata": {},
   "outputs": [
    {
     "data": {
      "text/html": [
       "6"
      ],
      "text/latex": [
       "6"
      ],
      "text/markdown": [
       "6"
      ],
      "text/plain": [
       "[1] 6"
      ]
     },
     "metadata": {},
     "output_type": "display_data"
    }
   ],
   "source": [
    "length(my_list) # No of element List has"
   ]
  },
  {
   "cell_type": "code",
   "execution_count": null,
   "id": "c412bdbd-9425-4354-b362-4d7bb9a54adb",
   "metadata": {},
   "outputs": [],
   "source": []
  },
  {
   "cell_type": "markdown",
   "id": "e47eea97-3360-45a2-8d93-94bcc6ad85c3",
   "metadata": {},
   "source": [
    "## Factor\n",
    "- Factor represent categorical variable and are used as grouping indicator. It stores the vector along with the distinct values of the elements in the vectors as lables.\n",
    "- Factors can be useful in the columns which has a limited number of unique values. ie. Male/Female, True/False, High/Medium/Low..etc\n",
    "\n",
    "- Factor are useful in data analysis for statistical modeling . Factors are self describing hence using Factor with label is better than using integer.\n",
    "ie. Having variable values \"yes\" and \"no\" ,is better than a variable that has values 1 and 2\n",
    "\n",
    "\n",
    "\n",
    "\n",
    "\n",
    "\n",
    "\n",
    "factor(v=, levels=, labels=, exclude=NA) function used to create a Factors in R"
   ]
  },
  {
   "cell_type": "code",
   "execution_count": 45,
   "id": "98abebac-ff1b-4e75-a9f8-7f6c11692609",
   "metadata": {},
   "outputs": [],
   "source": [
    "data <- c(\"Birla\", \"Tata\", \"Ambani\", \"Ambani\", \"Tata\", \"Birla\", \"Ambani\", \"Infy\" ,\"TCS\")"
   ]
  },
  {
   "cell_type": "code",
   "execution_count": 46,
   "id": "64645041-0627-425e-8ab1-07a322642ee1",
   "metadata": {},
   "outputs": [
    {
     "data": {
      "text/html": [
       "<style>\n",
       ".list-inline {list-style: none; margin:0; padding: 0}\n",
       ".list-inline>li {display: inline-block}\n",
       ".list-inline>li:not(:last-child)::after {content: \"\\00b7\"; padding: 0 .5ex}\n",
       "</style>\n",
       "<ol class=list-inline><li>'Birla'</li><li>'Tata'</li><li>'Ambani'</li><li>'Ambani'</li><li>'Tata'</li><li>'Birla'</li><li>'Ambani'</li><li>'Infy'</li><li>'TCS'</li></ol>\n"
      ],
      "text/latex": [
       "\\begin{enumerate*}\n",
       "\\item 'Birla'\n",
       "\\item 'Tata'\n",
       "\\item 'Ambani'\n",
       "\\item 'Ambani'\n",
       "\\item 'Tata'\n",
       "\\item 'Birla'\n",
       "\\item 'Ambani'\n",
       "\\item 'Infy'\n",
       "\\item 'TCS'\n",
       "\\end{enumerate*}\n"
      ],
      "text/markdown": [
       "1. 'Birla'\n",
       "2. 'Tata'\n",
       "3. 'Ambani'\n",
       "4. 'Ambani'\n",
       "5. 'Tata'\n",
       "6. 'Birla'\n",
       "7. 'Ambani'\n",
       "8. 'Infy'\n",
       "9. 'TCS'\n",
       "\n",
       "\n"
      ],
      "text/plain": [
       "[1] \"Birla\"  \"Tata\"   \"Ambani\" \"Ambani\" \"Tata\"   \"Birla\"  \"Ambani\" \"Infy\"  \n",
       "[9] \"TCS\"   "
      ]
     },
     "metadata": {},
     "output_type": "display_data"
    }
   ],
   "source": [
    "data"
   ]
  },
  {
   "cell_type": "code",
   "execution_count": 47,
   "id": "082bc377-d933-4cc1-85dd-dd14a62cb05b",
   "metadata": {},
   "outputs": [],
   "source": [
    "factor_data <- factor(data)"
   ]
  },
  {
   "cell_type": "code",
   "execution_count": 48,
   "id": "40b702fd-ce14-40af-8c8e-f726880eb2e0",
   "metadata": {},
   "outputs": [
    {
     "data": {
      "text/html": [
       "<style>\n",
       ".list-inline {list-style: none; margin:0; padding: 0}\n",
       ".list-inline>li {display: inline-block}\n",
       ".list-inline>li:not(:last-child)::after {content: \"\\00b7\"; padding: 0 .5ex}\n",
       "</style>\n",
       "<ol class=list-inline><li>Birla</li><li>Tata</li><li>Ambani</li><li>Ambani</li><li>Tata</li><li>Birla</li><li>Ambani</li><li>Infy</li><li>TCS</li></ol>\n",
       "\n",
       "<details>\n",
       "\t<summary style=display:list-item;cursor:pointer>\n",
       "\t\t<strong>Levels</strong>:\n",
       "\t</summary>\n",
       "\t<style>\n",
       "\t.list-inline {list-style: none; margin:0; padding: 0}\n",
       "\t.list-inline>li {display: inline-block}\n",
       "\t.list-inline>li:not(:last-child)::after {content: \"\\00b7\"; padding: 0 .5ex}\n",
       "\t</style>\n",
       "\t<ol class=list-inline><li>'Ambani'</li><li>'Birla'</li><li>'Infy'</li><li>'Tata'</li><li>'TCS'</li></ol>\n",
       "</details>"
      ],
      "text/latex": [
       "\\begin{enumerate*}\n",
       "\\item Birla\n",
       "\\item Tata\n",
       "\\item Ambani\n",
       "\\item Ambani\n",
       "\\item Tata\n",
       "\\item Birla\n",
       "\\item Ambani\n",
       "\\item Infy\n",
       "\\item TCS\n",
       "\\end{enumerate*}\n",
       "\n",
       "\\emph{Levels}: \\begin{enumerate*}\n",
       "\\item 'Ambani'\n",
       "\\item 'Birla'\n",
       "\\item 'Infy'\n",
       "\\item 'Tata'\n",
       "\\item 'TCS'\n",
       "\\end{enumerate*}\n"
      ],
      "text/markdown": [
       "1. Birla\n",
       "2. Tata\n",
       "3. Ambani\n",
       "4. Ambani\n",
       "5. Tata\n",
       "6. Birla\n",
       "7. Ambani\n",
       "8. Infy\n",
       "9. TCS\n",
       "\n",
       "\n",
       "\n",
       "**Levels**: 1. 'Ambani'\n",
       "2. 'Birla'\n",
       "3. 'Infy'\n",
       "4. 'Tata'\n",
       "5. 'TCS'\n",
       "\n",
       "\n"
      ],
      "text/plain": [
       "[1] Birla  Tata   Ambani Ambani Tata   Birla  Ambani Infy   TCS   \n",
       "Levels: Ambani Birla Infy Tata TCS"
      ]
     },
     "metadata": {},
     "output_type": "display_data"
    }
   ],
   "source": [
    "factor_data"
   ]
  },
  {
   "cell_type": "code",
   "execution_count": 52,
   "id": "16c5602f-0c45-4853-9b19-c1a32293029e",
   "metadata": {},
   "outputs": [
    {
     "data": {
      "text/html": [
       "5"
      ],
      "text/latex": [
       "5"
      ],
      "text/markdown": [
       "5"
      ],
      "text/plain": [
       "[1] 5"
      ]
     },
     "metadata": {},
     "output_type": "display_data"
    }
   ],
   "source": [
    "nlevels(factor_data)"
   ]
  },
  {
   "cell_type": "code",
   "execution_count": 54,
   "id": "75d5d0cd-a350-4357-a8af-54c5e93f71d5",
   "metadata": {},
   "outputs": [
    {
     "data": {
      "text/html": [
       "<style>\n",
       ".list-inline {list-style: none; margin:0; padding: 0}\n",
       ".list-inline>li {display: inline-block}\n",
       ".list-inline>li:not(:last-child)::after {content: \"\\00b7\"; padding: 0 .5ex}\n",
       "</style>\n",
       "<ol class=list-inline><li>'Ambani'</li><li>'Birla'</li><li>'Infy'</li><li>'Tata'</li><li>'TCS'</li></ol>\n"
      ],
      "text/latex": [
       "\\begin{enumerate*}\n",
       "\\item 'Ambani'\n",
       "\\item 'Birla'\n",
       "\\item 'Infy'\n",
       "\\item 'Tata'\n",
       "\\item 'TCS'\n",
       "\\end{enumerate*}\n"
      ],
      "text/markdown": [
       "1. 'Ambani'\n",
       "2. 'Birla'\n",
       "3. 'Infy'\n",
       "4. 'Tata'\n",
       "5. 'TCS'\n",
       "\n",
       "\n"
      ],
      "text/plain": [
       "[1] \"Ambani\" \"Birla\"  \"Infy\"   \"Tata\"   \"TCS\"   "
      ]
     },
     "metadata": {},
     "output_type": "display_data"
    }
   ],
   "source": [
    "levels(factor_data)"
   ]
  },
  {
   "cell_type": "code",
   "execution_count": 57,
   "id": "af3d27d4-2717-4eff-9e3e-8a4e45ad691f",
   "metadata": {},
   "outputs": [],
   "source": [
    "a= seq(from=5, to=-11, by= -0.3)"
   ]
  },
  {
   "cell_type": "code",
   "execution_count": 58,
   "id": "d5e27ca9-5577-449d-85b8-f05f2f01a9d6",
   "metadata": {},
   "outputs": [
    {
     "data": {
      "text/html": [
       "<style>\n",
       ".list-inline {list-style: none; margin:0; padding: 0}\n",
       ".list-inline>li {display: inline-block}\n",
       ".list-inline>li:not(:last-child)::after {content: \"\\00b7\"; padding: 0 .5ex}\n",
       "</style>\n",
       "<ol class=list-inline><li>-10.9</li><li>-10.6</li><li>-10.3</li><li>-10</li><li>-9.7</li><li>-9.4</li><li>-9.1</li><li>-8.8</li><li>-8.5</li><li>-8.2</li><li>-7.9</li><li>-7.6</li><li>-7.3</li><li>-7</li><li>-6.7</li><li>-6.4</li><li>-6.1</li><li>-5.8</li><li>-5.5</li><li>-5.2</li><li>-4.9</li><li>-4.6</li><li>-4.3</li><li>-4</li><li>-3.7</li><li>-3.4</li><li>-3.1</li><li>-2.8</li><li>-2.5</li><li>-2.2</li><li>-1.9</li><li>-1.6</li><li>-1.3</li><li>-1</li><li>-0.7</li><li>-0.399999999999999</li><li>-0.0999999999999996</li><li>0.2</li><li>0.5</li><li>0.8</li><li>1.1</li><li>1.4</li><li>1.7</li><li>2</li><li>2.3</li><li>2.6</li><li>2.9</li><li>3.2</li><li>3.5</li><li>3.8</li><li>4.1</li><li>4.4</li><li>4.7</li><li>5</li></ol>\n"
      ],
      "text/latex": [
       "\\begin{enumerate*}\n",
       "\\item -10.9\n",
       "\\item -10.6\n",
       "\\item -10.3\n",
       "\\item -10\n",
       "\\item -9.7\n",
       "\\item -9.4\n",
       "\\item -9.1\n",
       "\\item -8.8\n",
       "\\item -8.5\n",
       "\\item -8.2\n",
       "\\item -7.9\n",
       "\\item -7.6\n",
       "\\item -7.3\n",
       "\\item -7\n",
       "\\item -6.7\n",
       "\\item -6.4\n",
       "\\item -6.1\n",
       "\\item -5.8\n",
       "\\item -5.5\n",
       "\\item -5.2\n",
       "\\item -4.9\n",
       "\\item -4.6\n",
       "\\item -4.3\n",
       "\\item -4\n",
       "\\item -3.7\n",
       "\\item -3.4\n",
       "\\item -3.1\n",
       "\\item -2.8\n",
       "\\item -2.5\n",
       "\\item -2.2\n",
       "\\item -1.9\n",
       "\\item -1.6\n",
       "\\item -1.3\n",
       "\\item -1\n",
       "\\item -0.7\n",
       "\\item -0.399999999999999\n",
       "\\item -0.0999999999999996\n",
       "\\item 0.2\n",
       "\\item 0.5\n",
       "\\item 0.8\n",
       "\\item 1.1\n",
       "\\item 1.4\n",
       "\\item 1.7\n",
       "\\item 2\n",
       "\\item 2.3\n",
       "\\item 2.6\n",
       "\\item 2.9\n",
       "\\item 3.2\n",
       "\\item 3.5\n",
       "\\item 3.8\n",
       "\\item 4.1\n",
       "\\item 4.4\n",
       "\\item 4.7\n",
       "\\item 5\n",
       "\\end{enumerate*}\n"
      ],
      "text/markdown": [
       "1. -10.9\n",
       "2. -10.6\n",
       "3. -10.3\n",
       "4. -10\n",
       "5. -9.7\n",
       "6. -9.4\n",
       "7. -9.1\n",
       "8. -8.8\n",
       "9. -8.5\n",
       "10. -8.2\n",
       "11. -7.9\n",
       "12. -7.6\n",
       "13. -7.3\n",
       "14. -7\n",
       "15. -6.7\n",
       "16. -6.4\n",
       "17. -6.1\n",
       "18. -5.8\n",
       "19. -5.5\n",
       "20. -5.2\n",
       "21. -4.9\n",
       "22. -4.6\n",
       "23. -4.3\n",
       "24. -4\n",
       "25. -3.7\n",
       "26. -3.4\n",
       "27. -3.1\n",
       "28. -2.8\n",
       "29. -2.5\n",
       "30. -2.2\n",
       "31. -1.9\n",
       "32. -1.6\n",
       "33. -1.3\n",
       "34. -1\n",
       "35. -0.7\n",
       "36. -0.399999999999999\n",
       "37. -0.0999999999999996\n",
       "38. 0.2\n",
       "39. 0.5\n",
       "40. 0.8\n",
       "41. 1.1\n",
       "42. 1.4\n",
       "43. 1.7\n",
       "44. 2\n",
       "45. 2.3\n",
       "46. 2.6\n",
       "47. 2.9\n",
       "48. 3.2\n",
       "49. 3.5\n",
       "50. 3.8\n",
       "51. 4.1\n",
       "52. 4.4\n",
       "53. 4.7\n",
       "54. 5\n",
       "\n",
       "\n"
      ],
      "text/plain": [
       " [1] -10.9 -10.6 -10.3 -10.0  -9.7  -9.4  -9.1  -8.8  -8.5  -8.2  -7.9  -7.6\n",
       "[13]  -7.3  -7.0  -6.7  -6.4  -6.1  -5.8  -5.5  -5.2  -4.9  -4.6  -4.3  -4.0\n",
       "[25]  -3.7  -3.4  -3.1  -2.8  -2.5  -2.2  -1.9  -1.6  -1.3  -1.0  -0.7  -0.4\n",
       "[37]  -0.1   0.2   0.5   0.8   1.1   1.4   1.7   2.0   2.3   2.6   2.9   3.2\n",
       "[49]   3.5   3.8   4.1   4.4   4.7   5.0"
      ]
     },
     "metadata": {},
     "output_type": "display_data"
    }
   ],
   "source": [
    "sort(a)"
   ]
  },
  {
   "cell_type": "markdown",
   "id": "ea10b920-46b7-49c3-a98a-17b63d7070c1",
   "metadata": {},
   "source": [
    "## Exercise"
   ]
  },
  {
   "cell_type": "markdown",
   "id": "abe65409-9634-47ac-8241-9ab7675e7c22",
   "metadata": {},
   "source": [
    "1. Install following packages in R   \n",
    "jsonify, RMySQL, haven, XML,readxl"
   ]
  },
  {
   "cell_type": "markdown",
   "id": "41d88c23-6293-43b9-bde4-42ed2dbf3d27",
   "metadata": {},
   "source": [
    "2. Create and store a sequence of values from 5 to -11 that progresses in step of 0.3"
   ]
  },
  {
   "cell_type": "markdown",
   "id": "d8341141-f730-4b38-91ef-0cf8323fc478",
   "metadata": {},
   "source": [
    "3. Display the sequence element which created in point#2, sort in increasing order"
   ]
  },
  {
   "cell_type": "markdown",
   "id": "21bd4d17-d518-484e-8b97-c749acaf575e",
   "metadata": {},
   "source": [
    "4. Repeat vector c(-1,3,-5,7,-9) twice with each element repeated 10 times and store the result in a variable "
   ]
  },
  {
   "cell_type": "markdown",
   "id": "a9976285-7245-42f8-84f8-2d1b4b1dbe52",
   "metadata": {},
   "source": [
    "5. Find the lenght of vector which is created in point#4 "
   ]
  },
  {
   "cell_type": "markdown",
   "id": "2c7ad84b-818a-4841-baa4-51da83fba813",
   "metadata": {},
   "source": [
    "6. Construct and store a 4 x 2 matrix that’s filled row-wise with the values 4.3, 3.1, 8.2, 8.2, 3.2, 0.9, 1.6, and 6.5, in that order."
   ]
  },
  {
   "cell_type": "markdown",
   "id": "937734b8-404f-4bfe-b08e-d4bdde6c7e50",
   "metadata": {},
   "source": [
    "7. Store the bottom four elements of point#6  as a new 2 x 2 matrix.w"
   ]
  },
  {
   "attachments": {
    "a3c226e5-9978-45df-8aee-095084bb5187.PNG": {
     "image/png": "[encoded data removed]"
    }
   },
   "cell_type": "markdown",
   "id": "10c8c44d-45f8-474d-b54a-feab6cd37e6f",
   "metadata": {},
   "source": [
    "8. Calculate the following:\n",
    "\n",
    "![matrix.PNG](attachment:a3c226e5-9978-45df-8aee-095084bb5187.PNG)\n"
   ]
  },
  {
   "cell_type": "markdown",
   "id": "d785e408-929a-402a-8b34-fe82d56062d1",
   "metadata": {},
   "source": [
    "9. Store the following vector of 15 values as an object in your workspace: c(6,9,7,3,6,7,9,6,3,6,6,7,1,9,1).\n",
    "Identify the following elements:\n",
    "\n",
    "- Those equal to 6\n",
    "- Those greater than or equal to 6\n",
    "- Those less than 6 + 2\n",
    "- Those not equal to 6"
   ]
  },
  {
   "cell_type": "markdown",
   "id": "4fa5ac0e-bff3-440f-a112-24764a27c257",
   "metadata": {},
   "source": [
    "10. Store the vector c(7,1,7,10,5,9,10,3,10,8) as foo. Identify the elements greater than 5 OR equal to 2."
   ]
  },
  {
   "cell_type": "markdown",
   "id": "bac835e7-0f4b-424e-91a8-ba13cb4a53ef",
   "metadata": {},
   "source": [
    "11. Store the vector c(8,8,4,4,5,1,5,6,6,8) as bar. Identify the elements less than or equal to 6 AND not equal to 4."
   ]
  },
  {
   "attachments": {
    "7e7d8401-01d6-43ab-acc8-c14200c271d7.png": {
     "image/png": "[encoded data removed]"
    }
   },
   "cell_type": "markdown",
   "id": "3446913b-ae05-4c18-af40-44c20b650296",
   "metadata": {},
   "source": [
    "12. Create and store this data frame as df in your R workspace, and display all the person names\n",
    "\n",
    "![image.png](attachment:7e7d8401-01d6-43ab-acc8-c14200c271d7.png)\n"
   ]
  },
  {
   "attachments": {
    "b9a20e16-383b-45c5-b0d8-7b41b7960b2b.png": {
     "image/png": "[encoded data removed]"
    }
   },
   "cell_type": "markdown",
   "id": "2b96332e-4c50-49de-928c-5e32660266cd",
   "metadata": {},
   "source": [
    "13. Create and store this data frame as b in R workspce and display the dimentions and structure of b \n",
    "\n",
    "![image.png](attachment:b9a20e16-383b-45c5-b0d8-7b41b7960b2b.png)"
   ]
  }
 ],
 "metadata": {
  "kernelspec": {
   "display_name": "R",
   "language": "R",
   "name": "conda-env-r-r"
  },
  "language_info": {
   "codemirror_mode": "r",
   "file_extension": ".r",
   "mimetype": "text/x-r-source",
   "name": "R",
   "pygments_lexer": "r",
   "version": "3.5.1"
  }
 },
 "nbformat": 4,
 "nbformat_minor": 5
}
