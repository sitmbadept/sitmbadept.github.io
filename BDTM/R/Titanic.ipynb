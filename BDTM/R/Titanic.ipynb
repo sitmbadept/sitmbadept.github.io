{
 "cells": [
  {
   "cell_type": "markdown",
   "id": "c23087ac-51e9-43ad-a18c-516f07884740",
   "metadata": {
    "tags": []
   },
   "source": [
    "### Big Data Tools for Managers \n",
    "##### Dept. of MBA, Siddaganga Institute of Technology-Tumkur\n",
    "\n",
    "<br><br>\n",
    "#### Working with Titanic Dataset\n",
    "\n",
    "The files we just opened are available on the data page for the <a href=\"https://www.kaggle.com/competitions/titanic\" target=\"new\">Titanic competition on Kaggle</a>. That page also has a data dictionary, which explains the various columns that make up the data set. Below are the descriptions contained in that data dictionary:\n",
    "\n",
    "<a href=\"https://raw.githubusercontent.com/sitmbadept/sitmbadept.github.io/main/BDTM/R/titanic.csv\" download>Download Titanic data</a> \n",
    "##### Note: This link take you in another page and then click on File menu -> Save Page As -> Open file window and click on Save\n",
    "\n",
    "* **PassengerID**— A column added by Kaggle to identify each row and make sublessons easier\n",
    "* **Survived**— Whether the passenger survived or not and the value we are predicting (0=No, 1=Yes)\n",
    "* **Pclass**— The class of the ticket the passenger purchased (1=1st, 2=2nd, 3=3rd)\n",
    "* **Name**- The name of passenger’s\n",
    "* **Sex**— The passenger’s sex\n",
    "* **Age**— The passenger’s age in years\n",
    "* **SibSp**— The number of siblings or spouses the passenger had aboard the Titanic\n",
    "* **Parch**— The number of parents or children the passenger had aboard the Titanic\n",
    "* **Ticket**— The passenger’s ticket number\n",
    "* **Fare**— The fare the passenger paid\n",
    "* **Cabin**— The passenger’s cabin number\n",
    "* **Embarked**— The port where the passenger embarked (C=Cherbourg, Q=Queenstown, S=Southampton)\n",
    "\n",
    "<br><br><br><br><br><br><br>\n"
   ]
  },
  {
   "cell_type": "markdown",
   "id": "e4c2fbd1-ebeb-4165-ab7c-f04924f5e65c",
   "metadata": {},
   "source": [
    "### Write R Code for below questions. ###\n",
    "\n",
    "<ol>\n",
    "    <li>Read titanic dataset in R</li>\n",
    "    <li>Get the dimension of Titanic dataset</li>\n",
    "    <li>Display column names of dataset</li>\n",
    "    <li>View data in Excel like screen</li>\n",
    "    <li>Get Quick summary for all the columns</li>\n",
    "    <li>Indentify the Null(Missing) values for dataset</li>\n",
    "    <li>Get the passanger details which is has age 0.42year?</li>\n",
    "    <li>How many male and female are on Titanic?</li>\n",
    "    <li>What percentage of male and female are on Titanic?</li>\n",
    "    <li>Display the Female rows from the Dataset</li>\n",
    "    <li>Find out oldest Female in Passengers</li>\n",
    "    <li>Find out maximum Ticket Fare</li>\n",
    "    <li>Display the distribution of Fare variable in Histogram</li>\n",
    "    <li>Display the distribution of Age variable in Histogram</li>\n",
    "    <li>How many passengers got survived according to dataset</li>\n",
    "    <li>Display in Pie chart, How many passengers got survived according to dataset</li>\n",
    "    <li>Count the number of Passengers based on Pclass(1=1st, 2=2nd, 3=3rd)</li>\n",
    "    <li>Display in barplot the number of Passengers based on Pclass(1=1st, 2=2nd, 3=3rd)</li>\n",
    "    <li>Fill the color in Age distribution in Histogram</li>\n",
    "    <li>Sort the titanic dataset based on Age of passenger elder to younger</li>\n",
    "    \n",
    "</ol>\n",
    "\n",
    "\n",
    "**Note : This analysis is based on very few variables, you may have to practice yourself with remaing variables to get more hands-on with R & Data**\n",
    "\n",
    "\n",
    "\n",
    "<br><br><br><br>"
   ]
  },
  {
   "cell_type": "code",
   "execution_count": null,
   "id": "d4b40127-789d-4e6f-ba4c-5fbd4e1e73e7",
   "metadata": {},
   "outputs": [],
   "source": [
    "#1. Read titanic data in R\n",
    "data <- read.csv(\"titanic.csv\")"
   ]
  },
  {
   "cell_type": "code",
   "execution_count": null,
   "id": "42574418-9296-4acf-b961-170323cf3fec",
   "metadata": {},
   "outputs": [],
   "source": [
    "#2. Get the dimension of Titanic dataset\n",
    "dim(data)"
   ]
  },
  {
   "cell_type": "code",
   "execution_count": null,
   "id": "13031746-d9b4-4875-bff6-854eee76c749",
   "metadata": {},
   "outputs": [],
   "source": [
    "#3. Display column names of dataset\n",
    "colnames(data)"
   ]
  },
  {
   "cell_type": "code",
   "execution_count": null,
   "id": "99d6826c-1d8a-4479-8a33-c427dc4e94c4",
   "metadata": {},
   "outputs": [],
   "source": [
    "#4. View data in Excel like screen\n",
    "View(data)"
   ]
  },
  {
   "cell_type": "code",
   "execution_count": null,
   "id": "867b9b72-ac13-48ea-bd09-41dcba143ee7",
   "metadata": {},
   "outputs": [],
   "source": [
    "#5. Get Quick summary for all the columns\n",
    "summary(data)"
   ]
  },
  {
   "cell_type": "code",
   "execution_count": null,
   "id": "dfc1eb08-053e-4a67-976e-cbc202a09825",
   "metadata": {},
   "outputs": [],
   "source": [
    "#6. Indentify the Null(Missing) values for dataset\n",
    "colSums(is.na(data))\n",
    "# Age columns has missing values ~177 rows"
   ]
  },
  {
   "cell_type": "code",
   "execution_count": null,
   "id": "16ce949f-ca83-407e-a39c-ff3994739c99",
   "metadata": {},
   "outputs": [],
   "source": [
    "#7. Describe the Age column \n",
    "summary(data$Age)\n",
    "# Passangers are from 0.42 to 80years old"
   ]
  },
  {
   "cell_type": "code",
   "execution_count": null,
   "id": "4aa8fbdc-3b86-4c75-8d5b-2b611eed976f",
   "metadata": {},
   "outputs": [],
   "source": [
    "#8. Get the passanger details which is has age 0.42year?\n",
    "subset(data, Age==0.42) "
   ]
  },
  {
   "cell_type": "code",
   "execution_count": null,
   "id": "5b8d6e02-d3f6-4166-84c1-f0cee703bc29",
   "metadata": {},
   "outputs": [],
   "source": [
    "#9. How many male and female are on Titanic?\n",
    "table(data$Sex)\n",
    "# There are 314 Female and 577 Male"
   ]
  },
  {
   "cell_type": "code",
   "execution_count": null,
   "id": "e9a1c56b-9d4d-4340-b03e-56a9e02b39da",
   "metadata": {},
   "outputs": [],
   "source": [
    "#10. What percentage of male and female are on Titanic?\n",
    "gender_freq <- table(data$Sex)\n",
    "prop.table(gender_freq) * 100\n",
    "\n",
    "# There are 35% of Female and 65% are Male onboaded to Titanic "
   ]
  },
  {
   "cell_type": "code",
   "execution_count": null,
   "id": "75c48039-a10e-4ce7-94a3-eaecb0677c59",
   "metadata": {},
   "outputs": [],
   "source": [
    "#11. Display the Female rows from the Dataset\n",
    "subset(data, Sex==\"female\")"
   ]
  },
  {
   "cell_type": "code",
   "execution_count": null,
   "id": "66de6306-e57e-4e6b-95af-b7a9c837ffab",
   "metadata": {},
   "outputs": [],
   "source": [
    "#12 Find out oldest Female in Passengers\n",
    "temp <- subset(data, Sex==\"female\")\n",
    "max_age <- max(temp$Age, na.rm=TRUE) # Maximum Age for Female dataset, na.rm=TRUE ignore the null values from data\n",
    "\n",
    "subset(temp, Age==max_age)\n",
    "# There are two oldest passesange in Female and age is 63  "
   ]
  },
  {
   "cell_type": "code",
   "execution_count": null,
   "id": "fdc35998-c3f2-4096-adb8-c42a310fba40",
   "metadata": {},
   "outputs": [],
   "source": [
    "#12 Find out maximum Ticket Fare\n",
    "max(data$Fare)\n",
    "# The Maximum ticket fare is $512.32"
   ]
  },
  {
   "cell_type": "code",
   "execution_count": null,
   "id": "39ed1e41-99a7-4fd7-a56e-d63a209978ee",
   "metadata": {},
   "outputs": [],
   "source": [
    "#13. Display the distribution of Fare variable in Histogram\n",
    "hist(data$Fare, main=\"Distribution of Ticket Fare\")"
   ]
  },
  {
   "cell_type": "code",
   "execution_count": null,
   "id": "33719e22-c447-410f-92c2-c051fa8ab08a",
   "metadata": {},
   "outputs": [],
   "source": [
    "#13. Display the distribution of Age variable in Histogram\n",
    "hist(data$Age, main=\"Distribution of Age\")"
   ]
  },
  {
   "cell_type": "code",
   "execution_count": null,
   "id": "d5497a04-1beb-4113-bb91-bc67ee4eb94e",
   "metadata": {},
   "outputs": [],
   "source": [
    "#14. How many passengers got survived according to dataset\n",
    "table(data$Survived)\n",
    "# There are 342 Passengers got survived"
   ]
  },
  {
   "cell_type": "code",
   "execution_count": null,
   "id": "f17d4096-bd54-47c4-9d2c-3c9dbd0fa50d",
   "metadata": {},
   "outputs": [],
   "source": [
    "#15. Display in Pie chart, How many passengers got survived according to dataset\n",
    "res= table(data$Survived)\n",
    "pie(res,\n",
    "    main=\"Survived/Not-Survived Passenger\")"
   ]
  },
  {
   "cell_type": "code",
   "execution_count": null,
   "id": "4e51fbb9-652b-4f50-ab22-709abc0fe0d7",
   "metadata": {},
   "outputs": [],
   "source": [
    "#16. Based on gender who survived more\n",
    "table(data$Sex, data$Survived)\n",
    "# Female are survived more ~233"
   ]
  },
  {
   "cell_type": "code",
   "execution_count": null,
   "id": "00ee30b6-b59d-4726-bfc1-b1a9e96f474e",
   "metadata": {},
   "outputs": [],
   "source": [
    "#17. Count the number of Passengers based on Pclass(1=1st, 2=2nd, 3=3rd)\n",
    "table(data$Pclass)"
   ]
  },
  {
   "cell_type": "markdown",
   "id": "68520049-338f-4b14-88b9-27b45834a4d5",
   "metadata": {},
   "source": [
    "<br><Br><br><br><br><Br>"
   ]
  },
  {
   "cell_type": "code",
   "execution_count": null,
   "id": "1372e9a0-8f06-4772-9517-3753c75dde5f",
   "metadata": {},
   "outputs": [],
   "source": [
    "#18. Display in barplot the number of Passengers based on Pclass(1=1st, 2=2nd, 3=3rd)\n",
    "res = table(data$Pclass)\n",
    "barplot(res,\n",
    "        main=\"Number of Passengers based on Ticket Class\",\n",
    "        col=c(\"green\",\"blue\",\"red\")\n",
    "        )\n",
    "\n",
    "# we can give colours using col= parameters in all(pie, barplot, histogram) the graphs."
   ]
  },
  {
   "cell_type": "code",
   "execution_count": null,
   "id": "8182b268-0a5a-42a8-b48d-77df557d32b4",
   "metadata": {},
   "outputs": [],
   "source": [
    "# 19. Fill the color in Age distribution in Histogram\n",
    "hist(data$Age,\n",
    "    main=\"Distribution of Age with colour\",\n",
    "    col=\"yellow\")"
   ]
  },
  {
   "cell_type": "code",
   "execution_count": null,
   "id": "e8560af5-e808-42b9-a881-7dde563ee682",
   "metadata": {},
   "outputs": [],
   "source": [
    "#20. Sort the titanic dataset based on Age of passenger elder to younger\n",
    "data[order(data$Age, decreasing=TRUE),]"
   ]
  }
 ],
 "metadata": {
  "kernelspec": {
   "display_name": "R",
   "language": "R",
   "name": "conda-env-r-r"
  },
  "language_info": {
   "codemirror_mode": "r",
   "file_extension": ".r",
   "mimetype": "text/x-r-source",
   "name": "R",
   "pygments_lexer": "r",
   "version": "3.5.1"
  }
 },
 "nbformat": 4,
 "nbformat_minor": 5
}
