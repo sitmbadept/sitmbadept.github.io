{
 "cells": [
  {
   "cell_type": "markdown",
   "id": "fc2dd47a-c96b-410a-87ca-601b9df85ccc",
   "metadata": {},
   "source": [
    "### Big Data Tools for Managers \n",
    "##### Dept. of MBA, Siddaganga Institute of Technology-Tumkur\n",
    "\n",
    "<br><br>\n",
    "#### Working with Titanic Dataset\n",
    "\n",
    "The files we just opened are available on the data page for the <a href=\"https://www.kaggle.com/competitions/titanic\" target=\"new\">Titanic competition on Kaggle</a>. That page also has a data dictionary, which explains the various columns that make up the data set. Below are the descriptions contained in that data dictionary:\n",
    "\n",
    "\n",
    "Download Dataset:\n",
    "\n",
    "Link-1: https://raw.githubusercontent.com/sitmbadept/sitmbadept.github.io/main/BDTM/R/titanic.csv\n",
    "\n",
    "Link-2: https://drive.google.com/file/d/1LsrhPCyKceXWhtlqdGaYkSO_ufH6G8da/view?usp=sharing\n",
    "\n",
    "##### Note: This link take you in another page and then click on File menu -> Save Page As -> Open file window and click on Save\n",
    "\n",
    "* **PassengerID**— A column added by Kaggle to identify each row and make sublessons easier\n",
    "* **Survived**— Whether the passenger survived or not and the value we are predicting (0=No, 1=Yes)\n",
    "* **Pclass**— The class of the ticket the passenger purchased (1=1st, 2=2nd, 3=3rd)\n",
    "* **Name**- The name of passenger’s\n",
    "* **Sex**— The passenger’s sex\n",
    "* **Age**— The passenger’s age in years\n",
    "* **SibSp**— The number of siblings or spouses the passenger had aboard the Titanic\n",
    "* **Parch**— The number of parents or children the passenger had aboard the Titanic\n",
    "* **Ticket**— The passenger’s ticket number\n",
    "* **Fare**— The fare the passenger paid\n",
    "* **Cabin**— The passenger’s cabin number\n",
    "* **Embarked**— The port where the passenger embarked (C=Cherbourg, Q=Queenstown, S=Southampton)\n",
    "\n",
    "<br><br><br><br><br><br><br>\n"
   ]
  },
  {
   "cell_type": "markdown",
   "id": "fdb63e14-cd5d-4148-b1e9-86ffb0f7abc3",
   "metadata": {},
   "source": [
    "### Write Python Code for below questions. ###\n",
    "\n",
    "<ol>\n",
    "    <li>Import pandas library in Python</li>\n",
    "    <li>Read titanic dataset in Python</li>\n",
    "    <li>Get the dimension of Titanic dataset</li>\n",
    "    <li>Display column names of dataset</li>\n",
    "    <li>View data</li>\n",
    "    <li>Get Quick summary for all the columns</li>\n",
    "    <li>Indentify the Null(Missing) values for dataset</li>\n",
    "    <li>How many male and female are on Titanic?</li>\n",
    "    <li>Find out maximum Ticket Fare</li>\n",
    "    <li>How many passengers got survived according to dataset</li>\n",
    "    <li>Count the number of Passengers based on Pclass(1=1st, 2=2nd, 3=3rd)</li>\n",
    "</ol>\n",
    "\n",
    "\n",
    "**Note : This analysis is based on very few variables, you may have to practice yourself with remaing variables to get more hands-on with R & Data**\n",
    "\n",
    "\n",
    "\n",
    "<br><br><br><br>"
   ]
  },
  {
   "cell_type": "code",
   "execution_count": null,
   "id": "ce0d5d25-d187-451d-895e-d16832d1caf6",
   "metadata": {},
   "outputs": [],
   "source": [
    "# Import pandas library in Python\n",
    "\n",
    "# !pip install pandas #Execute this statement if you don't have download & install pandas library in your laptop\n",
    "import pandas as pd"
   ]
  },
  {
   "cell_type": "code",
   "execution_count": null,
   "id": "4d88e30f-8478-437a-8983-72edb66851da",
   "metadata": {},
   "outputs": [],
   "source": [
    "# Read titanic dataset in Python\n",
    "data = pd.read_csv(\"https://raw.githubusercontent.com/sitmbadept/sitmbadept.github.io/main/BDTM/R/titanic.csv\")"
   ]
  },
  {
   "cell_type": "code",
   "execution_count": null,
   "id": "6bc54469-4743-4611-aedc-a523d90bebcc",
   "metadata": {},
   "outputs": [],
   "source": [
    "# Get the dimension of Titanic dataset\n",
    "data.shape"
   ]
  },
  {
   "cell_type": "code",
   "execution_count": null,
   "id": "6fc29a6a-4e08-441b-92b9-a21406bdc06c",
   "metadata": {},
   "outputs": [],
   "source": [
    "# Display column names of dataset\n",
    "data.columns"
   ]
  },
  {
   "cell_type": "code",
   "execution_count": null,
   "id": "65e0dc18-3022-4b21-9d00-f40bead4d412",
   "metadata": {},
   "outputs": [],
   "source": [
    "# View data\n",
    "print(data)"
   ]
  },
  {
   "cell_type": "code",
   "execution_count": null,
   "id": "d23ab905-1223-4c7e-b269-89ffe7ee1a89",
   "metadata": {},
   "outputs": [],
   "source": [
    "# Get Quick summary for all the columns\n",
    "data.describe(include='all')"
   ]
  },
  {
   "cell_type": "code",
   "execution_count": null,
   "id": "9f00474f-2581-44d2-b9e7-fa888c4d7b5a",
   "metadata": {},
   "outputs": [],
   "source": [
    "# Indentify the Null(Missing) values for dataset\n",
    "data.isnull().sum()"
   ]
  },
  {
   "cell_type": "code",
   "execution_count": null,
   "id": "4d6f7cce-1610-4ab2-8ea1-711d37626ba1",
   "metadata": {},
   "outputs": [],
   "source": [
    "# How many male and female are on Titanic?\n",
    "data['Sex'].value_counts()"
   ]
  },
  {
   "cell_type": "code",
   "execution_count": null,
   "id": "5e237f62-77d3-461f-8dc1-dcb748c9c3a0",
   "metadata": {},
   "outputs": [],
   "source": [
    "# Find out maximum Ticket Fare\n",
    "data['Fare'].max()"
   ]
  },
  {
   "cell_type": "code",
   "execution_count": null,
   "id": "66c66295-deea-440b-bef2-07d74ef29ee7",
   "metadata": {},
   "outputs": [],
   "source": [
    "#How many passengers got survived according to dataset\n",
    "data['Survived'].value_counts()"
   ]
  },
  {
   "cell_type": "code",
   "execution_count": null,
   "id": "a1607408-bd5b-48f1-99a0-e78ded8a5a4b",
   "metadata": {},
   "outputs": [],
   "source": [
    "# Count the number of Passengers based on Pclass(1=1st, 2=2nd, 3=3rd)\n",
    "data['Pclass'].value_counts()"
   ]
  }
 ],
 "metadata": {
  "kernelspec": {
   "display_name": "Python 3 (ipykernel)",
   "language": "python",
   "name": "python3"
  },
  "language_info": {
   "codemirror_mode": {
    "name": "ipython",
    "version": 3
   },
   "file_extension": ".py",
   "mimetype": "text/x-python",
   "name": "python",
   "nbconvert_exporter": "python",
   "pygments_lexer": "ipython3",
   "version": "3.9.7"
  }
 },
 "nbformat": 4,
 "nbformat_minor": 5
}
