{
 "cells": [
  {
   "cell_type": "markdown",
   "metadata": {
    "id": "sKNAkbgQGiWf"
   },
   "source": [
    "Download the spacy library for the Text Analysis using Python"
   ]
  },
  {
   "cell_type": "code",
   "execution_count": 3,
   "metadata": {
    "colab": {
     "base_uri": "https://localhost:8080/"
    },
    "id": "0YspKvrJGtOq",
    "outputId": "be1b345b-69a6-486a-e615-5ae90af9d641"
   },
   "outputs": [],
   "source": [
    "!pip install spacy"
   ]
  },
  {
   "cell_type": "markdown",
   "metadata": {
    "id": "LoCoh96jGwtL"
   },
   "source": [
    "**Download Available trained pipelines for English**"
   ]
  },
  {
   "cell_type": "code",
   "execution_count": 4,
   "metadata": {
    "colab": {
     "base_uri": "https://localhost:8080/"
    },
    "id": "yP-lLYwQGBvh",
    "outputId": "1e3277a2-da65-4705-fae2-ea3d48849d65"
   },
   "outputs": [],
   "source": [
    "# Small English Pipeline. [ Size – 11 MB ]\n",
    "\n",
    "!python -m spacy download en_core_web_sm\n",
    "\n",
    "# Medium English Pipeline [ Size – 91 MB ]\n",
    "#!python -m spacy download en_core_web_md\n",
    "\n",
    "# Large English Pipeline  [ Size – 789 MB ]\n",
    "#!python -m spacy download en_core_web_lg"
   ]
  },
  {
   "cell_type": "markdown",
   "metadata": {
    "id": "eEcqFH7zHtrk"
   },
   "source": [
    "After downloading library, import for the further use."
   ]
  },
  {
   "cell_type": "code",
   "execution_count": 101,
   "metadata": {
    "id": "PC5tgeRLGJBo"
   },
   "outputs": [],
   "source": [
    "import spacy"
   ]
  },
  {
   "cell_type": "markdown",
   "metadata": {
    "id": "lUcku7rDH1Dz"
   },
   "source": [
    "Create object or engine using Small English Pipeline"
   ]
  },
  {
   "cell_type": "code",
   "execution_count": 116,
   "metadata": {
    "id": "TS5yjzJAcRUW"
   },
   "outputs": [],
   "source": [
    "import warnings\n",
    "warnings.filterwarnings(\"ignore\")"
   ]
  },
  {
   "cell_type": "code",
   "execution_count": 102,
   "metadata": {
    "id": "Jlp849X4GRRl"
   },
   "outputs": [],
   "source": [
    "text_engine = spacy.load(\"en_core_web_sm\")"
   ]
  },
  {
   "cell_type": "code",
   "execution_count": 103,
   "metadata": {
    "id": "SrONL8LlGT1-"
   },
   "outputs": [],
   "source": [
    "doc = text_engine(\"Apple is looking to buying U.K. startup for $1 billion.\")"
   ]
  },
  {
   "cell_type": "code",
   "execution_count": 104,
   "metadata": {
    "colab": {
     "base_uri": "https://localhost:8080/"
    },
    "id": "nzD5xEwjGVhh",
    "outputId": "10dedc25-c2bd-49fe-fd45-fe01b5e120e9"
   },
   "outputs": [
    {
     "name": "stdout",
     "output_type": "stream",
     "text": [
      "Apple\n",
      "is\n",
      "looking\n",
      "to\n",
      "buying\n",
      "U.K.\n",
      "startup\n",
      "for\n",
      "$\n",
      "1\n",
      "billion\n",
      ".\n"
     ]
    }
   ],
   "source": [
    "# Tokenization : Splitting Paragraphs/Sentences into words.\n",
    "for token in doc:\n",
    "    print(token.text)"
   ]
  },
  {
   "cell_type": "code",
   "execution_count": 105,
   "metadata": {
    "colab": {
     "base_uri": "https://localhost:8080/"
    },
    "id": "1Al_JqO7GWvq",
    "outputId": "c85f063e-33e2-4879-be3a-e1ce4c1e1ea8"
   },
   "outputs": [
    {
     "name": "stdout",
     "output_type": "stream",
     "text": [
      "-----------\n",
      "Apple\n",
      "-----------\n",
      "PROPN\n",
      "nsubj\n",
      "NNP\n",
      "True\n",
      "False\n",
      "Xxxxx\n",
      "Apple\n",
      "-----------\n",
      "is\n",
      "-----------\n",
      "AUX\n",
      "aux\n",
      "VBZ\n",
      "True\n",
      "True\n",
      "xx\n",
      "be\n",
      "-----------\n",
      "looking\n",
      "-----------\n",
      "VERB\n",
      "ROOT\n",
      "VBG\n",
      "True\n",
      "False\n",
      "xxxx\n",
      "look\n",
      "-----------\n",
      "to\n",
      "-----------\n",
      "ADP\n",
      "prep\n",
      "IN\n",
      "True\n",
      "True\n",
      "xx\n",
      "to\n",
      "-----------\n",
      "buying\n",
      "-----------\n",
      "VERB\n",
      "pcomp\n",
      "VBG\n",
      "True\n",
      "False\n",
      "xxxx\n",
      "buy\n",
      "-----------\n",
      "U.K.\n",
      "-----------\n",
      "PROPN\n",
      "dobj\n",
      "NNP\n",
      "False\n",
      "False\n",
      "X.X.\n",
      "U.K.\n",
      "-----------\n",
      "startup\n",
      "-----------\n",
      "NOUN\n",
      "dep\n",
      "NN\n",
      "True\n",
      "False\n",
      "xxxx\n",
      "startup\n",
      "-----------\n",
      "for\n",
      "-----------\n",
      "ADP\n",
      "prep\n",
      "IN\n",
      "True\n",
      "True\n",
      "xxx\n",
      "for\n",
      "-----------\n",
      "$\n",
      "-----------\n",
      "SYM\n",
      "quantmod\n",
      "$\n",
      "False\n",
      "False\n",
      "$\n",
      "$\n",
      "-----------\n",
      "1\n",
      "-----------\n",
      "NUM\n",
      "compound\n",
      "CD\n",
      "False\n",
      "False\n",
      "d\n",
      "1\n",
      "-----------\n",
      "billion\n",
      "-----------\n",
      "NUM\n",
      "pobj\n",
      "CD\n",
      "True\n",
      "False\n",
      "xxxx\n",
      "billion\n",
      "-----------\n",
      ".\n",
      "-----------\n",
      "PUNCT\n",
      "punct\n",
      ".\n",
      "False\n",
      "False\n",
      ".\n",
      ".\n"
     ]
    }
   ],
   "source": [
    "# Words details POS(Part of Speech), Dependency, Tag, Shape..etc\n",
    "for token in doc:\n",
    "    print(\"-----------\")\n",
    "    print(token.text)\n",
    "    print(\"-----------\")\n",
    "    print(token.pos_)\n",
    "    print(token.dep_)\n",
    "    print(token.tag_)\n",
    "    print(token.is_alpha)\n",
    "    print(token.is_stop)\n",
    "    print(token.shape_)\n",
    "    print(token.lemma_)"
   ]
  },
  {
   "cell_type": "code",
   "execution_count": 106,
   "metadata": {
    "id": "Sa3R1We7I7Kb"
   },
   "outputs": [],
   "source": [
    "# Lemmatization: process of getting root word.\n",
    "# Example: going   --> go\n",
    "#          reading --> read\n",
    "#          working --> work\n",
    "\n",
    "sample = text_engine(\"going to office\")"
   ]
  },
  {
   "cell_type": "code",
   "execution_count": 107,
   "metadata": {
    "colab": {
     "base_uri": "https://localhost:8080/"
    },
    "id": "cAXW81niJNu-",
    "outputId": "121fc0d2-ff10-466b-dcd5-ea4fa4b268d1"
   },
   "outputs": [
    {
     "name": "stdout",
     "output_type": "stream",
     "text": [
      "--------------------------------------------------\n",
      "Original Text         :  going\n",
      "Lemmatization         :  go\n",
      "POS(Part of Speech)   :  VERB\n",
      "--------------------------------------------------\n",
      "Original Text         :  to\n",
      "Lemmatization         :  to\n",
      "POS(Part of Speech)   :  ADP\n",
      "--------------------------------------------------\n",
      "Original Text         :  office\n",
      "Lemmatization         :  office\n",
      "POS(Part of Speech)   :  NOUN\n"
     ]
    }
   ],
   "source": [
    "for token in sample:\n",
    "    print(\"--------------------------------------------------\")\n",
    "    print(\"Original Text         : \", token.text)\n",
    "    print(\"Lemmatization         : \", token.lemma_)\n",
    "    print(\"POS(Part of Speech)   : \", token.pos_)"
   ]
  },
  {
   "cell_type": "code",
   "execution_count": 108,
   "metadata": {
    "colab": {
     "base_uri": "https://localhost:8080/"
    },
    "id": "nUt-TrCmJP5l",
    "outputId": "92cdc160-1779-4544-90b8-eba1c5118a15"
   },
   "outputs": [
    {
     "name": "stdout",
     "output_type": "stream",
     "text": [
      "--------------------------------------------------\n",
      "Original Text      :  Apple\n",
      "Entity Tag         :  ORG\n",
      "--------------------------------------------------\n",
      "Original Text      :  U.K.\n",
      "Entity Tag         :  GPE\n",
      "--------------------------------------------------\n",
      "Original Text      :  $1 billion\n",
      "Entity Tag         :  MONEY\n"
     ]
    }
   ],
   "source": [
    "# Named Entities\n",
    "# Real world entities name like Country, City, Fruits, Animal, Product, books...etc\n",
    "\n",
    "doc = text_engine(\"Apple is looking to buying U.K. startup for $1 billion\")\n",
    "\n",
    "for ent in doc.ents:\n",
    "    print(\"--------------------------------------------------\")\n",
    "    print(\"Original Text      : \", ent.text)\n",
    "    print(\"Entity Tag         : \", ent.label_)\n",
    "\n",
    "# GPE: Geopolitical Entity\n",
    "# ORG: Organization"
   ]
  },
  {
   "cell_type": "code",
   "execution_count": 109,
   "metadata": {
    "id": "yIFWgotYKdR8"
   },
   "outputs": [],
   "source": [
    "# List English Stop words\n",
    "# Stop words are common words used to form the sentenses\n",
    "\n",
    "news = \"\"\"\n",
    "Apple is looking to buying U.K. startup for $1 billion.\n",
    "\"\"\"\n",
    "\n",
    "sample = text_engine(news)\n"
   ]
  },
  {
   "cell_type": "code",
   "execution_count": 110,
   "metadata": {
    "colab": {
     "base_uri": "https://localhost:8080/"
    },
    "id": "j4l2SxvMOWDI",
    "outputId": "5a2abbd1-9002-47a3-fd35-baf1a4a35b0e"
   },
   "outputs": [
    {
     "name": "stdout",
     "output_type": "stream",
     "text": [
      "is\n",
      "to\n",
      "for\n"
     ]
    }
   ],
   "source": [
    "# List Stop Words\n",
    "for token in sample:\n",
    "    if token.is_stop == True:\n",
    "        print(token.text)"
   ]
  },
  {
   "cell_type": "code",
   "execution_count": 111,
   "metadata": {
    "colab": {
     "base_uri": "https://localhost:8080/"
    },
    "id": "iMVNa6RfLC4i",
    "outputId": "589dc415-d843-4f50-c96d-3aad3f0e02bb"
   },
   "outputs": [
    {
     "name": "stdout",
     "output_type": "stream",
     "text": [
      "\n",
      "\n",
      "Apple\n",
      "looking\n",
      "buying\n",
      "U.K.\n",
      "startup\n",
      "$\n",
      "1\n",
      "billion\n",
      ".\n",
      "\n",
      "\n"
     ]
    }
   ],
   "source": [
    "# Remove Stop Words\n",
    "for token in sample:\n",
    "    if token.is_stop == False:\n",
    "        print(token.text)"
   ]
  },
  {
   "cell_type": "code",
   "execution_count": 112,
   "metadata": {
    "colab": {
     "base_uri": "https://localhost:8080/"
    },
    "id": "fmzMzJUQLMiO",
    "outputId": "51ebc5c8-b5e9-4809-8819-345f894b1766"
   },
   "outputs": [
    {
     "name": "stdout",
     "output_type": "stream",
     "text": [
      "Apple ORG\n",
      "U.K. GPE\n",
      "$1 billion MONEY\n"
     ]
    }
   ],
   "source": [
    "# Display Entity Name\n",
    "for ent in sample.ents:\n",
    "    print(ent.text, ent.label_)"
   ]
  },
  {
   "cell_type": "code",
   "execution_count": 113,
   "metadata": {
    "id": "UkbPhLezLSso"
   },
   "outputs": [],
   "source": [
    "from wordcloud import WordCloud, STOPWORDS\n",
    "import matplotlib.pyplot as plt"
   ]
  },
  {
   "cell_type": "code",
   "execution_count": 114,
   "metadata": {
    "colab": {
     "base_uri": "https://localhost:8080/",
     "height": 406
    },
    "id": "cpD0Uhv0L5VP",
    "outputId": "c136b300-3124-4a48-94a7-db15071c697f"
   },
   "outputs": [
    {
     "data": {
      "image/png": "[encoded data removed]",
      "text/plain": [
       "<Figure size 640x480 with 1 Axes>"
      ]
     },
     "metadata": {},
     "output_type": "display_data"
    }
   ],
   "source": [
    "wordcloud = WordCloud(stopwords=STOPWORDS, max_words=100, background_color='white', width=800, height=600).generate(news)\n",
    "\n",
    "plt.imshow(wordcloud, interpolation='bilinear')\n",
    "plt.axis(\"off\")\n",
    "plt.show()"
   ]
  },
  {
   "cell_type": "code",
   "execution_count": 120,
   "metadata": {
    "colab": {
     "base_uri": "https://localhost:8080/"
    },
    "id": "jThh1_iFL_8d",
    "outputId": "8eb11e7f-13ce-4b22-cf63-8c154298f849"
   },
   "outputs": [
    {
     "data": {
      "text/plain": [
       "0.9664888651449254"
      ]
     },
     "execution_count": 120,
     "metadata": {},
     "output_type": "execute_result"
    }
   ],
   "source": [
    "# Similarity between two sentence & words with respect to context.\n",
    "sent1 = text_engine(\"I'm going to College.\")\n",
    "sent2 = text_engine(\"I'm going to School.\")\n",
    "\n",
    "sent1.similarity(sent2)"
   ]
  },
  {
   "cell_type": "code",
   "execution_count": 122,
   "metadata": {
    "colab": {
     "base_uri": "https://localhost:8080/"
    },
    "id": "I0ATWhb3OoMr",
    "outputId": "993861a2-6eae-4d71-e84f-cea299eedc80"
   },
   "outputs": [
    {
     "data": {
      "text/plain": [
       "0.3508002880727384"
      ]
     },
     "execution_count": 122,
     "metadata": {},
     "output_type": "execute_result"
    }
   ],
   "source": [
    "\n",
    "sent1 = text_engine(\"I'm going to College.\")\n",
    "sent2 = text_engine(\"Students played well.\")\n",
    "\n",
    "sent1.similarity(sent2)"
   ]
  }
 ],
 "metadata": {
  "colab": {
   "provenance": []
  },
  "kernelspec": {
   "display_name": "Python 3 (ipykernel)",
   "language": "python",
   "name": "python3"
  },
  "language_info": {
   "codemirror_mode": {
    "name": "ipython",
    "version": 3
   },
   "file_extension": ".py",
   "mimetype": "text/x-python",
   "name": "python",
   "nbconvert_exporter": "python",
   "pygments_lexer": "ipython3",
   "version": "3.9.7"
  }
 },
 "nbformat": 4,
 "nbformat_minor": 4
}
